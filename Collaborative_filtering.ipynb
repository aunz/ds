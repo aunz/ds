{
  "nbformat": 4,
  "nbformat_minor": 0,
  "metadata": {
    "colab": {
      "name": "Collaborative filtering",
      "version": "0.3.2",
      "provenance": [],
      "collapsed_sections": []
    },
    "kernelspec": {
      "name": "python3",
      "display_name": "Python 3"
    },
    "accelerator": "GPU"
  },
  "cells": [
    {
      "metadata": {
        "id": "DZf0RamaTKke",
        "colab_type": "text"
      },
      "cell_type": "markdown",
      "source": [
        "# Collaborative Filtering"
      ]
    },
    {
      "metadata": {
        "id": "GxkvJIEzTGa2",
        "colab_type": "code",
        "colab": {}
      },
      "cell_type": "code",
      "source": [
        "import numpy as np\n",
        "import pandas as pd\n",
        "import matplotlib.pyplot as plt"
      ],
      "execution_count": 0,
      "outputs": []
    },
    {
      "metadata": {
        "id": "Gn2zQYItXREa",
        "colab_type": "text"
      },
      "cell_type": "markdown",
      "source": [
        "Fetch the format the data. It has:\n",
        "- 943 users\n",
        "- 1682 movies\n",
        "- The sparsity is 6.3%, which means 6.3% of the dataset has some ratings"
      ]
    },
    {
      "metadata": {
        "id": "lQNkkUc1TTBv",
        "colab_type": "code",
        "colab": {
          "base_uri": "https://localhost:8080/",
          "height": 788
        },
        "outputId": "6201d9b1-60b5-4c8d-b52a-ab613df870e5"
      },
      "cell_type": "code",
      "source": [
        "%%time\n",
        "!curl -O http://files.grouplens.org/datasets/movielens/ml-100k.zip\n",
        "!unzip ml-100k.zip\n",
        "\n",
        "data = pd.read_csv('./ml-100k/u.data', sep='\\t', names=['user_id', 'item_id', 'rating', 'timestamp'])\n",
        "print(data.head())\n",
        "\n",
        "# re-format the dataset to user_id x item_id (row x column)\n",
        "data = data.pivot(index='user_id', columns='item_id', values='rating') # this is a user-by-item matrix\n",
        "data.fillna(0, inplace=True) # fill NaN with 0\n",
        "\n",
        "# some simple stats\n",
        "print('User: {}, item: {}'.format(*data.shape))\n",
        "print(f'Sparsity: {((data > 0).sum().sum() / (data.shape[0] * data.shape[1]) * 100):.2f}%') # number of non-zero devided by total number of cells"
      ],
      "execution_count": 3,
      "outputs": [
        {
          "output_type": "stream",
          "text": [
            "  % Total    % Received % Xferd  Average Speed   Time    Time     Time  Current\n",
            "                                 Dload  Upload   Total   Spent    Left  Speed\n",
            "\r  0     0    0     0    0     0      0      0 --:--:-- --:--:-- --:--:--     0\r  0     0    0     0    0     0      0      0 --:--:-- --:--:-- --:--:--     0\r100 4808k  100 4808k    0     0  4592k      0  0:00:01  0:00:01 --:--:-- 4592k\n",
            "Archive:  ml-100k.zip\n",
            "replace ml-100k/allbut.pl? [y]es, [n]o, [A]ll, [N]one, [r]ename: a\n",
            "error:  invalid response [a]\n",
            "replace ml-100k/allbut.pl? [y]es, [n]o, [A]ll, [N]one, [r]ename: a\n",
            "error:  invalid response [a]\n",
            "replace ml-100k/allbut.pl? [y]es, [n]o, [A]ll, [N]one, [r]ename: A\n",
            "  inflating: ml-100k/allbut.pl       \n",
            "  inflating: ml-100k/mku.sh          \n",
            "  inflating: ml-100k/README          \n",
            "  inflating: ml-100k/u.data          \n",
            "  inflating: ml-100k/u.genre         \n",
            "  inflating: ml-100k/u.info          \n",
            "  inflating: ml-100k/u.item          \n",
            "  inflating: ml-100k/u.occupation    \n",
            "  inflating: ml-100k/u.user          \n",
            "  inflating: ml-100k/u1.base         \n",
            "  inflating: ml-100k/u1.test         \n",
            "  inflating: ml-100k/u2.base         \n",
            "  inflating: ml-100k/u2.test         \n",
            "  inflating: ml-100k/u3.base         \n",
            "  inflating: ml-100k/u3.test         \n",
            "  inflating: ml-100k/u4.base         \n",
            "  inflating: ml-100k/u4.test         \n",
            "  inflating: ml-100k/u5.base         \n",
            "  inflating: ml-100k/u5.test         \n",
            "  inflating: ml-100k/ua.base         \n",
            "  inflating: ml-100k/ua.test         \n",
            "  inflating: ml-100k/ub.base         \n",
            "  inflating: ml-100k/ub.test         \n",
            "   user_id  item_id  rating  timestamp\n",
            "0      196      242       3  881250949\n",
            "1      186      302       3  891717742\n",
            "2       22      377       1  878887116\n",
            "3      244       51       2  880606923\n",
            "4      166      346       1  886397596\n",
            "User: 943, item: 1682\n",
            "Sparsity: 6.30%\n",
            "CPU times: user 233 ms, sys: 47.4 ms, total: 280 ms\n",
            "Wall time: 20 s\n"
          ],
          "name": "stdout"
        }
      ]
    },
    {
      "metadata": {
        "id": "ViZ74SDMXceT",
        "colab_type": "text"
      },
      "cell_type": "markdown",
      "source": [
        "- Ratings are 1, 2, 3, 4, 5. The majority is 4. Zero means no rating.\n",
        "- Each user rated at least 20 items, the median is 65\n",
        "- Each item received at least 1 rating, the median is 27\n"
      ]
    },
    {
      "metadata": {
        "id": "rnBp-olHT2ST",
        "colab_type": "code",
        "colab": {
          "base_uri": "https://localhost:8080/",
          "height": 429
        },
        "outputId": "393edf90-0253-4d09-97d7-d5e0d4c4751b"
      },
      "cell_type": "code",
      "source": [
        "print(pd.Series(data.values.ravel()).value_counts())\n",
        "\n",
        "pd.concat([\n",
        "    data.apply(lambda x: (x != 0).sum(), 1).describe(), # user, by row\n",
        "    data.apply(lambda x: (x != 0).sum(), 0).describe() # item, by col\n",
        "], 1, keys=['user', 'item'])"
      ],
      "execution_count": 4,
      "outputs": [
        {
          "output_type": "stream",
          "text": [
            "0.0    1486126\n",
            "4.0      34174\n",
            "3.0      27145\n",
            "5.0      21201\n",
            "2.0      11370\n",
            "1.0       6110\n",
            "dtype: int64\n"
          ],
          "name": "stdout"
        },
        {
          "output_type": "execute_result",
          "data": {
            "text/html": [
              "<div>\n",
              "<style scoped>\n",
              "    .dataframe tbody tr th:only-of-type {\n",
              "        vertical-align: middle;\n",
              "    }\n",
              "\n",
              "    .dataframe tbody tr th {\n",
              "        vertical-align: top;\n",
              "    }\n",
              "\n",
              "    .dataframe thead th {\n",
              "        text-align: right;\n",
              "    }\n",
              "</style>\n",
              "<table border=\"1\" class=\"dataframe\">\n",
              "  <thead>\n",
              "    <tr style=\"text-align: right;\">\n",
              "      <th></th>\n",
              "      <th>user</th>\n",
              "      <th>item</th>\n",
              "    </tr>\n",
              "  </thead>\n",
              "  <tbody>\n",
              "    <tr>\n",
              "      <th>count</th>\n",
              "      <td>943.000000</td>\n",
              "      <td>1682.000000</td>\n",
              "    </tr>\n",
              "    <tr>\n",
              "      <th>mean</th>\n",
              "      <td>106.044539</td>\n",
              "      <td>59.453032</td>\n",
              "    </tr>\n",
              "    <tr>\n",
              "      <th>std</th>\n",
              "      <td>100.931743</td>\n",
              "      <td>80.383846</td>\n",
              "    </tr>\n",
              "    <tr>\n",
              "      <th>min</th>\n",
              "      <td>20.000000</td>\n",
              "      <td>1.000000</td>\n",
              "    </tr>\n",
              "    <tr>\n",
              "      <th>25%</th>\n",
              "      <td>33.000000</td>\n",
              "      <td>6.000000</td>\n",
              "    </tr>\n",
              "    <tr>\n",
              "      <th>50%</th>\n",
              "      <td>65.000000</td>\n",
              "      <td>27.000000</td>\n",
              "    </tr>\n",
              "    <tr>\n",
              "      <th>75%</th>\n",
              "      <td>148.000000</td>\n",
              "      <td>80.000000</td>\n",
              "    </tr>\n",
              "    <tr>\n",
              "      <th>max</th>\n",
              "      <td>737.000000</td>\n",
              "      <td>583.000000</td>\n",
              "    </tr>\n",
              "  </tbody>\n",
              "</table>\n",
              "</div>"
            ],
            "text/plain": [
              "             user         item\n",
              "count  943.000000  1682.000000\n",
              "mean   106.044539    59.453032\n",
              "std    100.931743    80.383846\n",
              "min     20.000000     1.000000\n",
              "25%     33.000000     6.000000\n",
              "50%     65.000000    27.000000\n",
              "75%    148.000000    80.000000\n",
              "max    737.000000   583.000000"
            ]
          },
          "metadata": {
            "tags": []
          },
          "execution_count": 4
        }
      ]
    },
    {
      "metadata": {
        "id": "oBzevxrNZOVX",
        "colab_type": "text"
      },
      "cell_type": "markdown",
      "source": [
        "We will split the data into train and test set, by removing 10 ratings per user from the train set and putting them into the test set"
      ]
    },
    {
      "metadata": {
        "id": "8KlsJDlKZOgu",
        "colab_type": "code",
        "colab": {
          "base_uri": "https://localhost:8080/",
          "height": 54
        },
        "outputId": "cae2da92-c4e4-485a-c594-d45728b44689"
      },
      "cell_type": "code",
      "source": [
        "train = np.zeros_like(data)\n",
        "test = np.zeros_like(data)\n",
        "\n",
        "np.random.seed(0)\n",
        "for i, row in enumerate(np.array(data)):\n",
        "    test_index = np.random.choice(row.nonzero()[0], size=10, replace=False) # take out 10 random non-zero item without replacement from the row\n",
        "    train[i] = row.copy()\n",
        "    train[i, test_index] = 0 # in the train set, these will be turned into 0\n",
        "    test[i, test_index] = row[test_index]\n",
        "\n",
        "assert(np.all((train * test) == 0)) # train & test set are fully disjoint\n",
        "\n",
        "print('train set sparsity (%):', np.count_nonzero(train) / (train.shape[0] * train.shape[1]) * 100)\n",
        "print('test set sparsity (%):', np.count_nonzero(test) / (test.shape[0] * test.shape[1]) * 100)"
      ],
      "execution_count": 5,
      "outputs": [
        {
          "output_type": "stream",
          "text": [
            "train set sparsity (%): 5.710139043178159\n",
            "test set sparsity (%): 0.5945303210463734\n"
          ],
          "name": "stdout"
        }
      ]
    },
    {
      "metadata": {
        "id": "XFh-LSs-jGFo",
        "colab_type": "text"
      },
      "cell_type": "markdown",
      "source": [
        "### Collaborative filtering\n",
        "\n",
        "There are 2 types:\n",
        "- User based\n",
        "- Item based\n",
        "\n",
        "For either type, we will build a similarity matrix consisting of distances that mearuse the similairty between tow data points.\n",
        "- For user based, this is the distance between any two pairs of users\n",
        "- For tiem based, this is the distance between any two pairs of items.\n",
        "\n",
        "### How do we measure similarity?\n",
        "One of the most popular is [cosine similarity](https://en.wikipedia.org/wiki/Cosine_similarity).\n",
        "\n",
        "We can imagine each user is a vector in a N-dimensional space of N-items. If two users have rated the same items, their vectors will point to the same direction and their cosine-similarity is 1. If they rated different items, their vectors will point to different directions. If the direction is completely opposite, the cosine-similarity is -1. If the direction is orthogonal (they rated items exclusive to one another), the cosine-similarity is 0.\n",
        "\n",
        "\n",
        "The other option is [pearson correlation](https://en.wikipedia.org/wiki/Pearson_correlation_coefficient)"
      ]
    },
    {
      "metadata": {
        "id": "Fk3_os0pOXCM",
        "colab_type": "code",
        "colab": {
          "base_uri": "https://localhost:8080/",
          "height": 72
        },
        "outputId": "5ff8bade-9a67-49b7-e2c9-04c5949db991"
      },
      "cell_type": "code",
      "source": [
        "pairwise_distances(np.array([1,2,3, 4, 4, 5, 5, 0, 7]).reshape(-1, 3), metric='cosine')"
      ],
      "execution_count": 356,
      "outputs": [
        {
          "output_type": "execute_result",
          "data": {
            "text/plain": [
              "array([[0.        , 0.04421036, 0.1922193 ],\n",
              "       [0.04421036, 0.        , 0.15314433],\n",
              "       [0.1922193 , 0.15314433, 0.        ]])"
            ]
          },
          "metadata": {
            "tags": []
          },
          "execution_count": 356
        }
      ]
    },
    {
      "metadata": {
        "id": "1TaVjpJviOQs",
        "colab_type": "code",
        "colab": {
          "base_uri": "https://localhost:8080/",
          "height": 256
        },
        "outputId": "9212db8b-f55a-4c15-c468-5bc1c6ed1bf6"
      },
      "cell_type": "code",
      "source": [
        "from sklearn.metrics.pairwise import pairwise_distances, cosine_similarity\n",
        "\n",
        "# calculate similarity\n",
        "sim_user = 1 - pairwise_distances(train, metric='cosine') # user based, 1 - distance = similarity\n",
        "sim_item =  1 - pairwise_distances(train.T, metric='cosine') # item based, just transpose\n",
        "\n",
        "print('user based', sim_user.shape, '\\n', sim_user[:5, :5])\n",
        "print('\\nitem based', sim_item.shape, '\\n', sim_item[:5, :5])"
      ],
      "execution_count": 6,
      "outputs": [
        {
          "output_type": "stream",
          "text": [
            "user based (943, 943) \n",
            " [[1.         0.14971307 0.03905355 0.05301196 0.36493224]\n",
            " [0.14971307 1.         0.11611837 0.15900017 0.07995677]\n",
            " [0.03905355 0.11611837 1.         0.21029038 0.02425788]\n",
            " [0.05301196 0.15900017 0.21029038 1.         0.02781854]\n",
            " [0.36493224 0.07995677 0.02425788 0.02781854 1.        ]]\n",
            "\n",
            "item based (1682, 1682) \n",
            " [[1.         0.4221154  0.31424115 0.44777373 0.30245373]\n",
            " [0.4221154  1.         0.2636396  0.45970359 0.32723722]\n",
            " [0.31424115 0.2636396  1.         0.34738525 0.22612435]\n",
            " [0.44777373 0.45970359 0.34738525 1.         0.35602466]\n",
            " [0.30245373 0.32723722 0.22612435 0.35602466 1.        ]]\n"
          ],
          "name": "stdout"
        }
      ]
    },
    {
      "metadata": {
        "id": "5Hf_S1VgrKf_",
        "colab_type": "text"
      },
      "cell_type": "markdown",
      "source": [
        "For user-based collaborative filtering, we predict user $u$'s rating for item $i$ is the weighted sum of all other users’ ratings for item $i$ where the weighting is the cosine similarity between the each user and the user $u$ of interest."
      ]
    },
    {
      "metadata": {
        "id": "oXBkUEoGpeyj",
        "colab_type": "code",
        "colab": {}
      },
      "cell_type": "code",
      "source": [
        "def predict(ratings, similarity):\n",
        "    # example: predict(data.iloc[:, [10]], sim_user[[2]]) to predict user2's rating for item10\n",
        "    # predict(data.T.iloc[:, [20]], sim_item[[6]]) to predict item6's rating from user20\n",
        "    tmp = similarity.dot(ratings) # dot product to get the rating\n",
        "    tmp /= np.abs(similarity).sum(1).reshape(-1, 1) # normalised by number of ratings\n",
        "    tmp = np.round(tmp, 0) # round to nearest 0\n",
        "    return tmp\n",
        "\n",
        "# predict(train[:,:10], sim_user[[0, 1, 2]])"
      ],
      "execution_count": 0,
      "outputs": []
    },
    {
      "metadata": {
        "id": "S5oL3gor1L11",
        "colab_type": "text"
      },
      "cell_type": "markdown",
      "source": [
        "Now we can defien a metric to measure how good our predictions are. In this case we use mse\n",
        "\n",
        "We can see that user based are a little bit better than item based"
      ]
    },
    {
      "metadata": {
        "id": "MbBQVGE-0r4u",
        "colab_type": "code",
        "colab": {
          "base_uri": "https://localhost:8080/",
          "height": 403
        },
        "outputId": "23cec1d7-7bd9-4f76-e89c-8db86212abdc"
      },
      "cell_type": "code",
      "source": [
        "from sklearn.metrics import mean_squared_error as score\n",
        "\n",
        "# def score(y_true, y_pred):\n",
        "#     tmp = np.sum((y_true != 0) | (y_pred != 0)) # number of non-zero items\n",
        "#     tmp = np.sum((y_true == y_pred) & (y_true != 0) & (y_pred != 0)) / tmp # number of correct labels without counting zero\n",
        "#     return tmp\n",
        "\n",
        "# user based\n",
        "tmp = predict(train, sim_user)\n",
        "print(f'''User based\n",
        "Train set\n",
        "Min rating: {tmp.min()}\n",
        "Max rating: {tmp.max()}\n",
        "Score: {score(train, tmp):.4f}''')\n",
        "\n",
        "print(f'''\n",
        "Test set\n",
        "Min rating: {tmp.min()}\n",
        "Max rating: {tmp.max()}\n",
        "Score: {score(test, tmp):.4f}''')\n",
        "\n",
        "\n",
        "# # item based\n",
        "tmp = predict(train.T, sim_item)\n",
        "print(f'''\n",
        "Item based\n",
        "Train set\n",
        "Min rating: {tmp.min()}\n",
        "Max rating: {tmp.max()}\n",
        "Score: {score(train.T, tmp):.4f}''')\n",
        "\n",
        "print(f'''\n",
        "Test set\n",
        "Min rating: {tmp.min()}\n",
        "Max rating: {tmp.max()}\n",
        "Score: {score(test.T, tmp):.4f}''')"
      ],
      "execution_count": 331,
      "outputs": [
        {
          "output_type": "stream",
          "text": [
            "User based\n",
            "Train set\n",
            "Min rating: 0.0\n",
            "Max rating: 4.0\n",
            "Score: 0.6225\n",
            "\n",
            "Test set\n",
            "Min rating: 0.0\n",
            "Max rating: 4.0\n",
            "Score: 0.2717\n",
            "\n",
            "Item based\n",
            "Train set\n",
            "Min rating: 0.0\n",
            "Max rating: 4.0\n",
            "Score: 0.6894\n",
            "\n",
            "Test set\n",
            "Min rating: 0.0\n",
            "Max rating: 4.0\n",
            "Score: 0.3049\n"
          ],
          "name": "stdout"
        }
      ]
    },
    {
      "metadata": {
        "id": "0ApUY7Z_kfo_",
        "colab_type": "text"
      },
      "cell_type": "markdown",
      "source": [
        "If we look at the similarities between users (graph below), we notice that most of them are not very similar. It is likely that the sheer amount of zeros and dis-similarities overwhelme the prediction."
      ]
    },
    {
      "metadata": {
        "id": "v02mGKty3HAA",
        "colab_type": "code",
        "colab": {
          "base_uri": "https://localhost:8080/",
          "height": 725
        },
        "outputId": "875f098b-58cb-44cb-c096-d0af47597f16"
      },
      "cell_type": "code",
      "source": [
        "# pd.DataFrame(sim_user).head(10)\n",
        "plt.figure(figsize=(10, 10))\n",
        "plt.subplots_adjust(wspace=0.1, hspace=0.1)\n",
        "\n",
        "for i, user in enumerate(np.random.choice(range(len(sim_user)), 25, replace=False)):\n",
        "    plt.subplot(5, 5, i + 1)\n",
        "    plt.hist(sim_user[user], 50, label=str(user), normed=True)\n",
        "    plt.legend()\n",
        "\n",
        "plt.tight_layout()"
      ],
      "execution_count": 27,
      "outputs": [
        {
          "output_type": "display_data",
          "data": {
            "image/png": "[encoded data removed]",
            "text/plain": [
              "<matplotlib.figure.Figure at 0x7f5712c2c8d0>"
            ]
          },
          "metadata": {
            "tags": []
          }
        }
      ]
    },
    {
      "metadata": {
        "id": "WrDaymbkmte_",
        "colab_type": "text"
      },
      "cell_type": "markdown",
      "source": [
        "So for user-based collaborative filtering, instead of using all the weights from all the other users, we use the weights from top $k$ users with the highest similarity to the user of interest.\n",
        "\n",
        "\n",
        "The graph belows show that the more users we have to compare similarity, the worse the scores."
      ]
    },
    {
      "metadata": {
        "id": "_dJL3D8vAd0x",
        "colab_type": "code",
        "colab": {
          "base_uri": "https://localhost:8080/",
          "height": 495
        },
        "outputId": "ddc2691a-0357-4a08-db50-85a020d200d2"
      },
      "cell_type": "code",
      "source": [
        "# redefine the function to take in a param k (the number of user)\n",
        "def predict(ratings, similarity, k = None):\n",
        "    if k is None: k = similarity.shape[1]\n",
        "#     if k > len(similarity): raise ValueError('K need to be smaller than', len(similarity))\n",
        "    preds = np.zeros((len(similarity), ratings.shape[1])) # our predictions\n",
        "    indexes = np.argsort(similarity)[:,::-1][:,1:k] # get indexes of similarity from large to small, only take the top k\n",
        "    for i, index in enumerate(indexes):\n",
        "        s = similarity[i, index]\n",
        "        print(1, s.shape, s)\n",
        "        r = ratings[index,:]\n",
        "#         print(2, r.shape, r)\n",
        "        tmp = s.dot(r)\n",
        "        print(s, r, tmp, 'abs sum', np.abs(s).sum(), '\\n')\n",
        "        print(tmp / s.dot((r > 0)))\n",
        "        tmp /= np.abs(s).sum() or 0 # sum may be 0\n",
        "#         print(s)\n",
        "        tmp = np.round(tmp, 0)\n",
        "        preds[i] = tmp\n",
        "    return preds\n",
        "\n",
        "predict(train[:,:5], sim_user[[0, 1, 2]], 5)\n",
        "# predict(train.T[:,:10], sim_item[[0, 1, 2]], 25)"
      ],
      "execution_count": 385,
      "outputs": [
        {
          "output_type": "stream",
          "text": [
            "1 (4,) [0.55754767 0.52629023 0.52439556 0.51929572]\n",
            "[0.55754767 0.52629023 0.52439556 0.51929572] [[4. 3. 3. 4. 3.]\n",
            " [4. 3. 0. 4. 4.]\n",
            " [5. 4. 0. 4. 4.]\n",
            " [3. 2. 1. 4. 0.]] [8.51521655 6.38768737 2.19193874 8.51011672 5.87538615] abs sum 2.127529179976554 \n",
            "\n",
            "[4.00239707 3.00239707 2.03552229 4.         3.65331671]\n",
            "1 (4,) [0.48113944 0.46408819 0.44601785 0.42645937]\n",
            "[0.48113944 0.46408819 0.44601785 0.42645937] [[2. 0. 0. 0. 0.]\n",
            " [0. 0. 0. 0. 0.]\n",
            " [0. 0. 3. 0. 0.]\n",
            " [3. 0. 0. 0. 0.]] [2.24165699 0.         1.33805356 0.         0.        ] abs sum 1.8177048523915702 \n",
            "\n",
            "[2.46987652        nan 3.                nan        nan]\n",
            "1 (4,) [0.42899632 0.41959665 0.41573219 0.40232186]\n",
            "[0.42899632 0.41959665 0.41573219 0.40232186] [[0. 0. 0. 0. 0.]\n",
            " [0. 0. 0. 0. 0.]\n",
            " [0. 0. 0. 0. 0.]\n",
            " [0. 0. 0. 0. 0.]] [0. 0. 0. 0. 0.] abs sum 1.6666470187196525 \n",
            "\n",
            "[nan nan nan nan nan]\n"
          ],
          "name": "stdout"
        },
        {
          "output_type": "stream",
          "text": [
            "/usr/local/lib/python3.6/dist-packages/ipykernel_launcher.py:13: RuntimeWarning: invalid value encountered in true_divide\n",
            "  del sys.path[0]\n"
          ],
          "name": "stderr"
        },
        {
          "output_type": "execute_result",
          "data": {
            "text/plain": [
              "array([[4., 3., 1., 4., 3.],\n",
              "       [1., 0., 1., 0., 0.],\n",
              "       [0., 0., 0., 0., 0.]])"
            ]
          },
          "metadata": {
            "tags": []
          },
          "execution_count": 385
        }
      ]
    },
    {
      "metadata": {
        "id": "aX_FJ_pE_mId",
        "colab_type": "code",
        "colab": {
          "base_uri": "https://localhost:8080/",
          "height": 747
        },
        "outputId": "2a854248-8eaa-4840-83b6-198f5f9c79e1"
      },
      "cell_type": "code",
      "source": [
        "from sklearn.metrics import mean_squared_error as score\n",
        "\n",
        "k = 25\n",
        "\n",
        "# user based\n",
        "tmp = predict(train, sim_user, k)\n",
        "print(f'''User based\n",
        "Train set\n",
        "Min rating: {tmp.min()}\n",
        "Max rating: {tmp.max()}\n",
        "Score: {score(train, tmp):.4f}''')\n",
        "\n",
        "# tmp = predict(test, sim_user, k)\n",
        "print(f'''\n",
        "Test set\n",
        "Min rating: {tmp.min()}\n",
        "Max rating: {tmp.max()}\n",
        "Score: {score(test, tmp):.4f}''')\n",
        "\n",
        "\n",
        "# # item based\n",
        "tmp = predict(train.T, sim_item, k)\n",
        "print(f'''\n",
        "Item based\n",
        "Train set\n",
        "Min rating: {tmp.min()}\n",
        "Max rating: {tmp.max()}\n",
        "Score: {score(train.T, tmp):.4f}''')\n",
        "\n",
        "# tmp = predict(test.T, sim_item, k)\n",
        "print(f'''\n",
        "Test set\n",
        "Min rating: {tmp.min()}\n",
        "Max rating: {tmp.max()}\n",
        "Score: {score(test.T, tmp):.4f}''')\n",
        "\n",
        "ranges = range(5, 101, 5)\n",
        "tmp = [predict(train, sim_user, i) for i in ranges]\n",
        "plt.plot(ranges, [score(train, i) for i in tmp], '-', label='train user-based', alpha=0.5)\n",
        "plt.plot(ranges, [score(test, i) for i in tmp], '-', label='test user-based', alpha=0.5)\n",
        "                         \n",
        "tmp = [predict(train.T, sim_item, i) for i in ranges]\n",
        "plt.plot(ranges, [score(train.T, i) for i in tmp], '-', label='train item-based', alpha=0.5)\n",
        "plt.plot(ranges, [score(test.T, i) for i in tmp], '-', label='test item-based', alpha=0.5)\n",
        "\n",
        "plt.xlabel('k (number of top similar users/items)')\n",
        "plt.ylabel('score (lower is better)')\n",
        "plt.legend();"
      ],
      "execution_count": 338,
      "outputs": [
        {
          "output_type": "stream",
          "text": [
            "User based\n",
            "Train set\n",
            "Min rating: 0.0\n",
            "Max rating: 5.0\n",
            "Score: 0.4520\n",
            "\n",
            "Test set\n",
            "Min rating: 0.0\n",
            "Max rating: 5.0\n",
            "Score: 0.5821\n",
            "\n",
            "Item based\n",
            "Train set\n",
            "Min rating: 0.0\n",
            "Max rating: 5.0\n",
            "Score: 0.4454\n",
            "\n",
            "Test set\n",
            "Min rating: 0.0\n",
            "Max rating: 5.0\n",
            "Score: 0.6331\n"
          ],
          "name": "stdout"
        },
        {
          "output_type": "display_data",
          "data": {
            "image/png": "[encoded data removed]",
            "text/plain": [
              "<matplotlib.figure.Figure at 0x7f570f9b6a20>"
            ]
          },
          "metadata": {
            "tags": []
          }
        }
      ]
    }
  ]
}