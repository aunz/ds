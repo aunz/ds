{
  "nbformat": 4,
  "nbformat_minor": 0,
  "metadata": {
    "colab": {
      "name": "Collaborative filtering",
      "version": "0.3.2",
      "provenance": [],
      "collapsed_sections": [],
      "toc_visible": true,
      "include_colab_link": true
    },
    "kernelspec": {
      "name": "python3",
      "display_name": "Python 3"
    },
    "accelerator": "GPU"
  },
  "cells": [
    {
      "cell_type": "markdown",
      "metadata": {
        "id": "view-in-github",
        "colab_type": "text"
      },
      "source": [
        "[View in Colaboratory](https://colab.research.google.com/github/aunz/ds/blob/master/Collaborative_filtering.ipynb)"
      ]
    },
    {
      "metadata": {
        "id": "DZf0RamaTKke",
        "colab_type": "text"
      },
      "cell_type": "markdown",
      "source": [
        "# Collaborative Filtering\n",
        "Implementation of collaborative filtering with the memory based approach\n",
        "\n",
        "\n",
        "This approach is quite simple. It find users who share some degrees of similarity and take weighted average of weightings. Similarity can be defined as cosine similarity or pearson correlation (more on this later).\n",
        "\n",
        "We are going to use the MovieLens dataset, a classic dataset for training recommendation models. It consists of 100,000 movies ratings from ~ 1000 uers, on a scale of 1 to 5."
      ]
    },
    {
      "metadata": {
        "id": "GxkvJIEzTGa2",
        "colab_type": "code",
        "colab": {}
      },
      "cell_type": "code",
      "source": [
        "import numpy as np\n",
        "import pandas as pd\n",
        "import matplotlib.pyplot as plt"
      ],
      "execution_count": 0,
      "outputs": []
    },
    {
      "metadata": {
        "id": "Gn2zQYItXREa",
        "colab_type": "text"
      },
      "cell_type": "markdown",
      "source": [
        "Fetch and format the data. It has:\n",
        "- 943 users\n",
        "- 1682 movies\n",
        "- The sparsity is 6.3%, which means 6.3% of the dataset has some ratings"
      ]
    },
    {
      "metadata": {
        "id": "lQNkkUc1TTBv",
        "colab_type": "code",
        "colab": {
          "base_uri": "https://localhost:8080/",
          "height": 729
        },
        "outputId": "7bba694e-6642-4e45-cb3e-04263ed5bce9"
      },
      "cell_type": "code",
      "source": [
        "%%time\n",
        "!curl -O http://files.grouplens.org/datasets/movielens/ml-100k.zip\n",
        "!unzip ml-100k.zip\n",
        "\n",
        "data = pd.read_csv('./ml-100k/u.data', sep='\\t', names=['user_id', 'item_id', 'rating', 'timestamp'])\n",
        "print(data.head())\n",
        "\n",
        "# re-format the dataset to user_id x item_id (row x column)\n",
        "data = data.pivot(index='user_id', columns='item_id', values='rating') # this is a user-by-item matrix\n",
        "data.fillna(0, inplace=True) # fill NaN with 0\n",
        "\n",
        "# some simple stats\n",
        "print('User: {}, item: {}'.format(*data.shape))\n",
        "print(f'Sparsity: {((data > 0).sum().sum() / (data.shape[0] * data.shape[1]) * 100):.2f}%') # number of non-zero devided by total number of cells"
      ],
      "execution_count": 13,
      "outputs": [
        {
          "output_type": "stream",
          "text": [
            "  % Total    % Received % Xferd  Average Speed   Time    Time     Time  Current\n",
            "                                 Dload  Upload   Total   Spent    Left  Speed\n",
            "100 4808k  100 4808k    0     0  2177k      0  0:00:02  0:00:02 --:--:-- 2176k\n",
            "Archive:  ml-100k.zip\n",
            "   creating: ml-100k/\n",
            "  inflating: ml-100k/allbut.pl       \n",
            "  inflating: ml-100k/mku.sh          \n",
            "  inflating: ml-100k/README          \n",
            "  inflating: ml-100k/u.data          \n",
            "  inflating: ml-100k/u.genre         \n",
            "  inflating: ml-100k/u.info          \n",
            "  inflating: ml-100k/u.item          \n",
            "  inflating: ml-100k/u.occupation    \n",
            "  inflating: ml-100k/u.user          \n",
            "  inflating: ml-100k/u1.base         \n",
            "  inflating: ml-100k/u1.test         \n",
            "  inflating: ml-100k/u2.base         \n",
            "  inflating: ml-100k/u2.test         \n",
            "  inflating: ml-100k/u3.base         \n",
            "  inflating: ml-100k/u3.test         \n",
            "  inflating: ml-100k/u4.base         \n",
            "  inflating: ml-100k/u4.test         \n",
            "  inflating: ml-100k/u5.base         \n",
            "  inflating: ml-100k/u5.test         \n",
            "  inflating: ml-100k/ua.base         \n",
            "  inflating: ml-100k/ua.test         \n",
            "  inflating: ml-100k/ub.base         \n",
            "  inflating: ml-100k/ub.test         \n",
            "   user_id  item_id  rating  timestamp\n",
            "0      196      242       3  881250949\n",
            "1      186      302       3  891717742\n",
            "2       22      377       1  878887116\n",
            "3      244       51       2  880606923\n",
            "4      166      346       1  886397596\n",
            "User: 943, item: 1682\n",
            "Sparsity: 6.30%\n",
            "CPU times: user 189 ms, sys: 62.1 ms, total: 252 ms\n",
            "Wall time: 7.02 s\n"
          ],
          "name": "stdout"
        }
      ]
    },
    {
      "metadata": {
        "id": "RX2oZQCRod2s",
        "colab_type": "text"
      },
      "cell_type": "markdown",
      "source": [
        "# New Section"
      ]
    },
    {
      "metadata": {
        "id": "ViZ74SDMXceT",
        "colab_type": "text"
      },
      "cell_type": "markdown",
      "source": [
        "- Ratings are 1, 2, 3, 4, 5. The majority is 4. Zero means no rating.\n",
        "- Each user rated at least 20 items, the median is 65\n",
        "- Each item received at least 1 rating, the median is 27\n"
      ]
    },
    {
      "metadata": {
        "id": "rnBp-olHT2ST",
        "colab_type": "code",
        "colab": {
          "base_uri": "https://localhost:8080/",
          "height": 431
        },
        "outputId": "c68dda8d-5cdc-4a09-8bf3-9c0261e82601"
      },
      "cell_type": "code",
      "source": [
        "print(pd.Series(data.values.ravel()).value_counts())\n",
        "\n",
        "pd.concat([\n",
        "    data.apply(lambda x: (x != 0).sum(), 1).describe(), # user, by row\n",
        "    data.apply(lambda x: (x != 0).sum(), 0).describe() # item, by col\n",
        "], 1, keys=['user', 'item'])"
      ],
      "execution_count": 178,
      "outputs": [
        {
          "output_type": "stream",
          "text": [
            "0.0    1486126\n",
            "4.0      34174\n",
            "3.0      27145\n",
            "5.0      21201\n",
            "2.0      11370\n",
            "1.0       6110\n",
            "dtype: int64\n"
          ],
          "name": "stdout"
        },
        {
          "output_type": "execute_result",
          "data": {
            "text/html": [
              "<div>\n",
              "<style scoped>\n",
              "    .dataframe tbody tr th:only-of-type {\n",
              "        vertical-align: middle;\n",
              "    }\n",
              "\n",
              "    .dataframe tbody tr th {\n",
              "        vertical-align: top;\n",
              "    }\n",
              "\n",
              "    .dataframe thead th {\n",
              "        text-align: right;\n",
              "    }\n",
              "</style>\n",
              "<table border=\"1\" class=\"dataframe\">\n",
              "  <thead>\n",
              "    <tr style=\"text-align: right;\">\n",
              "      <th></th>\n",
              "      <th>user</th>\n",
              "      <th>item</th>\n",
              "    </tr>\n",
              "  </thead>\n",
              "  <tbody>\n",
              "    <tr>\n",
              "      <th>count</th>\n",
              "      <td>943.000000</td>\n",
              "      <td>1682.000000</td>\n",
              "    </tr>\n",
              "    <tr>\n",
              "      <th>mean</th>\n",
              "      <td>106.044539</td>\n",
              "      <td>59.453032</td>\n",
              "    </tr>\n",
              "    <tr>\n",
              "      <th>std</th>\n",
              "      <td>100.931743</td>\n",
              "      <td>80.383846</td>\n",
              "    </tr>\n",
              "    <tr>\n",
              "      <th>min</th>\n",
              "      <td>20.000000</td>\n",
              "      <td>1.000000</td>\n",
              "    </tr>\n",
              "    <tr>\n",
              "      <th>25%</th>\n",
              "      <td>33.000000</td>\n",
              "      <td>6.000000</td>\n",
              "    </tr>\n",
              "    <tr>\n",
              "      <th>50%</th>\n",
              "      <td>65.000000</td>\n",
              "      <td>27.000000</td>\n",
              "    </tr>\n",
              "    <tr>\n",
              "      <th>75%</th>\n",
              "      <td>148.000000</td>\n",
              "      <td>80.000000</td>\n",
              "    </tr>\n",
              "    <tr>\n",
              "      <th>max</th>\n",
              "      <td>737.000000</td>\n",
              "      <td>583.000000</td>\n",
              "    </tr>\n",
              "  </tbody>\n",
              "</table>\n",
              "</div>"
            ],
            "text/plain": [
              "             user         item\n",
              "count  943.000000  1682.000000\n",
              "mean   106.044539    59.453032\n",
              "std    100.931743    80.383846\n",
              "min     20.000000     1.000000\n",
              "25%     33.000000     6.000000\n",
              "50%     65.000000    27.000000\n",
              "75%    148.000000    80.000000\n",
              "max    737.000000   583.000000"
            ]
          },
          "metadata": {
            "tags": []
          },
          "execution_count": 178
        }
      ]
    },
    {
      "metadata": {
        "id": "oBzevxrNZOVX",
        "colab_type": "text"
      },
      "cell_type": "markdown",
      "source": [
        "We will split the data into train and test set, by removing 10 ratings per user from the train set and putting them into the test set"
      ]
    },
    {
      "metadata": {
        "id": "8KlsJDlKZOgu",
        "colab_type": "code",
        "colab": {
          "base_uri": "https://localhost:8080/",
          "height": 54
        },
        "outputId": "5c5d44b8-1973-46ee-ce41-64aa1601a94b"
      },
      "cell_type": "code",
      "source": [
        "train = np.zeros_like(data)\n",
        "test = np.zeros_like(data)\n",
        "\n",
        "np.random.seed(0)\n",
        "for i, row in enumerate(np.array(data)):\n",
        "    test_index = np.random.choice(row.nonzero()[0], size=10, replace=False) # take out 10 random non-zero item without replacement from the row\n",
        "    train[i] = row.copy()\n",
        "    train[i, test_index] = 0 # in the train set, these will be turned into 0\n",
        "    test[i, test_index] = row[test_index]\n",
        "\n",
        "assert(np.all((train * test) == 0)) # train & test set are fully disjoint\n",
        "\n",
        "print('train set sparsity (%):', np.count_nonzero(train) / (train.shape[0] * train.shape[1]) * 100)\n",
        "print('test set sparsity (%):', np.count_nonzero(test) / (test.shape[0] * test.shape[1]) * 100)"
      ],
      "execution_count": 179,
      "outputs": [
        {
          "output_type": "stream",
          "text": [
            "train set sparsity (%): 5.710139043178159\n",
            "test set sparsity (%): 0.5945303210463734\n"
          ],
          "name": "stdout"
        }
      ]
    },
    {
      "metadata": {
        "id": "XFh-LSs-jGFo",
        "colab_type": "text"
      },
      "cell_type": "markdown",
      "source": [
        "### Collaborative filtering\n",
        "\n",
        "There are 2 types:\n",
        "- User based\n",
        "- Item based\n",
        "\n",
        "For either type, we will build a similarity matrix consisting of distances that mearuse the similairty between tow data points.\n",
        "- For user based, this is the distance between any two pairs of users\n",
        "- For tiem based, this is the distance between any two pairs of items.\n",
        "\n",
        "### How do we measure similarity?\n",
        "One of the most popular is [cosine similarity](https://en.wikipedia.org/wiki/Cosine_similarity).\n",
        "\n",
        "We can imagine each user is a vector in a N-dimensional space of N-items. If two users have rated the same items, their vectors will point to the same direction and their cosine-similarity is 1. If they rated different items, their vectors will point to different directions. If the direction is completely opposite, the cosine-similarity is -1. If the direction is orthogonal (they rated items exclusive to one another), the cosine-similarity is 0.\n",
        "\n",
        "\n",
        "The other option is [pearson correlation](https://en.wikipedia.org/wiki/Pearson_correlation_coefficient)"
      ]
    },
    {
      "metadata": {
        "id": "1TaVjpJviOQs",
        "colab_type": "code",
        "colab": {
          "base_uri": "https://localhost:8080/",
          "height": 261
        },
        "outputId": "3d0a0457-4ae2-4348-b55e-3f69bb731094"
      },
      "cell_type": "code",
      "source": [
        "from sklearn.metrics.pairwise import pairwise_distances, cosine_similarity\n",
        "\n",
        "# calculate similarity\n",
        "sim_user = 1 - pairwise_distances(train, metric='cosine') # user based, 1 - distance = similarity\n",
        "sim_item =  1 - pairwise_distances(train.T, metric='cosine') # item based, just transpose\n",
        "\n",
        "print('user based', sim_user.shape, '\\n', sim_user[:5, :5])\n",
        "print('\\nitem based', sim_item.shape, '\\n', sim_item[:5, :5])"
      ],
      "execution_count": 180,
      "outputs": [
        {
          "output_type": "stream",
          "text": [
            "user based (943, 943) \n",
            " [[1.         0.14971307 0.03905355 0.05301196 0.36493224]\n",
            " [0.14971307 1.         0.11611837 0.15900017 0.07995677]\n",
            " [0.03905355 0.11611837 1.         0.21029038 0.02425788]\n",
            " [0.05301196 0.15900017 0.21029038 1.         0.02781854]\n",
            " [0.36493224 0.07995677 0.02425788 0.02781854 1.        ]]\n",
            "\n",
            "item based (1682, 1682) \n",
            " [[1.         0.4221154  0.31424115 0.44777373 0.30245373]\n",
            " [0.4221154  1.         0.2636396  0.45970359 0.32723722]\n",
            " [0.31424115 0.2636396  1.         0.34738525 0.22612435]\n",
            " [0.44777373 0.45970359 0.34738525 1.         0.35602466]\n",
            " [0.30245373 0.32723722 0.22612435 0.35602466 1.        ]]\n"
          ],
          "name": "stdout"
        }
      ]
    },
    {
      "metadata": {
        "id": "5Hf_S1VgrKf_",
        "colab_type": "text"
      },
      "cell_type": "markdown",
      "source": [
        "For user-based collaborative filtering, we predict user $u$'s rating for item $i$ is the weighted sum of all other users’ ratings for item $i$ where the weighting is the cosine similarity between the each user and the user $u$ of interest.\n",
        "\n",
        "This is clearer in the table below.\n",
        "\n",
        "We have 6 users and want to predict user 0's rating for item 1.\n",
        "- In row A, we have the similarity metric to user 0. User 1 is 0.9 similar to user 0, user 2 is only 0.1 to user 0, and so on\n",
        "- In row B, we have ratings for item 1 from different users. User 1 gave a rating of 4, user 2 gave a rating of 5, etc.\n",
        "- In row C, we multiple the similaritys with ratings \n",
        "- In the sum column, we simly add all the similarity × rating together\n",
        "- Then to predict user 0's rating for item 1, we devide the sum of similarity × rating by the sum of similairty (this acts as a normalizer)\n",
        "\n",
        "\n",
        "| |\n",
        "| --- | --- | --- | --- | --- | --- | --- | --- |\n",
        "| Row || <td colspan=6 align=\"centre\">User</td> || Sum\n",
        "| | || 0 | 1 | 2 | 3 | 4 | 5 | | \n",
        "| A | similarity to user 0 || 1 | 0.9 | 0.1 | 0.7 | 0.3 | 0.5 | | **3.5**\n",
        "| B | rating item 1 || **?** | 4 | 5 | 2 | 0 | 1 |\n",
        "| C | similarity × rating || 0 | 3.6 | 0.5 | 1.4 | 0.0 | 0.5 || **6.0**\n",
        "Table 1\n",
        "\n",
        "Predicted rating of  **user 0** for *item 1* is: 6.0 / 3.5 = **1.7**\n",
        "\n",
        "Now we implement this in Numpy"
      ]
    },
    {
      "metadata": {
        "id": "oXBkUEoGpeyj",
        "colab_type": "code",
        "colab": {}
      },
      "cell_type": "code",
      "source": [
        "def predict(ratings, similarity):\n",
        "    # example: predict(data.iloc[:, [10]], sim_user[[2]]) to predict user2's rating for item10\n",
        "    # predict(data.T.iloc[:, [20]], sim_item[[6]]) to predict item6's rating from user20\n",
        "    tmp = similarity.dot(ratings) # dot product to get the rating, this is the similarity × rating\n",
        "    tmp /= np.abs(similarity).sum(1).reshape(-1, 1) # normalised by number of ratings\n",
        "    tmp = np.round(tmp, 0) # round to nearest 0\n",
        "    return tmp\n",
        "\n",
        "# predict(train[:,:10], sim_user[[0, 1, 2]])"
      ],
      "execution_count": 0,
      "outputs": []
    },
    {
      "metadata": {
        "id": "S5oL3gor1L11",
        "colab_type": "text"
      },
      "cell_type": "markdown",
      "source": [
        "Now we can defien a metric to measure how good our predictions are. In this case we use mse\n",
        "\n",
        "We can see that user based are a little bit better than item based"
      ]
    },
    {
      "metadata": {
        "id": "MbBQVGE-0r4u",
        "colab_type": "code",
        "colab": {
          "base_uri": "https://localhost:8080/",
          "height": 410
        },
        "outputId": "2993af88-36e1-409c-933c-6b516a863340"
      },
      "cell_type": "code",
      "source": [
        "from sklearn.metrics import mean_squared_error as score\n",
        "\n",
        "# def score(y_true, y_pred):\n",
        "#     tmp = np.sum((y_true != 0) | (y_pred != 0)) # number of non-zero items\n",
        "#     tmp = np.sum((y_true == y_pred) & (y_true != 0) & (y_pred != 0)) / tmp # number of correct labels without counting zero\n",
        "#     return tmp\n",
        "\n",
        "# user based\n",
        "tmp = predict(train, sim_user)\n",
        "print(f'''User based\n",
        "Train set\n",
        "Min rating: {tmp.min()}\n",
        "Max rating: {tmp.max()}\n",
        "Score: {score(train, tmp):.4f}''')\n",
        "\n",
        "print(f'''\n",
        "Test set\n",
        "Min rating: {tmp.min()}\n",
        "Max rating: {tmp.max()}\n",
        "Score: {score(test, tmp):.4f}''')\n",
        "\n",
        "\n",
        "# # item based\n",
        "tmp = predict(train.T, sim_item)\n",
        "print(f'''\n",
        "Item based\n",
        "Train set\n",
        "Min rating: {tmp.min()}\n",
        "Max rating: {tmp.max()}\n",
        "Score: {score(train.T, tmp):.4f}''')\n",
        "\n",
        "print(f'''\n",
        "Test set\n",
        "Min rating: {tmp.min()}\n",
        "Max rating: {tmp.max()}\n",
        "Score: {score(test.T, tmp):.4f}''')"
      ],
      "execution_count": 8,
      "outputs": [
        {
          "output_type": "stream",
          "text": [
            "User based\n",
            "Train set\n",
            "Min rating: 0.0\n",
            "Max rating: 4.0\n",
            "Score: 0.6225\n",
            "\n",
            "Test set\n",
            "Min rating: 0.0\n",
            "Max rating: 4.0\n",
            "Score: 0.2717\n",
            "\n",
            "Item based\n",
            "Train set\n",
            "Min rating: 0.0\n",
            "Max rating: 4.0\n",
            "Score: 0.6894\n",
            "\n",
            "Test set\n",
            "Min rating: 0.0\n",
            "Max rating: 4.0\n",
            "Score: 0.3049\n"
          ],
          "name": "stdout"
        }
      ]
    },
    {
      "metadata": {
        "id": "0ApUY7Z_kfo_",
        "colab_type": "text"
      },
      "cell_type": "markdown",
      "source": [
        "If we look at the similarities between users (graph below), we notice that most of them are not very similar. It is likely that the sheer amount of zeros and dis-similarities overwhelme the prediction."
      ]
    },
    {
      "metadata": {
        "id": "v02mGKty3HAA",
        "colab_type": "code",
        "colab": {
          "base_uri": "https://localhost:8080/",
          "height": 725
        },
        "outputId": "2dbc0ce6-cc62-4a9d-e2af-30d54d360123"
      },
      "cell_type": "code",
      "source": [
        "# pd.DataFrame(sim_user).head(10)\n",
        "plt.figure(figsize=(10, 10))\n",
        "plt.subplots_adjust(wspace=0.1, hspace=0.1)\n",
        "\n",
        "for i, user in enumerate(np.random.choice(range(len(sim_user)), 25, replace=False)):\n",
        "    plt.subplot(5, 5, i + 1)\n",
        "    plt.hist(sim_user[user], 50, label=str(user), normed=True)\n",
        "    plt.legend()\n",
        "\n",
        "plt.tight_layout()"
      ],
      "execution_count": 9,
      "outputs": [
        {
          "output_type": "display_data",
          "data": {
            "image/png": "[encoded data removed]",
            "text/plain": [
              "<matplotlib.figure.Figure at 0x7f28f2be89b0>"
            ]
          },
          "metadata": {
            "tags": []
          }
        }
      ]
    },
    {
      "metadata": {
        "id": "WrDaymbkmte_",
        "colab_type": "text"
      },
      "cell_type": "markdown",
      "source": [
        "So for user-based collaborative filtering, instead of using all the weights from all the other users, we use the weights from top $k$ users with the highest similarity to the user of interest.\n",
        "\n",
        "Recall in our table 1 above, we see that user 1 has the highest similarity (0.9) to user 0 and user 1 gave a rating of 4 for item 1. However, the predicted rating for user 0 is 1.7. If we only keep the users with high similairties to user 0, we have something in table 2. Our predicted rating has nudged from 1.7 to 1.8\n",
        "\n",
        "| |\n",
        "| --- | --- | --- | --- | --- | --- | --- | --- |\n",
        "| Row || <td colspan=4 align=\"centre\">User</td> || Sum\n",
        "| | || 0 | 1 | 3 | 5 | | \n",
        "| A | similarity to user 0 || 1 | 0.9 |  0.7 |  0.5 | | **3.1**\n",
        "| B | rating item 1 || **?** | 4 | 2 | 1 |\n",
        "| C | similarity × rating || 0 | 3.6 | 1.4 | 0.5 || **5.5**\n",
        "Table 2\n",
        "\n",
        "Predicted rating of  **user 0** for *item 1* is: 5.5 / 3.1 = **1.8** using only the top 3 users\n",
        "\n",
        "So you can imagine, depending on how many users, the final rating may change quite drastically.\n",
        "\n",
        "Now, we adjust our predict function, adding a param *k* to specify how many top users we want to include"
      ]
    },
    {
      "metadata": {
        "id": "_dJL3D8vAd0x",
        "colab_type": "code",
        "colab": {}
      },
      "cell_type": "code",
      "source": [
        "# redefine the function to take in a param k (the number of user)\n",
        "def predict(ratings, similarity, k = None):\n",
        "    if k is None: k = similarity.shape[1]\n",
        "#     if k > len(similarity): raise ValueError('K need to be smaller than', len(similarity))\n",
        "    preds = np.zeros((len(similarity), ratings.shape[1])) # our predictions\n",
        "    indexes = np.argsort(similarity)[:,::-1][:,:k] # get indexes of similarity from large to small, only take the top k\n",
        "    for i, index in enumerate(indexes):\n",
        "        s = similarity[i, index]\n",
        "        r = ratings[index,:]\n",
        "        tmp = s.dot(r)\n",
        "        tmp /= np.abs(s).sum()\n",
        "#         tmp /= s.dot(r > 0) # some may be zero\n",
        "#         tmp = np.where(np.isnan(tmp), 0, tmp)\n",
        "        tmp = np.round(tmp, 0)\n",
        "        preds[i] = tmp\n",
        "    return preds\n",
        "\n",
        "# predict(train[:,:5], sim_user[[0, 1, 2]], 5)\n",
        "# predict(train[:,1680:], sim_user[[0, 1, 2]], 5)\n",
        "# predict(train.T[:,:10], sim_item[[0, 1, 2]], 25)"
      ],
      "execution_count": 0,
      "outputs": []
    },
    {
      "metadata": {
        "id": "aX_FJ_pE_mId",
        "colab_type": "code",
        "colab": {
          "base_uri": "https://localhost:8080/",
          "height": 754
        },
        "outputId": "d4d05a83-2b12-4af1-fc70-908e6fc3f09e"
      },
      "cell_type": "code",
      "source": [
        "from sklearn.metrics import mean_squared_error as score\n",
        "\n",
        "k = 25\n",
        "\n",
        "# user based\n",
        "tmp = predict(train, sim_user, k)\n",
        "print(f'''User based\n",
        "Train set\n",
        "Min rating: {tmp.min()}\n",
        "Max rating: {tmp.max()}\n",
        "Score: {score(train, tmp):.4f}''')\n",
        "\n",
        "# tmp = predict(test, sim_user, k)\n",
        "print(f'''\n",
        "Test set\n",
        "Min rating: {tmp.min()}\n",
        "Max rating: {tmp.max()}\n",
        "Score: {score(test, tmp):.4f}''')\n",
        "\n",
        "\n",
        "# # item based\n",
        "tmp = predict(train.T, sim_item, k)\n",
        "print(f'''\n",
        "Item based\n",
        "Train set\n",
        "Min rating: {tmp.min()}\n",
        "Max rating: {tmp.max()}\n",
        "Score: {score(train.T, tmp):.4f}''')\n",
        "\n",
        "# tmp = predict(test.T, sim_item, k)\n",
        "print(f'''\n",
        "Test set\n",
        "Min rating: {tmp.min()}\n",
        "Max rating: {tmp.max()}\n",
        "Score: {score(test.T, tmp):.4f}''')\n",
        "\n",
        "ranges = range(5, 101, 5)\n",
        "tmp = [predict(train, sim_user, i) for i in ranges]\n",
        "plt.plot(ranges, [score(train, i) for i in tmp], '-', label='train user-based', alpha=0.5)\n",
        "plt.plot(ranges, [score(test, i) for i in tmp], '-', label='test user-based', alpha=0.5)\n",
        "                         \n",
        "tmp = [predict(train.T, sim_item, i) for i in ranges]\n",
        "plt.plot(ranges, [score(train.T, i) for i in tmp], '-', label='train item-based', alpha=0.5)\n",
        "plt.plot(ranges, [score(test.T, i) for i in tmp], '-', label='test item-based', alpha=0.5)\n",
        "\n",
        "plt.xlabel('k (number of top similar users/items)')\n",
        "plt.ylabel('score (lower is better)')\n",
        "plt.legend();"
      ],
      "execution_count": 58,
      "outputs": [
        {
          "output_type": "stream",
          "text": [
            "User based\n",
            "Train set\n",
            "Min rating: 0.0\n",
            "Max rating: 5.0\n",
            "Score: 0.4520\n",
            "\n",
            "Test set\n",
            "Min rating: 0.0\n",
            "Max rating: 5.0\n",
            "Score: 0.5821\n",
            "\n",
            "Item based\n",
            "Train set\n",
            "Min rating: 0.0\n",
            "Max rating: 5.0\n",
            "Score: 0.4454\n",
            "\n",
            "Test set\n",
            "Min rating: 0.0\n",
            "Max rating: 5.0\n",
            "Score: 0.6331\n"
          ],
          "name": "stdout"
        },
        {
          "output_type": "display_data",
          "data": {
            "image/png": "[encoded data removed]",
            "text/plain": [
              "<matplotlib.figure.Figure at 0x7f28ef55c6a0>"
            ]
          },
          "metadata": {
            "tags": []
          }
        }
      ]
    },
    {
      "metadata": {
        "id": "SKWDv8kp6J4c",
        "colab_type": "text"
      },
      "cell_type": "markdown",
      "source": [
        "### Recommendation\n",
        "\n",
        "So now we know how to implement collaborative filtering (albeit a bit basic), how do we know if it can make good recommendations?\n",
        "\n",
        "In the downloaded files, there is a \"u.item\" where we can get the title of the movies"
      ]
    },
    {
      "metadata": {
        "id": "fesxkdBNCtJH",
        "colab_type": "code",
        "colab": {}
      },
      "cell_type": "code",
      "source": [
        "movies = {}\n",
        "with open('./ml-100k/u.item', 'r', encoding=\"ISO-8859-1\") as f:\n",
        "    for line in f.readlines():\n",
        "        info = line.split('|')\n",
        "        num = info[0]\n",
        "        title = info[1].split('(')[0].strip()\n",
        "        year = info[2][-4:]\n",
        "        movies[num] = { 'title': title, 'year': year }\n",
        "        \n",
        "list(movies.items())[:5]"
      ],
      "execution_count": 0,
      "outputs": []
    },
    {
      "metadata": {
        "id": "a4pBil6_14NR",
        "colab_type": "text"
      },
      "cell_type": "markdown",
      "source": [
        "We are going to use a movide database API, such as www.omdbapi.com, to retrieve more information, such as posters.\n",
        "\n",
        "We will need an API key and a requests module. I am saving all the movies into a pickle file so we don't need to hit the API server again in the future. We can then load this pickle file in the future."
      ]
    },
    {
      "metadata": {
        "id": "9xrGlzGl48NK",
        "colab_type": "code",
        "colab": {}
      },
      "cell_type": "code",
      "source": [
        "# # First, we need an API key\n",
        "# apiKey = input(\"Enter API Key:\\t\")"
      ],
      "execution_count": 0,
      "outputs": []
    },
    {
      "metadata": {
        "id": "nnGTbXg_1oHa",
        "colab_type": "code",
        "colab": {}
      },
      "cell_type": "code",
      "source": [
        "# %%time\n",
        "\n",
        "# import requests\n",
        "\n",
        "# # response = requests.get('http://www.omdbapi.com/?apikey=BanMePlz&t=D3: The Mighty Ducks&y=1996')\n",
        "# for movie in movies.values():\n",
        "#     if 'content' in movie and 'Poster' in movie['content']: continue\n",
        "#     url = f'http://www.omdbapi.com/?apiKey={apiKey}&t={movie[\"title\"]}&y={movie[\"year\"]}'\n",
        "#     response = requests.get(url)\n",
        "#     if response.ok is False:\n",
        "#         print('Can not get', movie['title'], movie['year'], response.text)\n",
        "#         continue\n",
        "#     movie['content'] = response.json()\n",
        "#     print('Done:', movie['title'])"
      ],
      "execution_count": 0,
      "outputs": []
    },
    {
      "metadata": {
        "id": "WVrQyX_BpGiW",
        "colab_type": "code",
        "colab": {}
      },
      "cell_type": "code",
      "source": [
        "# import pickle\n",
        "\n",
        "# with open('movies.pickle', 'wb') as handle:\n",
        "#     pickle.dump(movies, handle, protocol=pickle.HIGHEST_PROTOCOL)\n",
        "\n",
        "# with open('movies.pickle', 'rb') as handle:\n",
        "#     movies = pickle.load(handle)"
      ],
      "execution_count": 0,
      "outputs": []
    },
    {
      "metadata": {
        "id": "w0ST2WsrL_lt",
        "colab_type": "text"
      },
      "cell_type": "markdown",
      "source": [
        "Let's look at some of the movies!"
      ]
    },
    {
      "metadata": {
        "id": "BjXf1EyVJrn1",
        "colab_type": "code",
        "colab": {
          "base_uri": "https://localhost:8080/",
          "height": 225
        },
        "outputId": "df446064-17fe-4413-ba9b-590fc7bc0cc1"
      },
      "cell_type": "code",
      "source": [
        "from IPython.display import display, HTML\n",
        "\n",
        "# given ids, show the poster\n",
        "def show_posters(ids):\n",
        "    tmp = []\n",
        "    for i in ids:\n",
        "        i = str(i + 1)\n",
        "        m = movies[i]\n",
        "        s = f'<span style=\"display:inline-block; box-sizing: border-box; width:128px; height:192px; margin:6px; border:1px solid #888; text-align: center; vertical-align: bottom\">{m[\"title\"]} ({m[\"year\"]})</span>'\n",
        "        if 'content' not in m:\n",
        "            tmp.append(s)\n",
        "            continue\n",
        "        if 'Poster' not in m['content']:\n",
        "            tmp.append(s)\n",
        "            continue\n",
        "        tmp.append(f'<img style=\"margin:6px; height:192px\" src=\"{m[\"content\"][\"Poster\"]}\" height=192 alt=\"{i}\">')\n",
        "    display(HTML(''.join(tmp)))\n",
        "    return tmp\n",
        "   \n",
        "# show the first 5 movies in the dataset\n",
        "show_posters(range(5));"
      ],
      "execution_count": 274,
      "outputs": [
        {
          "output_type": "display_data",
          "data": {
            "text/html": [
              "<img style=\"margin:6px; height:192px\" src=\"https://m.media-amazon.com/images/M/MV5BMDU2ZWJlMjktMTRhMy00ZTA5LWEzNDgtYmNmZTEwZTViZWJkXkEyXkFqcGdeQXVyNDQ2OTk4MzI@._V1_SX300.jpg\" height=192 alt=\"1\"><img style=\"margin:6px; height:192px\" src=\"https://m.media-amazon.com/images/M/MV5BMzk2OTg4MTk1NF5BMl5BanBnXkFtZTcwNjExNTgzNA@@._V1_SX300.jpg\" height=192 alt=\"2\"><img style=\"margin:6px; height:192px\" src=\"https://m.media-amazon.com/images/M/MV5BNDc3Y2YwMjUtYzlkMi00MTljLTg1ZGMtYzUwODljZTI1OTZjXkEyXkFqcGdeQXVyMTQxNzMzNDI@._V1_SX300.jpg\" height=192 alt=\"3\"><img style=\"margin:6px; height:192px\" src=\"https://m.media-amazon.com/images/M/MV5BMjAwODYzNDY4Ml5BMl5BanBnXkFtZTcwODkwNTgzNA@@._V1_SX300.jpg\" height=192 alt=\"4\"><img style=\"margin:6px; height:192px\" src=\"https://images-na.ssl-images-amazon.com/images/M/MV5BYWUwNDk2ZDYtNmFkMi00NjE5LWE1M2ItYTRkNTFjZDU3ZDU4L2ltYWdlL2ltYWdlXkEyXkFqcGdeQXVyMTYxNjkxOQ@@._V1_SX300.jpg\" height=192 alt=\"5\">"
            ],
            "text/plain": [
              "<IPython.core.display.HTML object>"
            ]
          },
          "metadata": {
            "tags": []
          }
        }
      ]
    },
    {
      "metadata": {
        "id": "x8kQVI0RGXzj",
        "colab_type": "text"
      },
      "cell_type": "markdown",
      "source": [
        "#### Toy Story\n",
        "Is first movie in the dataset! Sweet!\n",
        "- We are going to find the most similar movies to Toy Story\n",
        "- We then display these movies\n",
        "\n",
        "We get: Independence Day, Star Wars, Return of the Jedi and Star Trek! 😅\n",
        "\n",
        "Mmm, I wouldn't pick Indepence Day, it's not my 🍵, maybe yours?"
      ]
    },
    {
      "metadata": {
        "id": "ELLvcdLiiuTt",
        "colab_type": "code",
        "colab": {
          "base_uri": "https://localhost:8080/",
          "height": 225
        },
        "outputId": "46744b33-8ec5-4279-8fe7-75de877c9321"
      },
      "cell_type": "code",
      "source": [
        "# get the 5 most similar movies to Toy Story according to the similarity matrix we computed earlier\n",
        "tmp = np.argsort(sim_item[0])[:-6:-1]\n",
        "\n",
        "# then display them\n",
        "show_posters(tmp);"
      ],
      "execution_count": 242,
      "outputs": [
        {
          "output_type": "display_data",
          "data": {
            "text/html": [
              "<img style=\"margin:6px; height:192px\" src=\"https://m.media-amazon.com/images/M/MV5BMDU2ZWJlMjktMTRhMy00ZTA5LWEzNDgtYmNmZTEwZTViZWJkXkEyXkFqcGdeQXVyNDQ2OTk4MzI@._V1_SX300.jpg\" height=192 ><img style=\"margin:6px; height:192px\" src=\"https://m.media-amazon.com/images/M/MV5BMGQwNDNkMmItYWY1Yy00YTZmLWE5OTAtODU0MGZmMzQ1NDdkXkEyXkFqcGdeQXVyMTQxNzMzNDI@._V1_SX300.jpg\" height=192 ><img style=\"margin:6px; height:192px\" src=\"https://m.media-amazon.com/images/M/MV5BNzVlY2MwMjktM2E4OS00Y2Y3LWE3ZjctYzhkZGM3YzA1ZWM2XkEyXkFqcGdeQXVyNzkwMjQ5NzM@._V1_SX300.jpg\" height=192 ><span style=\"display:inline-block; box-sizing: border-box; width:128px; height:192px; margin:6px; border:1px solid #888; text-align: center; vertical-align: bottom\">Return of the Jedi (1997)</span><img style=\"margin:6px; height:192px\" src=\"https://m.media-amazon.com/images/M/MV5BYTllZjRkY2QtYTJlMy00ZTMxLWE0YWQtMWMwYzY2YTM3YzRjXkEyXkFqcGdeQXVyNTAyODkwOQ@@._V1_SX300.jpg\" height=192 >"
            ],
            "text/plain": [
              "<IPython.core.display.HTML object>"
            ]
          },
          "metadata": {
            "tags": []
          }
        }
      ]
    },
    {
      "metadata": {
        "id": "f68Czy8vkX-5",
        "colab_type": "text"
      },
      "cell_type": "markdown",
      "source": [
        "#### Golden Eye 007\n",
        "Second movie in the dataset. Its most similar movies are: Under siege, True Lies, Batman, Top Gun.\n",
        "\n"
      ]
    },
    {
      "metadata": {
        "id": "0lgSeFjNkUNL",
        "colab_type": "code",
        "colab": {
          "base_uri": "https://localhost:8080/",
          "height": 225
        },
        "outputId": "6dcecbae-d3d1-4d65-fe4d-92174c2194ed"
      },
      "cell_type": "code",
      "source": [
        "tmp = np.argsort(sim_item[1])[:-6:-1]\n",
        "show_posters(tmp);"
      ],
      "execution_count": 272,
      "outputs": [
        {
          "output_type": "display_data",
          "data": {
            "text/html": [
              "<img style=\"margin:6px; height:192px\" src=\"https://m.media-amazon.com/images/M/MV5BMzk2OTg4MTk1NF5BMl5BanBnXkFtZTcwNjExNTgzNA@@._V1_SX300.jpg\" height=192 ><img style=\"margin:6px; height:192px\" src=\"https://m.media-amazon.com/images/M/MV5BZWYxMDZkNmMtZjljNS00MDE5LTlmYmItMmVjZWU5NjQwYmI0L2ltYWdlXkEyXkFqcGdeQXVyNTAyODkwOQ@@._V1_SX300.jpg\" height=192 ><img style=\"margin:6px; height:192px\" src=\"https://m.media-amazon.com/images/M/MV5BYzg5YmUyNGMtMThiNS00MjA2LTgwZDctNDlhM2RkZDNmZmRkXkEyXkFqcGdeQXVyNDk3NzU2MTQ@._V1_SX300.jpg\" height=192 ><img style=\"margin:6px; height:192px\" src=\"https://m.media-amazon.com/images/M/MV5BMTYwNjAyODIyMF5BMl5BanBnXkFtZTYwNDMwMDk2._V1_SX300.jpg\" height=192 ><img style=\"margin:6px; height:192px\" src=\"https://m.media-amazon.com/images/M/MV5BZjQxYTA3ODItNzgxMy00N2Y2LWJlZGMtMTRlM2JkZjI1ZDhhXkEyXkFqcGdeQXVyNDk3NzU2MTQ@._V1_SX300.jpg\" height=192 >"
            ],
            "text/plain": [
              "<IPython.core.display.HTML object>"
            ]
          },
          "metadata": {
            "tags": []
          }
        }
      ]
    },
    {
      "metadata": {
        "id": "h1DhxXgUrDp2",
        "colab_type": "text"
      },
      "cell_type": "markdown",
      "source": [
        "#### Batman\n",
        "\n",
        "Most similar to Batman are: Die Hard, Batman Returns.\n",
        "\n",
        "Well, at least we have Batman Returns 🦇 nanananana?"
      ]
    },
    {
      "metadata": {
        "id": "R00nx6WFq7Bx",
        "colab_type": "code",
        "colab": {
          "base_uri": "https://localhost:8080/",
          "height": 243
        },
        "outputId": "60bdd46e-f1af-4cf1-fa5c-ba8c53d0eda1"
      },
      "cell_type": "code",
      "source": [
        "print('Most similar to Batman')\n",
        "show_posters(np.argsort(sim_item[402])[:-6:-1]);"
      ],
      "execution_count": 280,
      "outputs": [
        {
          "output_type": "stream",
          "text": [
            "Most similar to Batman\n"
          ],
          "name": "stdout"
        },
        {
          "output_type": "display_data",
          "data": {
            "text/html": [
              "<img style=\"margin:6px; height:192px\" src=\"https://m.media-amazon.com/images/M/MV5BMTYwNjAyODIyMF5BMl5BanBnXkFtZTYwNDMwMDk2._V1_SX300.jpg\" height=192 alt=\"403\"><img style=\"margin:6px; height:192px\" src=\"https://m.media-amazon.com/images/M/MV5BZjI0ZWFiMmQtMjRlZi00ZmFhLWI4NmYtMjQ5YmY0MzIyMzRiXkEyXkFqcGdeQXVyMTQxNzMzNDI@._V1_SX300.jpg\" height=192 alt=\"550\"><img style=\"margin:6px; height:192px\" src=\"https://m.media-amazon.com/images/M/MV5BOGZmYzVkMmItM2NiOS00MDI3LWI4ZWQtMTg0YWZkODRkMmViXkEyXkFqcGdeQXVyODY0NzcxNw@@._V1_SX300.jpg\" height=192 alt=\"231\"><img style=\"margin:6px; height:192px\" src=\"https://m.media-amazon.com/images/M/MV5BMjM2MDgxMDg0Nl5BMl5BanBnXkFtZTgwNTM2OTM5NDE@._V1_SX300.jpg\" height=192 alt=\"82\"><img style=\"margin:6px; height:192px\" src=\"https://m.media-amazon.com/images/M/MV5BYzg5YmUyNGMtMThiNS00MjA2LTgwZDctNDlhM2RkZDNmZmRkXkEyXkFqcGdeQXVyNDk3NzU2MTQ@._V1_SX300.jpg\" height=192 alt=\"385\">"
            ],
            "text/plain": [
              "<IPython.core.display.HTML object>"
            ]
          },
          "metadata": {
            "tags": []
          }
        }
      ]
    },
    {
      "metadata": {
        "id": "wGHoQjbirDCx",
        "colab_type": "text"
      },
      "cell_type": "markdown",
      "source": [
        "As we mentioned at the beginning, there are several ways to calculate similarity. \n",
        "\n",
        "We have already used cosine similarity. Now, we can try **Pearson correlation** to compute similarities. "
      ]
    },
    {
      "metadata": {
        "id": "IAMJR-h7nE9b",
        "colab_type": "code",
        "colab": {}
      },
      "cell_type": "code",
      "source": [
        "# use correlation instead of cosine similarity\n",
        "cor_item = 1 - pairwise_distances(train.T, metric='correlation')\n",
        "cor_item[np.isnan(cor_item)] = 0 # nan results stem from when 2 variables have the exact number, such as v1: [0, 0, 0, 0], v2 is also: [0, 0, 0, 0]"
      ],
      "execution_count": 0,
      "outputs": []
    },
    {
      "metadata": {
        "id": "4UddHNOTxwXu",
        "colab_type": "text"
      },
      "cell_type": "markdown",
      "source": [
        "Now look at these movies again."
      ]
    },
    {
      "metadata": {
        "id": "LeZ37j-Zncph",
        "colab_type": "code",
        "colab": {
          "resources": {
            "http://localhost:8080/N/A": {
              "data": "CjwhRE9DVFlQRSBodG1sPgo8aHRtbCBsYW5nPWVuPgogIDxtZXRhIGNoYXJzZXQ9dXRmLTg+CiAgPG1ldGEgbmFtZT12aWV3cG9ydCBjb250ZW50PSJpbml0aWFsLXNjYWxlPTEsIG1pbmltdW0tc2NhbGU9MSwgd2lkdGg9ZGV2aWNlLXdpZHRoIj4KICA8dGl0bGU+RXJyb3IgNDA0IChOb3QgRm91bmQpISExPC90aXRsZT4KICA8c3R5bGU+CiAgICAqe21hcmdpbjowO3BhZGRpbmc6MH1odG1sLGNvZGV7Zm9udDoxNXB4LzIycHggYXJpYWwsc2Fucy1zZXJpZn1odG1se2JhY2tncm91bmQ6I2ZmZjtjb2xvcjojMjIyO3BhZGRpbmc6MTVweH1ib2R5e21hcmdpbjo3JSBhdXRvIDA7bWF4LXdpZHRoOjM5MHB4O21pbi1oZWlnaHQ6MTgwcHg7cGFkZGluZzozMHB4IDAgMTVweH0qID4gYm9keXtiYWNrZ3JvdW5kOnVybCgvL3d3dy5nb29nbGUuY29tL2ltYWdlcy9lcnJvcnMvcm9ib3QucG5nKSAxMDAlIDVweCBuby1yZXBlYXQ7cGFkZGluZy1yaWdodDoyMDVweH1we21hcmdpbjoxMXB4IDAgMjJweDtvdmVyZmxvdzpoaWRkZW59aW5ze2NvbG9yOiM3Nzc7dGV4dC1kZWNvcmF0aW9uOm5vbmV9YSBpbWd7Ym9yZGVyOjB9QG1lZGlhIHNjcmVlbiBhbmQgKG1heC13aWR0aDo3NzJweCl7Ym9keXtiYWNrZ3JvdW5kOm5vbmU7bWFyZ2luLXRvcDowO21heC13aWR0aDpub25lO3BhZGRpbmctcmlnaHQ6MH19I2xvZ297YmFja2dyb3VuZDp1cmwoLy93d3cuZ29vZ2xlLmNvbS9pbWFnZXMvbG9nb3MvZXJyb3JwYWdlL2Vycm9yX2xvZ28tMTUweDU0LnBuZykgbm8tcmVwZWF0O21hcmdpbi1sZWZ0Oi01cHh9QG1lZGlhIG9ubHkgc2NyZWVuIGFuZCAobWluLXJlc29sdXRpb246MTkyZHBpKXsjbG9nb3tiYWNrZ3JvdW5kOnVybCgvL3d3dy5nb29nbGUuY29tL2ltYWdlcy9sb2dvcy9lcnJvcnBhZ2UvZXJyb3JfbG9nby0xNTB4NTQtMngucG5nKSBuby1yZXBlYXQgMCUgMCUvMTAwJSAxMDAlOy1tb3otYm9yZGVyLWltYWdlOnVybCgvL3d3dy5nb29nbGUuY29tL2ltYWdlcy9sb2dvcy9lcnJvcnBhZ2UvZXJyb3JfbG9nby0xNTB4NTQtMngucG5nKSAwfX1AbWVkaWEgb25seSBzY3JlZW4gYW5kICgtd2Via2l0LW1pbi1kZXZpY2UtcGl4ZWwtcmF0aW86Mil7I2xvZ297YmFja2dyb3VuZDp1cmwoLy93d3cuZ29vZ2xlLmNvbS9pbWFnZXMvbG9nb3MvZXJyb3JwYWdlL2Vycm9yX2xvZ28tMTUweDU0LTJ4LnBuZykgbm8tcmVwZWF0Oy13ZWJraXQtYmFja2dyb3VuZC1zaXplOjEwMCUgMTAwJX19I2xvZ297ZGlzcGxheTppbmxpbmUtYmxvY2s7aGVpZ2h0OjU0cHg7d2lkdGg6MTUwcHh9CiAgPC9zdHlsZT4KICA8YSBocmVmPS8vd3d3Lmdvb2dsZS5jb20vPjxzcGFuIGlkPWxvZ28gYXJpYS1sYWJlbD1Hb29nbGU+PC9zcGFuPjwvYT4KICA8cD48Yj40MDQuPC9iPiA8aW5zPlRoYXTigJlzIGFuIGVycm9yLjwvaW5zPgogIDxwPiAgPGlucz5UaGF04oCZcyBhbGwgd2Uga25vdy48L2lucz4K",
              "ok": false,
              "headers": [
                [
                  "content-length",
                  "1449"
                ],
                [
                  "content-type",
                  "text/html; charset=utf-8"
                ]
              ],
              "status": 404,
              "status_text": "Not Found"
            }
          },
          "base_uri": "https://localhost:8080/",
          "height": 1147
        },
        "outputId": "5a05330e-6704-4ed9-e70f-46cd2f7187b4"
      },
      "cell_type": "code",
      "source": [
        "print('Most similar to Toy Story')\n",
        "show_posters(np.argsort(cor_item[0])[:-6:-1]); # toy story\n",
        "\n",
        "print('Most similar to Golden Eye 007')\n",
        "show_posters(np.argsort(cor_item[1])[:-6:-1]); # 007\n",
        "\n",
        "print('Most similar to Independence Day')\n",
        "show_posters(np.argsort(cor_item[120])[:-6:-1]);\n",
        "\n",
        "print('Most similar to Aladdin')\n",
        "show_posters(np.argsort(cor_item[94])[:-6:-1]);\n",
        "\n",
        "print('Most similar to Batmannnnnnnnaaa')\n",
        "show_posters(np.argsort(cor_item[402])[:-6:-1]);\n"
      ],
      "execution_count": 279,
      "outputs": [
        {
          "output_type": "stream",
          "text": [
            "Most similar to Toy Story\n"
          ],
          "name": "stdout"
        },
        {
          "output_type": "display_data",
          "data": {
            "text/html": [
              "<img style=\"margin:6px; height:192px\" src=\"https://m.media-amazon.com/images/M/MV5BMDU2ZWJlMjktMTRhMy00ZTA5LWEzNDgtYmNmZTEwZTViZWJkXkEyXkFqcGdeQXVyNDQ2OTk4MzI@._V1_SX300.jpg\" height=192 alt=\"1\"><img style=\"margin:6px; height:192px\" src=\"https://m.media-amazon.com/images/M/MV5BMGQwNDNkMmItYWY1Yy00YTZmLWE5OTAtODU0MGZmMzQ1NDdkXkEyXkFqcGdeQXVyMTQxNzMzNDI@._V1_SX300.jpg\" height=192 alt=\"121\"><img style=\"margin:6px; height:192px\" src=\"https://m.media-amazon.com/images/M/MV5BY2Q2NDI1MjUtM2Q5ZS00MTFlLWJiYWEtNTZmNjQ3OGJkZDgxXkEyXkFqcGdeQXVyNTI4MjkwNjA@._V1_SX300.jpg\" height=192 alt=\"95\"><span style=\"display:inline-block; box-sizing: border-box; width:128px; height:192px; margin:6px; border:1px solid #888; text-align: center; vertical-align: bottom\">Willy Wonka and the Chocolate Factory (1971)</span><span style=\"display:inline-block; box-sizing: border-box; width:128px; height:192px; margin:6px; border:1px solid #888; text-align: center; vertical-align: bottom\">Return of the Jedi (1997)</span>"
            ],
            "text/plain": [
              "<IPython.core.display.HTML object>"
            ]
          },
          "metadata": {
            "tags": []
          }
        },
        {
          "output_type": "stream",
          "text": [
            "Most similar to Golden Eye 007\n"
          ],
          "name": "stdout"
        },
        {
          "output_type": "display_data",
          "data": {
            "text/html": [
              "<img style=\"margin:6px; height:192px\" src=\"https://m.media-amazon.com/images/M/MV5BMzk2OTg4MTk1NF5BMl5BanBnXkFtZTcwNjExNTgzNA@@._V1_SX300.jpg\" height=192 alt=\"2\"><img style=\"margin:6px; height:192px\" src=\"https://m.media-amazon.com/images/M/MV5BZWYxMDZkNmMtZjljNS00MDE5LTlmYmItMmVjZWU5NjQwYmI0L2ltYWdlXkEyXkFqcGdeQXVyNTAyODkwOQ@@._V1_SX300.jpg\" height=192 alt=\"233\"><img style=\"margin:6px; height:192px\" src=\"https://m.media-amazon.com/images/M/MV5BNjU5YmFjMjctYThkOS00MTQyLThjZmMtOWIyYzk2ZjU0ODkxXkEyXkFqcGdeQXVyMTQxNzMzNDI@._V1_SX300.jpg\" height=192 alt=\"576\"><img style=\"margin:6px; height:192px\" src=\"https://m.media-amazon.com/images/M/MV5BYzg5YmUyNGMtMThiNS00MjA2LTgwZDctNDlhM2RkZDNmZmRkXkEyXkFqcGdeQXVyNDk3NzU2MTQ@._V1_SX300.jpg\" height=192 alt=\"385\"><img style=\"margin:6px; height:192px\" src=\"https://m.media-amazon.com/images/M/MV5BMTYwNjAyODIyMF5BMl5BanBnXkFtZTYwNDMwMDk2._V1_SX300.jpg\" height=192 alt=\"403\">"
            ],
            "text/plain": [
              "<IPython.core.display.HTML object>"
            ]
          },
          "metadata": {
            "tags": []
          }
        },
        {
          "output_type": "stream",
          "text": [
            "Most similar to Independence Day\n"
          ],
          "name": "stdout"
        },
        {
          "output_type": "display_data",
          "data": {
            "text/html": [
              "<img style=\"margin:6px; height:192px\" src=\"https://m.media-amazon.com/images/M/MV5BMGQwNDNkMmItYWY1Yy00YTZmLWE5OTAtODU0MGZmMzQ1NDdkXkEyXkFqcGdeQXVyMTQxNzMzNDI@._V1_SX300.jpg\" height=192 alt=\"121\"><img style=\"margin:6px; height:192px\" src=\"https://m.media-amazon.com/images/M/MV5BMTc3NjI2MjU0Nl5BMl5BanBnXkFtZTgwNDk3ODYxMTE@._V1_SX300.jpg\" height=192 alt=\"405\"><img style=\"margin:6px; height:192px\" src=\"https://m.media-amazon.com/images/M/MV5BODExYTM0MzEtZGY2Yy00N2ExLTkwZjItNGYzYTRmMWZlOGEzXkEyXkFqcGdeQXVyNDk3NzU2MTQ@._V1_SX300.jpg\" height=192 alt=\"118\"><img style=\"margin:6px; height:192px\" src=\"N/A\" height=192 alt=\"117\"><img style=\"margin:6px; height:192px\" src=\"https://m.media-amazon.com/images/M/MV5BYzU2NDg3ZTItNzRmNy00NTQzLTljMDUtNjczOTMwZjEzNWVkXkEyXkFqcGdeQXVyMTQxNzMzNDI@._V1_SX300.jpg\" height=192 alt=\"546\">"
            ],
            "text/plain": [
              "<IPython.core.display.HTML object>"
            ]
          },
          "metadata": {
            "tags": []
          }
        },
        {
          "output_type": "stream",
          "text": [
            "Most similar to Aladdin\n"
          ],
          "name": "stdout"
        },
        {
          "output_type": "display_data",
          "data": {
            "text/html": [
              "<img style=\"margin:6px; height:192px\" src=\"https://m.media-amazon.com/images/M/MV5BY2Q2NDI1MjUtM2Q5ZS00MTFlLWJiYWEtNTZmNjQ3OGJkZDgxXkEyXkFqcGdeQXVyNTI4MjkwNjA@._V1_SX300.jpg\" height=192 alt=\"95\"><img style=\"margin:6px; height:192px\" src=\"https://m.media-amazon.com/images/M/MV5BMzE5MDM1NDktY2I0OC00YWI5LTk2NzUtYjczNDczOWQxYjM0XkEyXkFqcGdeQXVyMTQxNzMzNDI@._V1_SX300.jpg\" height=192 alt=\"588\"><span style=\"display:inline-block; box-sizing: border-box; width:128px; height:192px; margin:6px; border:1px solid #888; text-align: center; vertical-align: bottom\">Lion King, The (1994)</span><img style=\"margin:6px; height:192px\" src=\"https://m.media-amazon.com/images/M/MV5BMjM2MDgxMDg0Nl5BMl5BanBnXkFtZTgwNTM2OTM5NDE@._V1_SX300.jpg\" height=192 alt=\"82\"><img style=\"margin:6px; height:192px\" src=\"https://m.media-amazon.com/images/M/MV5BZmU0M2Y1OGUtZjIxNi00ZjBkLTg1MjgtOWIyNThiZWIwYjRiXkEyXkFqcGdeQXVyMTQxNzMzNDI@._V1_SX300.jpg\" height=192 alt=\"204\">"
            ],
            "text/plain": [
              "<IPython.core.display.HTML object>"
            ]
          },
          "metadata": {
            "tags": []
          }
        },
        {
          "output_type": "stream",
          "text": [
            "Most similar to Batmannnnnnnnaaa\n"
          ],
          "name": "stdout"
        },
        {
          "output_type": "display_data",
          "data": {
            "text/html": [
              "<img style=\"margin:6px; height:192px\" src=\"https://m.media-amazon.com/images/M/MV5BMTYwNjAyODIyMF5BMl5BanBnXkFtZTYwNDMwMDk2._V1_SX300.jpg\" height=192 alt=\"403\"><img style=\"margin:6px; height:192px\" src=\"https://m.media-amazon.com/images/M/MV5BZjI0ZWFiMmQtMjRlZi00ZmFhLWI4NmYtMjQ5YmY0MzIyMzRiXkEyXkFqcGdeQXVyMTQxNzMzNDI@._V1_SX300.jpg\" height=192 alt=\"550\"><img style=\"margin:6px; height:192px\" src=\"https://m.media-amazon.com/images/M/MV5BOGZmYzVkMmItM2NiOS00MDI3LWI4ZWQtMTg0YWZkODRkMmViXkEyXkFqcGdeQXVyODY0NzcxNw@@._V1_SX300.jpg\" height=192 alt=\"231\"><img style=\"margin:6px; height:192px\" src=\"https://m.media-amazon.com/images/M/MV5BMjM2MDgxMDg0Nl5BMl5BanBnXkFtZTgwNTM2OTM5NDE@._V1_SX300.jpg\" height=192 alt=\"82\"><img style=\"margin:6px; height:192px\" src=\"https://m.media-amazon.com/images/M/MV5BMzMzYzk3ZTEtZDg0My00MTY5LWE3ZmQtYzNhYjhjN2RhZGRjL2ltYWdlXkEyXkFqcGdeQXVyNTAyODkwOQ@@._V1_SX300.jpg\" height=192 alt=\"226\">"
            ],
            "text/plain": [
              "<IPython.core.display.HTML object>"
            ]
          },
          "metadata": {
            "tags": []
          }
        }
      ]
    },
    {
      "metadata": {
        "id": "bcjx2rxKxvbs",
        "colab_type": "text"
      },
      "cell_type": "markdown",
      "source": [
        "They are more or less the same 😐, similar movies are returned using correlation compared to cosine similarity.\n",
        "\n",
        "Nonetheless, I hope you understand the basics in collaborative filtering and recommendation systems using the memory-based approach. It is intuitive. However its simplicity means there are a few cons:\n",
        "- Data sparsity and cold start problem. There are so many unrated items and new users need to rate enough items for the system to make a meaningful recommendation. Similarly new items will also face the same problem of not having many ratings.\n",
        "- Scalability. The system can not scale well when there are millions of users × items.\n",
        "- Gray sheep & black sheep 🐑 🐏 \n",
        "\n",
        "\n",
        "\n",
        "We will explore more advanced approaches in the next notebooks.\n",
        "\n",
        "- Memory based technique ✓ this notebook\n",
        "- Model-based using machine learning algorithms, next notebook\n",
        "- Hybrid, next notebooke\n",
        "\n",
        "\n",
        "\n",
        "<br />\n",
        "<br />\n",
        "References:\n",
        "- https://en.wikipedia.org/wiki/Collaborative_filtering\n",
        "- https://www.ethanrosenthal.com/2015/11/02/intro-to-collaborative-filtering/"
      ]
    }
  ]
}