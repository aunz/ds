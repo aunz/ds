{
  "nbformat": 4,
  "nbformat_minor": 0,
  "metadata": {
    "colab": {
      "name": "Air Passengers - Time Series Analysis",
      "version": "0.3.2",
      "provenance": [],
      "collapsed_sections": [],
      "include_colab_link": true
    },
    "kernelspec": {
      "name": "python3",
      "display_name": "Python 3"
    },
    "accelerator": "GPU"
  },
  "cells": [
    {
      "cell_type": "markdown",
      "metadata": {
        "id": "view-in-github",
        "colab_type": "text"
      },
      "source": [
        "<a href=\"https://colab.research.google.com/github/aunz/ds/blob/master/Air_Passengers_Time_Series_Analysis.ipynb\" target=\"_parent\"><img src=\"https://colab.research.google.com/assets/colab-badge.svg\" alt=\"Open In Colab\"/></a>"
      ]
    },
    {
      "metadata": {
        "id": "GroVV8K7jazi",
        "colab_type": "text"
      },
      "cell_type": "markdown",
      "source": [
        "# Data\n",
        "\n",
        "We are using the classic Air Passengers dataset, containing international airline passengers between 1949 to 1960 "
      ]
    },
    {
      "metadata": {
        "id": "AGvqRQPdjCYY",
        "colab_type": "code",
        "colab": {
          "base_uri": "https://localhost:8080/",
          "height": 74
        },
        "outputId": "020b6d06-62a3-4990-8078-0a18a9bedc83"
      },
      "cell_type": "code",
      "source": [
        "import numpy as np\n",
        "import pandas as pd\n",
        "from statsmodels.tsa.stattools import adfuller\n",
        "\n",
        "import matplotlib.pyplot as plt"
      ],
      "execution_count": 53,
      "outputs": [
        {
          "output_type": "stream",
          "text": [
            "/usr/local/lib/python3.6/dist-packages/statsmodels/compat/pandas.py:56: FutureWarning: The pandas.core.datetools module is deprecated and will be removed in a future version. Please use the pandas.tseries module instead.\n",
            "  from pandas.core import datetools\n"
          ],
          "name": "stderr"
        }
      ]
    },
    {
      "metadata": {
        "id": "HQY2J9GJl6Wd",
        "colab_type": "text"
      },
      "cell_type": "markdown",
      "source": [
        "Download the data and read them into pandas data frame\n"
      ]
    },
    {
      "metadata": {
        "id": "relHGZkXjICm",
        "colab_type": "code",
        "colab": {
          "base_uri": "https://localhost:8080/",
          "height": 72
        },
        "outputId": "33ecd6d5-2921-4d12-f586-f0502812b681"
      },
      "cell_type": "code",
      "source": [
        "!curl -O http://www-eio.upc.edu/~pau/cms/rdata/csv/datasets/AirPassengers.csv"
      ],
      "execution_count": 3,
      "outputs": [
        {
          "output_type": "stream",
          "text": [
            "  % Total    % Received % Xferd  Average Speed   Time    Time     Time  Current\n",
            "                                 Dload  Upload   Total   Spent    Left  Speed\n",
            "100  3326  100  3326    0     0   4353      0 --:--:-- --:--:-- --:--:--  4353\n"
          ],
          "name": "stdout"
        }
      ]
    },
    {
      "metadata": {
        "id": "kBJxPnbLlDVz",
        "colab_type": "code",
        "colab": {
          "base_uri": "https://localhost:8080/",
          "height": 206
        },
        "outputId": "8ba2007b-c0a7-4235-efed-e4134b9eff96"
      },
      "cell_type": "code",
      "source": [
        "data = pd.read_csv('AirPassengers.csv', usecols=['time', 'AirPassengers'])\n",
        "data.head()"
      ],
      "execution_count": 4,
      "outputs": [
        {
          "output_type": "execute_result",
          "data": {
            "text/html": [
              "<div>\n",
              "<style scoped>\n",
              "    .dataframe tbody tr th:only-of-type {\n",
              "        vertical-align: middle;\n",
              "    }\n",
              "\n",
              "    .dataframe tbody tr th {\n",
              "        vertical-align: top;\n",
              "    }\n",
              "\n",
              "    .dataframe thead th {\n",
              "        text-align: right;\n",
              "    }\n",
              "</style>\n",
              "<table border=\"1\" class=\"dataframe\">\n",
              "  <thead>\n",
              "    <tr style=\"text-align: right;\">\n",
              "      <th></th>\n",
              "      <th>time</th>\n",
              "      <th>AirPassengers</th>\n",
              "    </tr>\n",
              "  </thead>\n",
              "  <tbody>\n",
              "    <tr>\n",
              "      <th>0</th>\n",
              "      <td>1949.000000</td>\n",
              "      <td>112</td>\n",
              "    </tr>\n",
              "    <tr>\n",
              "      <th>1</th>\n",
              "      <td>1949.083333</td>\n",
              "      <td>118</td>\n",
              "    </tr>\n",
              "    <tr>\n",
              "      <th>2</th>\n",
              "      <td>1949.166667</td>\n",
              "      <td>132</td>\n",
              "    </tr>\n",
              "    <tr>\n",
              "      <th>3</th>\n",
              "      <td>1949.250000</td>\n",
              "      <td>129</td>\n",
              "    </tr>\n",
              "    <tr>\n",
              "      <th>4</th>\n",
              "      <td>1949.333333</td>\n",
              "      <td>121</td>\n",
              "    </tr>\n",
              "  </tbody>\n",
              "</table>\n",
              "</div>"
            ],
            "text/plain": [
              "          time  AirPassengers\n",
              "0  1949.000000            112\n",
              "1  1949.083333            118\n",
              "2  1949.166667            132\n",
              "3  1949.250000            129\n",
              "4  1949.333333            121"
            ]
          },
          "metadata": {
            "tags": []
          },
          "execution_count": 4
        }
      ]
    },
    {
      "metadata": {
        "id": "x5eTA4zqnVD5",
        "colab_type": "text"
      },
      "cell_type": "markdown",
      "source": [
        "Oh no, the time colum is all messed up. We will need to fix it a bit.\n"
      ]
    },
    {
      "metadata": {
        "id": "ldMDaaLlmEps",
        "colab_type": "code",
        "colab": {
          "base_uri": "https://localhost:8080/",
          "height": 238
        },
        "outputId": "5c1b73ba-586a-4d62-a1cb-ad5885cafd7b"
      },
      "cell_type": "code",
      "source": [
        "data['time'] = data.time.astype(int).astype(str) + '-' + np.round((data.time - data.time.astype(int)) * 12 + 1).astype(int).astype(str)\n",
        "data['time'] = pd.to_datetime(data['time'], format='%Y-%m')\n",
        "data = data.set_index('time')\n",
        "data.head()"
      ],
      "execution_count": 5,
      "outputs": [
        {
          "output_type": "execute_result",
          "data": {
            "text/html": [
              "<div>\n",
              "<style scoped>\n",
              "    .dataframe tbody tr th:only-of-type {\n",
              "        vertical-align: middle;\n",
              "    }\n",
              "\n",
              "    .dataframe tbody tr th {\n",
              "        vertical-align: top;\n",
              "    }\n",
              "\n",
              "    .dataframe thead th {\n",
              "        text-align: right;\n",
              "    }\n",
              "</style>\n",
              "<table border=\"1\" class=\"dataframe\">\n",
              "  <thead>\n",
              "    <tr style=\"text-align: right;\">\n",
              "      <th></th>\n",
              "      <th>AirPassengers</th>\n",
              "    </tr>\n",
              "    <tr>\n",
              "      <th>time</th>\n",
              "      <th></th>\n",
              "    </tr>\n",
              "  </thead>\n",
              "  <tbody>\n",
              "    <tr>\n",
              "      <th>1949-01-01</th>\n",
              "      <td>112</td>\n",
              "    </tr>\n",
              "    <tr>\n",
              "      <th>1949-02-01</th>\n",
              "      <td>118</td>\n",
              "    </tr>\n",
              "    <tr>\n",
              "      <th>1949-03-01</th>\n",
              "      <td>132</td>\n",
              "    </tr>\n",
              "    <tr>\n",
              "      <th>1949-04-01</th>\n",
              "      <td>129</td>\n",
              "    </tr>\n",
              "    <tr>\n",
              "      <th>1949-05-01</th>\n",
              "      <td>121</td>\n",
              "    </tr>\n",
              "  </tbody>\n",
              "</table>\n",
              "</div>"
            ],
            "text/plain": [
              "            AirPassengers\n",
              "time                     \n",
              "1949-01-01            112\n",
              "1949-02-01            118\n",
              "1949-03-01            132\n",
              "1949-04-01            129\n",
              "1949-05-01            121"
            ]
          },
          "metadata": {
            "tags": []
          },
          "execution_count": 5
        }
      ]
    },
    {
      "metadata": {
        "id": "N43mo3WBThqh",
        "colab_type": "text"
      },
      "cell_type": "markdown",
      "source": [
        "A picture is worth a thousand words. We can see that the number of air passengers increased over time.\n",
        "\n",
        "Also, there is a seasonal variation with more passengers during the middle of a year"
      ]
    },
    {
      "metadata": {
        "id": "k3SCYwQXVv21",
        "colab_type": "code",
        "colab": {
          "base_uri": "https://localhost:8080/",
          "height": 211
        },
        "outputId": "595ca11a-e100-473b-f0de-237e7e255ae8"
      },
      "cell_type": "code",
      "source": [
        "_, ax = plt.subplots(figsize=(15, 3))\n",
        "ax.plot(data)\n",
        "ax.xaxis.set_major_locator(__import__('matplotlib').dates.YearLocator())\n",
        "ax.xaxis.set_minor_locator(__import__('matplotlib').dates.MonthLocator())"
      ],
      "execution_count": 52,
      "outputs": [
        {
          "output_type": "display_data",
          "data": {
            "image/png": "[encoded data removed]",
            "text/plain": [
              "<Figure size 1080x216 with 1 Axes>"
            ]
          },
          "metadata": {
            "tags": []
          }
        }
      ]
    },
    {
      "metadata": {
        "id": "eJ7h1BBVXdiC",
        "colab_type": "code",
        "colab": {
          "base_uri": "https://localhost:8080/",
          "height": 35
        },
        "outputId": "75b3275e-f775-44e8-da3a-628fc28f562d"
      },
      "cell_type": "code",
      "source": [
        ""
      ],
      "execution_count": 20,
      "outputs": [
        {
          "output_type": "execute_result",
          "data": {
            "text/plain": [
              "<function matplotlib.pyplot.axes>"
            ]
          },
          "metadata": {
            "tags": []
          },
          "execution_count": 20
        }
      ]
    },
    {
      "metadata": {
        "id": "v1r58aU4WPYu",
        "colab_type": "code",
        "colab": {
          "base_uri": "https://localhost:8080/",
          "height": 35
        },
        "outputId": "f221bd7d-d340-4605-d1b6-3cebdad2bb3d"
      },
      "cell_type": "code",
      "source": [
        "ax.xaxis.set_major_formatter(__import__('matplotlib').dates.MonthLocator())"
      ],
      "execution_count": 16,
      "outputs": [
        {
          "output_type": "execute_result",
          "data": {
            "text/plain": [
              "<matplotlib.dates.MonthLocator at 0x7fa9e472d0f0>"
            ]
          },
          "metadata": {
            "tags": []
          },
          "execution_count": 16
        }
      ]
    },
    {
      "metadata": {
        "id": "EygiPlAEnjbc",
        "colab_type": "code",
        "colab": {}
      },
      "cell_type": "code",
      "source": [
        ""
      ],
      "execution_count": 0,
      "outputs": []
    }
  ]
}