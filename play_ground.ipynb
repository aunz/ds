{
  "nbformat": 4,
  "nbformat_minor": 0,
  "metadata": {
    "colab": {
      "name": "play ground",
      "version": "0.3.2",
      "provenance": [],
      "collapsed_sections": [],
      "toc_visible": true
    },
    "kernelspec": {
      "name": "python3",
      "display_name": "Python 3"
    },
    "accelerator": "GPU"
  },
  "cells": [
    {
      "metadata": {
        "id": "-AIjKye60e6e",
        "colab_type": "code",
        "colab": {
          "base_uri": "https://localhost:8080/",
          "height": 35
        },
        "outputId": "3d94b8ee-867e-4414-bbf0-fc673822512a"
      },
      "cell_type": "code",
      "source": [
        ""
      ],
      "execution_count": 30,
      "outputs": [
        {
          "output_type": "stream",
          "text": [
            "Download 100%.\n"
          ],
          "name": "stdout"
        }
      ]
    },
    {
      "metadata": {
        "id": "Jak33JeyBjkR",
        "colab_type": "code",
        "colab": {
          "base_uri": "https://localhost:8080/",
          "height": 127
        },
        "outputId": "da6a5d35-2fe2-4ba5-e26e-3903edc7cd39"
      },
      "cell_type": "code",
      "source": [
        "!ls -lah kaggle"
      ],
      "execution_count": 36,
      "outputs": [
        {
          "output_type": "stream",
          "text": [
            "total 104K\n",
            "drwxr-xr-x 2 root root 4.0K Sep 11 10:07 .\n",
            "drwxr-xr-x 1 root root 4.0K Sep 11 10:07 ..\n",
            "-rw-r--r-- 1 root root 3.2K Sep 11 10:07 gender_submission.csv\n",
            "-rw-r--r-- 1 root root  28K Sep 11 10:07 test.csv\n",
            "-rw-r--r-- 1 root root  60K Sep 11 10:07 train.csv\n"
          ],
          "name": "stdout"
        }
      ]
    }
  ]
}