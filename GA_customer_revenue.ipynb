{
  "cells": [
    {
      "metadata": {
        "_uuid": "9a620d80d7da0dc7b851405e479a4af6aa13f442"
      },
      "cell_type": "markdown",
      "source": "# Google Analytics Customer Revenue Prediction"
    },
    {
      "metadata": {
        "_uuid": "8f2839f25d086af736a60e9eeb907d3b93b6e0e5",
        "_cell_guid": "b1076dfc-b9ad-4769-8c92-a6c4dae69d19",
        "trusted": true
      },
      "cell_type": "code",
      "source": "import numpy as np\nimport pandas as pd\nimport json\nfrom pandas.io.json import json_normalize\nimport os\nimport matplotlib.pyplot as plt",
      "execution_count": 7,
      "outputs": []
    },
    {
      "metadata": {
        "_uuid": "85b8e77759c7e72f0ff6fc5fedba244d3bf6c7d2"
      },
      "cell_type": "markdown",
      "source": "Define a function to load the CSV files"
    },
    {
      "metadata": {
        "_cell_guid": "79c7e3d0-c299-4dcb-8224-4455121ee9b0",
        "_uuid": "d629ff2d2480ee46fbb7e2d37f6b5fab8052498a",
        "trusted": true
      },
      "cell_type": "code",
      "source": "# https://www.kaggle.com/julian3833/1-quick-start-read-csv-and-flatten-json-fields/notebook\ndef load_df(csv_path='../input/train.csv', nrows=None):\n    JSON_COLUMNS = ['device', 'geoNetwork', 'totals', 'trafficSource']\n    \n    df = pd.read_csv(\n        csv_path,\n        converters={ column: json.loads for column in JSON_COLUMNS },\n        dtype={ 'fullVisitorId': 'str', 'visitId': 'str' },\n        nrows=nrows\n    )\n    \n    for column in JSON_COLUMNS:\n        column_as_df = json_normalize(df[column])\n        column_as_df.columns = [f'{column}.{subcolumn}' for subcolumn in column_as_df.columns]\n        df = df.drop(column, axis=1).merge(column_as_df, right_index=True, left_index=True)\n    print(f'Loaded {os.path.basename(csv_path)}. Shape: {df.shape}')\n    return df",
      "execution_count": null,
      "outputs": []
    },
    {
      "metadata": {
        "trusted": true,
        "_uuid": "990f3123d878b2f24b24b83479120d23206c4a4d"
      },
      "cell_type": "code",
      "source": "# %%time\n# df_train = load_df()\n# df_test = load_df('../input/test.csv')",
      "execution_count": null,
      "outputs": []
    },
    {
      "metadata": {
        "trusted": true,
        "_uuid": "3943ddc7b3beb043a223e72b5bea6716d6446f22"
      },
      "cell_type": "code",
      "source": "# %%time\n# df_train.to_csv('train-flattened.csv', index=False)\n# df_test.to_csv('test-flattened.csv', index=False)",
      "execution_count": null,
      "outputs": []
    },
    {
      "metadata": {
        "trusted": true,
        "_uuid": "50aab3cdd4d3f89bf8ebf52b1dcd9e9b8725c154"
      },
      "cell_type": "code",
      "source": "df_train = pd.read_csv('../input/ga-revenue-prediction/train-flattened.csv')\ndf_test = pd.read_csv('../input/ga-revenue-prediction/test-flattened.csv');",
      "execution_count": 25,
      "outputs": [
        {
          "output_type": "stream",
          "text": "/opt/conda/lib/python3.6/site-packages/IPython/core/interactiveshell.py:2785: DtypeWarning: Columns (2) have mixed types. Specify dtype option on import or set low_memory=False.\n  interactivity=interactivity, compiler=compiler, result=result)\n",
          "name": "stderr"
        }
      ]
    },
    {
      "metadata": {
        "_uuid": "dafcc5be45eb214e5033a1fb343d3481935e6b17"
      },
      "cell_type": "markdown",
      "source": "## Target variable\n`totals.transactionRevenue`\n1. Convert to float, fill NA with 0\n2. Only 11515 records resulted in revenue, the remaining 892138 records had zero revenue.\n3. Of these, only 9996 visitors (out of 714167 unique visitors) had non-zero revenue. This translates that only 1.4% of visitors bought something."
    },
    {
      "metadata": {
        "trusted": true,
        "_uuid": "eb3ea4c1e7e8cf5d0a7cf40f2de941ba84df988d"
      },
      "cell_type": "code",
      "source": "df_train['totals.transactionRevenue'] = df_train['totals.transactionRevenue'].astype(float)\ndf_train['totals.transactionRevenue'].fillna(0, inplace=True)\nnp.sum(df_train['totals.transactionRevenue'] > 0), np.sum(df_train.groupby('fullVisitorId')['totals.transactionRevenue'].sum() > 0)",
      "execution_count": 14,
      "outputs": [
        {
          "output_type": "execute_result",
          "execution_count": 14,
          "data": {
            "text/plain": "(11515, 10114)"
          },
          "metadata": {}
        }
      ]
    },
    {
      "metadata": {
        "_uuid": "c16a76a7d313b3d7cf9636475579c8eecf24f9bb"
      },
      "cell_type": "markdown",
      "source": "## Predictors\n1. There are 54 predictos in the train set and 52 in the test set.\n2. Remove predictors not present in the test set\n3. Remove predictors where values are the same for all observations\n\n"
    },
    {
      "metadata": {
        "trusted": true,
        "_uuid": "47d916e250c931c99e447bcf09edc3c73efa56ed"
      },
      "cell_type": "code",
      "source": "columns = set(df_train.columns).intersection((set(df_test.columns))) # columns present in both train and test\nprint('Remove columns:', end=' ')\nfor i in df_train.columns[df_train.nunique(dropna=False) == 1]:\n    print(i, end=', ')\n    columns.remove(i)",
      "execution_count": 74,
      "outputs": [
        {
          "output_type": "stream",
          "text": "Remove columns: socialEngagementType, device.browserSize, device.browserVersion, device.flashVersion, device.language, device.mobileDeviceBranding, device.mobileDeviceInfo, device.mobileDeviceMarketingName, device.mobileDeviceModel, device.mobileInputSelector, device.operatingSystemVersion, device.screenColors, device.screenResolution, geoNetwork.cityId, geoNetwork.latitude, geoNetwork.longitude, geoNetwork.networkLocation, totals.visits, trafficSource.adwordsClickInfo.criteriaParameters, ",
          "name": "stdout"
        }
      ]
    },
    {
      "metadata": {
        "trusted": true,
        "_uuid": "10c414d3e1bb3eebb6a7d4e9488b9169a0457368"
      },
      "cell_type": "code",
      "source": "",
      "execution_count": null,
      "outputs": []
    },
    {
      "metadata": {
        "trusted": true,
        "_uuid": "0f9673f22ddc0bdff391be3a546d3890d31787a8"
      },
      "cell_type": "code",
      "source": "",
      "execution_count": null,
      "outputs": []
    }
  ],
  "metadata": {
    "kernelspec": {
      "display_name": "Python 3",
      "language": "python",
      "name": "python3"
    },
    "language_info": {
      "name": "python",
      "version": "3.6.6",
      "mimetype": "text/x-python",
      "codemirror_mode": {
        "name": "ipython",
        "version": 3
      },
      "pygments_lexer": "ipython3",
      "nbconvert_exporter": "python",
      "file_extension": ".py"
    }
  },
  "nbformat": 4,
  "nbformat_minor": 1
}