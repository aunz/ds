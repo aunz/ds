{
  "cells": [
    {
      "metadata": {
        "_uuid": "9a620d80d7da0dc7b851405e479a4af6aa13f442"
      },
      "cell_type": "markdown",
      "source": "# Google Analytics Customer Revenue Prediction"
    },
    {
      "metadata": {
        "_uuid": "8f2839f25d086af736a60e9eeb907d3b93b6e0e5",
        "_cell_guid": "b1076dfc-b9ad-4769-8c92-a6c4dae69d19",
        "trusted": true
      },
      "cell_type": "code",
      "source": "import numpy as np\nimport pandas as pd\nimport json\nfrom pandas.io.json import json_normalize\nimport os\nimport matplotlib.pyplot as plt\n",
      "execution_count": 46,
      "outputs": []
    },
    {
      "metadata": {
        "_cell_guid": "79c7e3d0-c299-4dcb-8224-4455121ee9b0",
        "_uuid": "d629ff2d2480ee46fbb7e2d37f6b5fab8052498a",
        "trusted": true
      },
      "cell_type": "code",
      "source": "# https://www.kaggle.com/julian3833/1-quick-start-read-csv-and-flatten-json-fields/notebook\ndef load_df(csv_path='../input/train.csv', nrows=None):\n    JSON_COLUMNS = ['device', 'geoNetwork', 'totals', 'trafficSource']\n    \n    df = pd.read_csv(\n        csv_path,\n        converters={ column: json.loads for column in JSON_COLUMNS },\n        dtype={ 'fullVisitorId': 'str', 'visitId': 'str' },\n        nrows=nrows\n    )\n    \n    for column in JSON_COLUMNS:\n        column_as_df = json_normalize(df[column])\n        column_as_df.columns = [f'{column}.{subcolumn}' for subcolumn in column_as_df.columns]\n        df = df.drop(column, axis=1).merge(column_as_df, right_index=True, left_index=True)\n    print(f'Loaded {os.path.basename(csv_path)}. Shape: {df.shape}')\n    return df",
      "execution_count": 13,
      "outputs": []
    },
    {
      "metadata": {
        "trusted": true,
        "_uuid": "ca605f950c30107e621d527a726b53b9815bedf8"
      },
      "cell_type": "code",
      "source": "%%time\ndf_train = load_df()\ndf_test = load_df('../input/test.csv')\n\n%%time\ndf_train.to_csv('train-flattened.csv', index=False)\ndf_test.to_csv('test-flattened.csv', index=False)",
      "execution_count": 15,
      "outputs": [
        {
          "output_type": "stream",
          "text": "Loaded train.csv. Shape: (903653, 55)\nLoaded test.csv. Shape: (804684, 53)\nCPU times: user 4min 44s, sys: 8.12 s, total: 4min 52s\nWall time: 4min 52s\n",
          "name": "stdout"
        }
      ]
    },
    {
      "metadata": {
        "trusted": true,
        "_uuid": "1b0de97f0db4395c7f92ade1b2c76c1239a25198"
      },
      "cell_type": "code",
      "source": "df_train.shape, df_test.shape",
      "execution_count": 20,
      "outputs": [
        {
          "output_type": "execute_result",
          "execution_count": 20,
          "data": {
            "text/plain": "((903653, 55), (804684, 53))"
          },
          "metadata": {}
        }
      ]
    },
    {
      "metadata": {
        "trusted": true,
        "_uuid": "a62f9cdc970ada72dff7c42e39ae01d62c592002"
      },
      "cell_type": "code",
      "source": "df_train['totals.transactionRevenue'] = df_train['totals.transactionRevenue'].astype(float)",
      "execution_count": 53,
      "outputs": [
        {
          "output_type": "execute_result",
          "execution_count": 53,
          "data": {
            "text/plain": "11515"
          },
          "metadata": {}
        }
      ]
    }
  ],
  "metadata": {
    "kernelspec": {
      "display_name": "Python 3",
      "language": "python",
      "name": "python3"
    },
    "language_info": {
      "name": "python",
      "version": "3.6.6",
      "mimetype": "text/x-python",
      "codemirror_mode": {
        "name": "ipython",
        "version": 3
      },
      "pygments_lexer": "ipython3",
      "nbconvert_exporter": "python",
      "file_extension": ".py"
    }
  },
  "nbformat": 4,
  "nbformat_minor": 1
}