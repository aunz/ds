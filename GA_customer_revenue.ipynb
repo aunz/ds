{
  "cells": [
    {
      "metadata": {
        "_uuid": "9a620d80d7da0dc7b851405e479a4af6aa13f442"
      },
      "cell_type": "markdown",
      "source": "# Google Analytics Customer Revenue Prediction"
    },
    {
      "metadata": {
        "_uuid": "8f2839f25d086af736a60e9eeb907d3b93b6e0e5",
        "_cell_guid": "b1076dfc-b9ad-4769-8c92-a6c4dae69d19",
        "trusted": true
      },
      "cell_type": "code",
      "source": "import numpy as np\nimport pandas as pd\n\nimport matplotlib.pyplot as plt\nimport plotly.offline as py\nimport plotly.graph_objs as go\npy.init_notebook_mode(connected=True)",
      "execution_count": 2,
      "outputs": [
        {
          "output_type": "display_data",
          "data": {
            "text/html": "<script>requirejs.config({paths: { 'plotly': ['https://cdn.plot.ly/plotly-latest.min']},});if(!window.Plotly) {{require(['plotly'],function(plotly) {window.Plotly=plotly;});}}</script>",
            "text/vnd.plotly.v1+html": "<script>requirejs.config({paths: { 'plotly': ['https://cdn.plot.ly/plotly-latest.min']},});if(!window.Plotly) {{require(['plotly'],function(plotly) {window.Plotly=plotly;});}}</script>"
          },
          "metadata": {}
        }
      ]
    },
    {
      "metadata": {
        "_uuid": "85b8e77759c7e72f0ff6fc5fedba244d3bf6c7d2"
      },
      "cell_type": "markdown",
      "source": "Define a function to load the CSV files"
    },
    {
      "metadata": {
        "_cell_guid": "79c7e3d0-c299-4dcb-8224-4455121ee9b0",
        "_uuid": "d629ff2d2480ee46fbb7e2d37f6b5fab8052498a",
        "trusted": true
      },
      "cell_type": "code",
      "source": "%%time\n# credit to https://www.kaggle.com/julian3833/1-quick-start-read-csv-and-flatten-json-fields/notebook\ndef load_df(csv_path='../input/ga-customer-revenue-prediction/train.csv', nrows=None):\n    JSON_COLUMNS = ['device', 'geoNetwork', 'totals', 'trafficSource']\n    \n    json = __import__('json')\n    json_normalize = pd.io.json.json_normalize\n    df = pd.read_csv(\n        csv_path,\n        converters={ column: json.loads for column in JSON_COLUMNS },\n        dtype={ 'fullVisitorId': 'str', 'visitId': 'str' },\n        nrows=nrows\n    )\n    \n    for column in JSON_COLUMNS:\n        column_as_df = json_normalize(df[column])\n        column_as_df.columns = [f'{column}.{subcolumn}' for subcolumn in column_as_df.columns]\n        df = df.drop(column, axis=1).merge(column_as_df, right_index=True, left_index=True)\n    print(f'Loaded {csv_path}. Shape: {df.shape}')\n    return df\n\n# df_train = load_df()\n# df_test = load_df('../input/ga-customer-revenue-prediction/test.csv')",
      "execution_count": null,
      "outputs": []
    },
    {
      "metadata": {
        "trusted": true,
        "_uuid": "990f3123d878b2f24b24b83479120d23206c4a4d"
      },
      "cell_type": "code",
      "source": "# %%time\n# df_train.to_csv('train-flattened.csv', index=False)\n# df_test.to_csv('test-flattened.csv', index=False)",
      "execution_count": null,
      "outputs": []
    },
    {
      "metadata": {
        "trusted": true,
        "_uuid": "50aab3cdd4d3f89bf8ebf52b1dcd9e9b8725c154"
      },
      "cell_type": "code",
      "source": "%%time\n# these have been saved earlier\ndf_train = pd.read_csv('../input/ga-store-customer-revenue/train-flattened.csv', dtype={ 'fullVisitorId': str, 'visitId': str, 'trafficSource.campaignCode': str },)\ndf_test = pd.read_csv('../input/ga-store-customer-revenue/test-flattened.csv', dtype={ 'fullVisitorId': str, 'visitId': str },)",
      "execution_count": 3,
      "outputs": [
        {
          "output_type": "stream",
          "text": "CPU times: user 19.7 s, sys: 1.71 s, total: 21.5 s\nWall time: 21.6 s\n",
          "name": "stdout"
        }
      ]
    },
    {
      "metadata": {
        "_uuid": "dafcc5be45eb214e5033a1fb343d3481935e6b17"
      },
      "cell_type": "markdown",
      "source": "## Target variable\n`totals.transactionRevenue`\n1. There are 903653 records in the train set, 804684 in the test set\n2. Only 11515 records resulted in revenue, the remaining 892138 records had zero revenue.\n3. Of these, only 9996 visitors (out of 714167 unique visitors) had non-zero revenue. This translates to: only 1.4% of visitors bought something.\n4. From 2016-08 to 2017-08, GStore in this dataset had \\$1,540,071  in revenue, or \\$4,219 per day. With a min spend of \\$0.01, max of \\$23,129, mean of \\$133, and median of \\$49"
    },
    {
      "metadata": {
        "trusted": true,
        "_uuid": "eb3ea4c1e7e8cf5d0a7cf40f2de941ba84df988d",
        "_kg_hide-output": false
      },
      "cell_type": "code",
      "source": "df_train['totals.transactionRevenue'] = df_train['totals.transactionRevenue'].astype(float)\ndf_train['totals.transactionRevenue'].notnull().sum()\nnp.sum(df_train.groupby('fullVisitorId')['totals.transactionRevenue'].sum() > 0)\ndf_train['totals.transactionRevenue'].sum() / 1000000\n(df_train['totals.transactionRevenue'][df_train['totals.transactionRevenue'] > 0] / 1000000).agg(['min', 'max', 'mean', 'median'])",
      "execution_count": 4,
      "outputs": [
        {
          "output_type": "execute_result",
          "execution_count": 4,
          "data": {
            "text/plain": "min           0.010000\nmax       23129.500000\nmean        133.744789\nmedian       49.450000\nName: totals.transactionRevenue, dtype: float64"
          },
          "metadata": {}
        }
      ]
    },
    {
      "metadata": {
        "_uuid": "022504207494a43177e2771a3c8b93c7bb28853e"
      },
      "cell_type": "markdown",
      "source": "## Predictors\n1. There are 54 predictos in the train set and 52 in the test set.\n2. Predictors not present in the test set can be removed\n3. Predictors where values are the same for all records can also be removed"
    },
    {
      "metadata": {
        "trusted": true,
        "_uuid": "672248d1446e233ddf88501c0b7acd41cbad4ed6"
      },
      "cell_type": "code",
      "source": "columns = set(df_train.columns).intersection((set(df_test.columns))) # columns present in both train and test\nprint('Predictors that can be removed:', end=' ')\nfor i in df_train.columns[df_train.nunique(dropna=False) == 1].tolist() + df_test.columns[df_test.nunique(dropna=False) == 1].tolist():\n    if (i in columns):\n        print(i, end=', ')\n        columns.remove(i)",
      "execution_count": 5,
      "outputs": [
        {
          "output_type": "stream",
          "text": "Predictors that can be removed: socialEngagementType, device.browserSize, device.browserVersion, device.flashVersion, device.language, device.mobileDeviceBranding, device.mobileDeviceInfo, device.mobileDeviceMarketingName, device.mobileDeviceModel, device.mobileInputSelector, device.operatingSystemVersion, device.screenColors, device.screenResolution, geoNetwork.cityId, geoNetwork.latitude, geoNetwork.longitude, geoNetwork.networkLocation, totals.visits, trafficSource.adwordsClickInfo.criteriaParameters, ",
          "name": "stdout"
        }
      ]
    },
    {
      "metadata": {
        "trusted": true,
        "_uuid": "5aff90e1bb9d5392248d0b5cc78a87a771f3e6c3"
      },
      "cell_type": "code",
      "source": "def count(var, p=True):\n    tmp = pd.concat([\n        df_train[var].value_counts(dropna=False),\n        df_train[df_train['totals.transactionRevenue'] > 0][var].value_counts(dropna=False),\n        df_test[var].value_counts(dropna=False),\n    ], keys=['train', 'train with revenue', 'test'], axis=1, sort=False)\n    tmp['train %'] = np.round(tmp['train'] / tmp['train'].sum() * 100, 1)\n    tmp['train with revenue %'] = np.round(tmp['train with revenue'] / tmp['train with revenue'].sum() * 100, 1)\n    tmp['test %'] = np.round(tmp['test'] / tmp['test'].sum() * 100, 1)\n    if p: print(tmp.shape)\n    return(tmp)",
      "execution_count": 6,
      "outputs": []
    },
    {
      "metadata": {
        "_uuid": "83bdf6b57c0e44b2e15d347673c5fe196a410070"
      },
      "cell_type": "markdown",
      "source": "### channelGrouping\n- There are 8 unique levels\n- The majority is \"Organic Search\""
    },
    {
      "metadata": {
        "trusted": true,
        "_uuid": "3ea270a3f66854eefb31283a9a4389764934e64f",
        "_kg_hide-input": true,
        "_kg_hide-output": true
      },
      "cell_type": "code",
      "source": "count('channelGrouping')",
      "execution_count": 7,
      "outputs": [
        {
          "output_type": "stream",
          "text": "(8, 6)\n",
          "name": "stdout"
        },
        {
          "output_type": "execute_result",
          "execution_count": 7,
          "data": {
            "text/plain": "                 train  train with revenue   ...    train with revenue %  test %\nOrganic Search  381561                3438   ...                    29.9    44.4\nSocial          226117                 104   ...                     0.9    16.0\nDirect          143026                2042   ...                    17.7    16.2\nReferral        104838                5311   ...                    46.1    13.2\nPaid Search      25326                 468   ...                     4.1     2.5\nAffiliates       16403                   9   ...                     0.1     2.1\nDisplay           6262                 142   ...                     1.2     5.6\n(Other)            120                   1   ...                     0.0     0.0\n\n[8 rows x 6 columns]",
            "text/html": "<div>\n<style scoped>\n    .dataframe tbody tr th:only-of-type {\n        vertical-align: middle;\n    }\n\n    .dataframe tbody tr th {\n        vertical-align: top;\n    }\n\n    .dataframe thead th {\n        text-align: right;\n    }\n</style>\n<table border=\"1\" class=\"dataframe\">\n  <thead>\n    <tr style=\"text-align: right;\">\n      <th></th>\n      <th>train</th>\n      <th>train with revenue</th>\n      <th>test</th>\n      <th>train %</th>\n      <th>train with revenue %</th>\n      <th>test %</th>\n    </tr>\n  </thead>\n  <tbody>\n    <tr>\n      <th>Organic Search</th>\n      <td>381561</td>\n      <td>3438</td>\n      <td>357402</td>\n      <td>42.2</td>\n      <td>29.9</td>\n      <td>44.4</td>\n    </tr>\n    <tr>\n      <th>Social</th>\n      <td>226117</td>\n      <td>104</td>\n      <td>128854</td>\n      <td>25.0</td>\n      <td>0.9</td>\n      <td>16.0</td>\n    </tr>\n    <tr>\n      <th>Direct</th>\n      <td>143026</td>\n      <td>2042</td>\n      <td>130108</td>\n      <td>15.8</td>\n      <td>17.7</td>\n      <td>16.2</td>\n    </tr>\n    <tr>\n      <th>Referral</th>\n      <td>104838</td>\n      <td>5311</td>\n      <td>106469</td>\n      <td>11.6</td>\n      <td>46.1</td>\n      <td>13.2</td>\n    </tr>\n    <tr>\n      <th>Paid Search</th>\n      <td>25326</td>\n      <td>468</td>\n      <td>20301</td>\n      <td>2.8</td>\n      <td>4.1</td>\n      <td>2.5</td>\n    </tr>\n    <tr>\n      <th>Affiliates</th>\n      <td>16403</td>\n      <td>9</td>\n      <td>16512</td>\n      <td>1.8</td>\n      <td>0.1</td>\n      <td>2.1</td>\n    </tr>\n    <tr>\n      <th>Display</th>\n      <td>6262</td>\n      <td>142</td>\n      <td>45021</td>\n      <td>0.7</td>\n      <td>1.2</td>\n      <td>5.6</td>\n    </tr>\n    <tr>\n      <th>(Other)</th>\n      <td>120</td>\n      <td>1</td>\n      <td>17</td>\n      <td>0.0</td>\n      <td>0.0</td>\n      <td>0.0</td>\n    </tr>\n  </tbody>\n</table>\n</div>"
          },
          "metadata": {}
        }
      ]
    },
    {
      "metadata": {
        "_uuid": "98ec6d1b9171777de85b5e05b8dd164e009c897b"
      },
      "cell_type": "markdown",
      "source": "### device\n\n#### browser\n- There are 129 of them in both train and test\n- The most popular is Chrome (68.7%), followed by Safari, then Firefox.\n- Some of them are present only in the train or test set and the counts are very low.\n\n#### device.deviceCategory\n- Desktops take up ~ 3 quarters of the train set, but only about 1/3rd in the test set\n- Desktops contributed more than 90% of the total revenue\n\n#### device.operatingSystem\n- 24 levels in total\n- 6 of them: Windows, macintosh, Android, iOS, Linux and Chrome constituted to more than 99% of the market"
    },
    {
      "metadata": {
        "trusted": true,
        "_uuid": "47d916e250c931c99e447bcf09edc3c73efa56ed",
        "_kg_hide-output": true,
        "_kg_hide-input": true
      },
      "cell_type": "code",
      "source": "count('device.browser')\ncount('device.deviceCategory')\ncount('device.operatingSystem')",
      "execution_count": 8,
      "outputs": [
        {
          "output_type": "stream",
          "text": "(129, 6)\n(3, 6)\n(24, 6)\n",
          "name": "stdout"
        },
        {
          "output_type": "execute_result",
          "execution_count": 8,
          "data": {
            "text/plain": "                     train   ...    test %\nWindows           350072.0   ...      33.5\nMacintosh         253938.0   ...      22.9\nAndroid           123892.0   ...      21.8\niOS               107665.0   ...      13.9\nLinux              35034.0   ...       3.6\nChrome OS          26337.0   ...       3.1\n(not set)           4695.0   ...       0.9\nWindows Phone       1216.0   ...       0.1\nSamsung              280.0   ...       0.1\nBlackBerry           218.0   ...       0.0\nNintendo Wii         100.0   ...       NaN\nFirefox OS            89.0   ...       0.0\nXbox                  66.0   ...       0.0\nNintendo WiiU         35.0   ...       0.0\nFreeBSD                9.0   ...       0.0\nOpenBSD                2.0   ...       0.0\nNokia                  2.0   ...       0.0\nNTT DoCoMo             1.0   ...       NaN\nNintendo 3DS           1.0   ...       0.0\nSunOS                  1.0   ...       0.0\nTizen                  NaN   ...       0.1\nOS/2                   NaN   ...       0.0\nPlaystation Vita       NaN   ...       0.0\nSymbianOS              NaN   ...       0.0\n\n[24 rows x 6 columns]",
            "text/html": "<div>\n<style scoped>\n    .dataframe tbody tr th:only-of-type {\n        vertical-align: middle;\n    }\n\n    .dataframe tbody tr th {\n        vertical-align: top;\n    }\n\n    .dataframe thead th {\n        text-align: right;\n    }\n</style>\n<table border=\"1\" class=\"dataframe\">\n  <thead>\n    <tr style=\"text-align: right;\">\n      <th></th>\n      <th>train</th>\n      <th>train with revenue</th>\n      <th>test</th>\n      <th>train %</th>\n      <th>train with revenue %</th>\n      <th>test %</th>\n    </tr>\n  </thead>\n  <tbody>\n    <tr>\n      <th>Windows</th>\n      <td>350072.0</td>\n      <td>2309.0</td>\n      <td>269648.0</td>\n      <td>38.7</td>\n      <td>20.1</td>\n      <td>33.5</td>\n    </tr>\n    <tr>\n      <th>Macintosh</th>\n      <td>253938.0</td>\n      <td>6426.0</td>\n      <td>184576.0</td>\n      <td>28.1</td>\n      <td>55.8</td>\n      <td>22.9</td>\n    </tr>\n    <tr>\n      <th>Android</th>\n      <td>123892.0</td>\n      <td>467.0</td>\n      <td>175494.0</td>\n      <td>13.7</td>\n      <td>4.1</td>\n      <td>21.8</td>\n    </tr>\n    <tr>\n      <th>iOS</th>\n      <td>107665.0</td>\n      <td>536.0</td>\n      <td>111669.0</td>\n      <td>11.9</td>\n      <td>4.7</td>\n      <td>13.9</td>\n    </tr>\n    <tr>\n      <th>Linux</th>\n      <td>35034.0</td>\n      <td>782.0</td>\n      <td>28937.0</td>\n      <td>3.9</td>\n      <td>6.8</td>\n      <td>3.6</td>\n    </tr>\n    <tr>\n      <th>Chrome OS</th>\n      <td>26337.0</td>\n      <td>994.0</td>\n      <td>24981.0</td>\n      <td>2.9</td>\n      <td>8.6</td>\n      <td>3.1</td>\n    </tr>\n    <tr>\n      <th>(not set)</th>\n      <td>4695.0</td>\n      <td>NaN</td>\n      <td>7120.0</td>\n      <td>0.5</td>\n      <td>NaN</td>\n      <td>0.9</td>\n    </tr>\n    <tr>\n      <th>Windows Phone</th>\n      <td>1216.0</td>\n      <td>1.0</td>\n      <td>459.0</td>\n      <td>0.1</td>\n      <td>0.0</td>\n      <td>0.1</td>\n    </tr>\n    <tr>\n      <th>Samsung</th>\n      <td>280.0</td>\n      <td>NaN</td>\n      <td>631.0</td>\n      <td>0.0</td>\n      <td>NaN</td>\n      <td>0.1</td>\n    </tr>\n    <tr>\n      <th>BlackBerry</th>\n      <td>218.0</td>\n      <td>NaN</td>\n      <td>132.0</td>\n      <td>0.0</td>\n      <td>NaN</td>\n      <td>0.0</td>\n    </tr>\n    <tr>\n      <th>Nintendo Wii</th>\n      <td>100.0</td>\n      <td>NaN</td>\n      <td>NaN</td>\n      <td>0.0</td>\n      <td>NaN</td>\n      <td>NaN</td>\n    </tr>\n    <tr>\n      <th>Firefox OS</th>\n      <td>89.0</td>\n      <td>NaN</td>\n      <td>8.0</td>\n      <td>0.0</td>\n      <td>NaN</td>\n      <td>0.0</td>\n    </tr>\n    <tr>\n      <th>Xbox</th>\n      <td>66.0</td>\n      <td>NaN</td>\n      <td>67.0</td>\n      <td>0.0</td>\n      <td>NaN</td>\n      <td>0.0</td>\n    </tr>\n    <tr>\n      <th>Nintendo WiiU</th>\n      <td>35.0</td>\n      <td>NaN</td>\n      <td>16.0</td>\n      <td>0.0</td>\n      <td>NaN</td>\n      <td>0.0</td>\n    </tr>\n    <tr>\n      <th>FreeBSD</th>\n      <td>9.0</td>\n      <td>NaN</td>\n      <td>9.0</td>\n      <td>0.0</td>\n      <td>NaN</td>\n      <td>0.0</td>\n    </tr>\n    <tr>\n      <th>OpenBSD</th>\n      <td>2.0</td>\n      <td>NaN</td>\n      <td>1.0</td>\n      <td>0.0</td>\n      <td>NaN</td>\n      <td>0.0</td>\n    </tr>\n    <tr>\n      <th>Nokia</th>\n      <td>2.0</td>\n      <td>NaN</td>\n      <td>1.0</td>\n      <td>0.0</td>\n      <td>NaN</td>\n      <td>0.0</td>\n    </tr>\n    <tr>\n      <th>NTT DoCoMo</th>\n      <td>1.0</td>\n      <td>NaN</td>\n      <td>NaN</td>\n      <td>0.0</td>\n      <td>NaN</td>\n      <td>NaN</td>\n    </tr>\n    <tr>\n      <th>Nintendo 3DS</th>\n      <td>1.0</td>\n      <td>NaN</td>\n      <td>8.0</td>\n      <td>0.0</td>\n      <td>NaN</td>\n      <td>0.0</td>\n    </tr>\n    <tr>\n      <th>SunOS</th>\n      <td>1.0</td>\n      <td>NaN</td>\n      <td>2.0</td>\n      <td>0.0</td>\n      <td>NaN</td>\n      <td>0.0</td>\n    </tr>\n    <tr>\n      <th>Tizen</th>\n      <td>NaN</td>\n      <td>NaN</td>\n      <td>709.0</td>\n      <td>NaN</td>\n      <td>NaN</td>\n      <td>0.1</td>\n    </tr>\n    <tr>\n      <th>OS/2</th>\n      <td>NaN</td>\n      <td>NaN</td>\n      <td>199.0</td>\n      <td>NaN</td>\n      <td>NaN</td>\n      <td>0.0</td>\n    </tr>\n    <tr>\n      <th>Playstation Vita</th>\n      <td>NaN</td>\n      <td>NaN</td>\n      <td>15.0</td>\n      <td>NaN</td>\n      <td>NaN</td>\n      <td>0.0</td>\n    </tr>\n    <tr>\n      <th>SymbianOS</th>\n      <td>NaN</td>\n      <td>NaN</td>\n      <td>2.0</td>\n      <td>NaN</td>\n      <td>NaN</td>\n      <td>0.0</td>\n    </tr>\n  </tbody>\n</table>\n</div>"
          },
          "metadata": {}
        }
      ]
    },
    {
      "metadata": {
        "_uuid": "9b429593d45ccfd154738f7574f888e85cfba2bd"
      },
      "cell_type": "markdown",
      "source": "### geoNetwork\n#### geoNetwork.continent, geoNetwork.subContinent\n   - 5 continents + unset\n   - 23 subContinents\n   - America constituted to nearly half of the traffic and contributed to  more than 95% of the total revenues\n   - Europe and Asia had  also nearly half of the traffic, but their combined revenues were 2% of the total revenues\n\n#### geoNetwork.country, geoNetwork.region, geoNetwork.city, geoNetwork.metro\n- 228 cities, 483 regions, 956 cities, 123 metros\n- US has 40% traffic, but ~95% revenue\n- 483 Region: highest traffic came from \"not available\" (56%), followed by California (12%). But the \"not available\" only had ~40% revenue, while California had ~29% revenue. Interestingly, New York also had high revenue (13%) relative to its traffic (2.9%).\n- 956 citites. The city identified as \"not available\" has the highest traffic (56%) with ~ 39% revenue. The next in line is Mountain View with 4.5% traffic, but ~11% revenue.\n- Similary, metro of \"not available\" and \"not set\" have the highest combined traffic (~78%), but only ~42% revenue. Whereas San Francisco-Oakland-San Jose and New York have ~14% traffic but 39% revennue.\n\n#### geoNetwork.networkDomain\n- 41982 network domains\n- 40%  are \"not set\" and \"unknown\", but they contributed to ~61% of the total revenue"
    },
    {
      "metadata": {
        "trusted": true,
        "_uuid": "24c81f4180c8166c07b73ca13598299864ed3622",
        "_kg_hide-output": true,
        "_kg_hide-input": true
      },
      "cell_type": "code",
      "source": "count('geoNetwork.continent')\ncount('geoNetwork.subContinent')\ncount('geoNetwork.country')\ncount('geoNetwork.region')\ncount('geoNetwork.city')\ncount('geoNetwork.metro')\ncount('geoNetwork.networkDomain')",
      "execution_count": 9,
      "outputs": [
        {
          "output_type": "stream",
          "text": "(6, 6)\n(23, 6)\n(228, 6)\n(483, 6)\n(956, 6)\n(123, 6)\n(41982, 6)\n",
          "name": "stdout"
        },
        {
          "output_type": "execute_result",
          "execution_count": 9,
          "data": {
            "text/plain": "                           train   ...    test %\n(not set)               244881.0   ...      31.6\nunknown.unknown         146034.0   ...      15.4\ncomcast.net              28743.0   ...       3.3\nrr.com                   14827.0   ...       1.7\nverizon.net              13637.0   ...       1.6\nttnet.com.tr             13228.0   ...       0.5\ncomcastbusiness.net       9985.0   ...       0.9\nhinet.net                 7919.0   ...       1.0\nvirginm.net               6414.0   ...       0.8\n3bb.co.th                 6046.0   ...       0.2\nprod-infinitum.com.mx     5960.0   ...       0.5\ncox.net                   5812.0   ...       0.6\nsbcglobal.net             5388.0   ...       0.6\nbtcentralplus.com         5304.0   ...       0.5\natt.net                   5230.0   ...       0.5\ngoogle.com                5035.0   ...       0.6\noptonline.net             4972.0   ...       0.6\ntotbb.net                 4895.0   ...       0.2\nvnpt.vn                   4508.0   ...       0.4\nasianet.co.th             4374.0   ...       0.3\npldt.net                  4008.0   ...       0.2\nrima-tde.net              3963.0   ...       0.5\namazonaws.com             3769.0   ...       0.2\nt-ipconnect.de            3656.0   ...       0.3\ntelecomitalia.it          3571.0   ...       0.4\nqwest.net                 3534.0   ...       0.4\nairtelbroadband.in        3389.0   ...       0.3\nvirtua.com.br             3318.0   ...       0.3\nbell.ca                   2904.0   ...       0.4\nztomy.com                 2845.0   ...       0.0\n...                          ...   ...       ...\nkdd.com                      NaN   ...       0.0\nthehickman.org               NaN   ...       0.0\nzhnet.hu                     NaN   ...       0.0\nigadrss.org                  NaN   ...       0.0\nulst.ac.uk                   NaN   ...       0.0\nbluewaterfun.com             NaN   ...       0.0\nahmmail.com                  NaN   ...       0.0\nscotspgc.com.au              NaN   ...       0.0\natosbox.ru                   NaN   ...       0.0\nis.co.mz                     NaN   ...       0.0\npanoramicinc.com             NaN   ...       0.0\naldarhospital.com            NaN   ...       0.0\nkvbo.com.ua                  NaN   ...       0.0\neventsnight.com              NaN   ...       0.0\ntelyco.es                    NaN   ...       0.0\ncarmarthenshire.gov.uk       NaN   ...       0.0\ndigiban.co.jp                NaN   ...       0.0\neffortel.ru                  NaN   ...       0.0\ncustomers.dk                 NaN   ...       0.0\ncustoms.gov.sa               NaN   ...       0.0\nvsa.de                       NaN   ...       0.0\nnewdaybb.net                 NaN   ...       0.0\nfrii.net                     NaN   ...       0.0\ndiamonddna.com.au            NaN   ...       0.0\nkep-technologies.com         NaN   ...       0.0\n6wind.com                    NaN   ...       0.0\ndataconnection.net.br        NaN   ...       0.0\nrapidenet.com                NaN   ...       0.0\nmicrographics.us             NaN   ...       0.0\nintersv-ekb.ru               NaN   ...       0.0\n\n[41982 rows x 6 columns]",
            "text/html": "<div>\n<style scoped>\n    .dataframe tbody tr th:only-of-type {\n        vertical-align: middle;\n    }\n\n    .dataframe tbody tr th {\n        vertical-align: top;\n    }\n\n    .dataframe thead th {\n        text-align: right;\n    }\n</style>\n<table border=\"1\" class=\"dataframe\">\n  <thead>\n    <tr style=\"text-align: right;\">\n      <th></th>\n      <th>train</th>\n      <th>train with revenue</th>\n      <th>test</th>\n      <th>train %</th>\n      <th>train with revenue %</th>\n      <th>test %</th>\n    </tr>\n  </thead>\n  <tbody>\n    <tr>\n      <th>(not set)</th>\n      <td>244881.0</td>\n      <td>6645.0</td>\n      <td>254168.0</td>\n      <td>27.1</td>\n      <td>57.7</td>\n      <td>31.6</td>\n    </tr>\n    <tr>\n      <th>unknown.unknown</th>\n      <td>146034.0</td>\n      <td>400.0</td>\n      <td>123762.0</td>\n      <td>16.2</td>\n      <td>3.5</td>\n      <td>15.4</td>\n    </tr>\n    <tr>\n      <th>comcast.net</th>\n      <td>28743.0</td>\n      <td>934.0</td>\n      <td>26743.0</td>\n      <td>3.2</td>\n      <td>8.1</td>\n      <td>3.3</td>\n    </tr>\n    <tr>\n      <th>rr.com</th>\n      <td>14827.0</td>\n      <td>364.0</td>\n      <td>13888.0</td>\n      <td>1.6</td>\n      <td>3.2</td>\n      <td>1.7</td>\n    </tr>\n    <tr>\n      <th>verizon.net</th>\n      <td>13637.0</td>\n      <td>469.0</td>\n      <td>12910.0</td>\n      <td>1.5</td>\n      <td>4.1</td>\n      <td>1.6</td>\n    </tr>\n    <tr>\n      <th>ttnet.com.tr</th>\n      <td>13228.0</td>\n      <td>1.0</td>\n      <td>3850.0</td>\n      <td>1.5</td>\n      <td>0.0</td>\n      <td>0.5</td>\n    </tr>\n    <tr>\n      <th>comcastbusiness.net</th>\n      <td>9985.0</td>\n      <td>294.0</td>\n      <td>6841.0</td>\n      <td>1.1</td>\n      <td>2.6</td>\n      <td>0.9</td>\n    </tr>\n    <tr>\n      <th>hinet.net</th>\n      <td>7919.0</td>\n      <td>11.0</td>\n      <td>8014.0</td>\n      <td>0.9</td>\n      <td>0.1</td>\n      <td>1.0</td>\n    </tr>\n    <tr>\n      <th>virginm.net</th>\n      <td>6414.0</td>\n      <td>1.0</td>\n      <td>6180.0</td>\n      <td>0.7</td>\n      <td>0.0</td>\n      <td>0.8</td>\n    </tr>\n    <tr>\n      <th>3bb.co.th</th>\n      <td>6046.0</td>\n      <td>1.0</td>\n      <td>1786.0</td>\n      <td>0.7</td>\n      <td>0.0</td>\n      <td>0.2</td>\n    </tr>\n    <tr>\n      <th>prod-infinitum.com.mx</th>\n      <td>5960.0</td>\n      <td>3.0</td>\n      <td>3965.0</td>\n      <td>0.7</td>\n      <td>0.0</td>\n      <td>0.5</td>\n    </tr>\n    <tr>\n      <th>cox.net</th>\n      <td>5812.0</td>\n      <td>156.0</td>\n      <td>4910.0</td>\n      <td>0.6</td>\n      <td>1.4</td>\n      <td>0.6</td>\n    </tr>\n    <tr>\n      <th>sbcglobal.net</th>\n      <td>5388.0</td>\n      <td>150.0</td>\n      <td>5208.0</td>\n      <td>0.6</td>\n      <td>1.3</td>\n      <td>0.6</td>\n    </tr>\n    <tr>\n      <th>btcentralplus.com</th>\n      <td>5304.0</td>\n      <td>2.0</td>\n      <td>3848.0</td>\n      <td>0.6</td>\n      <td>0.0</td>\n      <td>0.5</td>\n    </tr>\n    <tr>\n      <th>att.net</th>\n      <td>5230.0</td>\n      <td>45.0</td>\n      <td>4025.0</td>\n      <td>0.6</td>\n      <td>0.4</td>\n      <td>0.5</td>\n    </tr>\n    <tr>\n      <th>google.com</th>\n      <td>5035.0</td>\n      <td>2.0</td>\n      <td>4962.0</td>\n      <td>0.6</td>\n      <td>0.0</td>\n      <td>0.6</td>\n    </tr>\n    <tr>\n      <th>optonline.net</th>\n      <td>4972.0</td>\n      <td>133.0</td>\n      <td>4762.0</td>\n      <td>0.6</td>\n      <td>1.2</td>\n      <td>0.6</td>\n    </tr>\n    <tr>\n      <th>totbb.net</th>\n      <td>4895.0</td>\n      <td>NaN</td>\n      <td>1933.0</td>\n      <td>0.5</td>\n      <td>NaN</td>\n      <td>0.2</td>\n    </tr>\n    <tr>\n      <th>vnpt.vn</th>\n      <td>4508.0</td>\n      <td>NaN</td>\n      <td>3154.0</td>\n      <td>0.5</td>\n      <td>NaN</td>\n      <td>0.4</td>\n    </tr>\n    <tr>\n      <th>asianet.co.th</th>\n      <td>4374.0</td>\n      <td>3.0</td>\n      <td>2693.0</td>\n      <td>0.5</td>\n      <td>0.0</td>\n      <td>0.3</td>\n    </tr>\n    <tr>\n      <th>pldt.net</th>\n      <td>4008.0</td>\n      <td>1.0</td>\n      <td>1745.0</td>\n      <td>0.4</td>\n      <td>0.0</td>\n      <td>0.2</td>\n    </tr>\n    <tr>\n      <th>rima-tde.net</th>\n      <td>3963.0</td>\n      <td>2.0</td>\n      <td>4115.0</td>\n      <td>0.4</td>\n      <td>0.0</td>\n      <td>0.5</td>\n    </tr>\n    <tr>\n      <th>amazonaws.com</th>\n      <td>3769.0</td>\n      <td>NaN</td>\n      <td>1270.0</td>\n      <td>0.4</td>\n      <td>NaN</td>\n      <td>0.2</td>\n    </tr>\n    <tr>\n      <th>t-ipconnect.de</th>\n      <td>3656.0</td>\n      <td>NaN</td>\n      <td>2461.0</td>\n      <td>0.4</td>\n      <td>NaN</td>\n      <td>0.3</td>\n    </tr>\n    <tr>\n      <th>telecomitalia.it</th>\n      <td>3571.0</td>\n      <td>1.0</td>\n      <td>2834.0</td>\n      <td>0.4</td>\n      <td>0.0</td>\n      <td>0.4</td>\n    </tr>\n    <tr>\n      <th>qwest.net</th>\n      <td>3534.0</td>\n      <td>88.0</td>\n      <td>3411.0</td>\n      <td>0.4</td>\n      <td>0.8</td>\n      <td>0.4</td>\n    </tr>\n    <tr>\n      <th>airtelbroadband.in</th>\n      <td>3389.0</td>\n      <td>2.0</td>\n      <td>2602.0</td>\n      <td>0.4</td>\n      <td>0.0</td>\n      <td>0.3</td>\n    </tr>\n    <tr>\n      <th>virtua.com.br</th>\n      <td>3318.0</td>\n      <td>1.0</td>\n      <td>2081.0</td>\n      <td>0.4</td>\n      <td>0.0</td>\n      <td>0.3</td>\n    </tr>\n    <tr>\n      <th>bell.ca</th>\n      <td>2904.0</td>\n      <td>22.0</td>\n      <td>3052.0</td>\n      <td>0.3</td>\n      <td>0.2</td>\n      <td>0.4</td>\n    </tr>\n    <tr>\n      <th>ztomy.com</th>\n      <td>2845.0</td>\n      <td>50.0</td>\n      <td>258.0</td>\n      <td>0.3</td>\n      <td>0.4</td>\n      <td>0.0</td>\n    </tr>\n    <tr>\n      <th>...</th>\n      <td>...</td>\n      <td>...</td>\n      <td>...</td>\n      <td>...</td>\n      <td>...</td>\n      <td>...</td>\n    </tr>\n    <tr>\n      <th>kdd.com</th>\n      <td>NaN</td>\n      <td>NaN</td>\n      <td>1.0</td>\n      <td>NaN</td>\n      <td>NaN</td>\n      <td>0.0</td>\n    </tr>\n    <tr>\n      <th>thehickman.org</th>\n      <td>NaN</td>\n      <td>NaN</td>\n      <td>1.0</td>\n      <td>NaN</td>\n      <td>NaN</td>\n      <td>0.0</td>\n    </tr>\n    <tr>\n      <th>zhnet.hu</th>\n      <td>NaN</td>\n      <td>NaN</td>\n      <td>1.0</td>\n      <td>NaN</td>\n      <td>NaN</td>\n      <td>0.0</td>\n    </tr>\n    <tr>\n      <th>igadrss.org</th>\n      <td>NaN</td>\n      <td>NaN</td>\n      <td>1.0</td>\n      <td>NaN</td>\n      <td>NaN</td>\n      <td>0.0</td>\n    </tr>\n    <tr>\n      <th>ulst.ac.uk</th>\n      <td>NaN</td>\n      <td>NaN</td>\n      <td>1.0</td>\n      <td>NaN</td>\n      <td>NaN</td>\n      <td>0.0</td>\n    </tr>\n    <tr>\n      <th>bluewaterfun.com</th>\n      <td>NaN</td>\n      <td>NaN</td>\n      <td>1.0</td>\n      <td>NaN</td>\n      <td>NaN</td>\n      <td>0.0</td>\n    </tr>\n    <tr>\n      <th>ahmmail.com</th>\n      <td>NaN</td>\n      <td>NaN</td>\n      <td>1.0</td>\n      <td>NaN</td>\n      <td>NaN</td>\n      <td>0.0</td>\n    </tr>\n    <tr>\n      <th>scotspgc.com.au</th>\n      <td>NaN</td>\n      <td>NaN</td>\n      <td>1.0</td>\n      <td>NaN</td>\n      <td>NaN</td>\n      <td>0.0</td>\n    </tr>\n    <tr>\n      <th>atosbox.ru</th>\n      <td>NaN</td>\n      <td>NaN</td>\n      <td>1.0</td>\n      <td>NaN</td>\n      <td>NaN</td>\n      <td>0.0</td>\n    </tr>\n    <tr>\n      <th>is.co.mz</th>\n      <td>NaN</td>\n      <td>NaN</td>\n      <td>1.0</td>\n      <td>NaN</td>\n      <td>NaN</td>\n      <td>0.0</td>\n    </tr>\n    <tr>\n      <th>panoramicinc.com</th>\n      <td>NaN</td>\n      <td>NaN</td>\n      <td>1.0</td>\n      <td>NaN</td>\n      <td>NaN</td>\n      <td>0.0</td>\n    </tr>\n    <tr>\n      <th>aldarhospital.com</th>\n      <td>NaN</td>\n      <td>NaN</td>\n      <td>1.0</td>\n      <td>NaN</td>\n      <td>NaN</td>\n      <td>0.0</td>\n    </tr>\n    <tr>\n      <th>kvbo.com.ua</th>\n      <td>NaN</td>\n      <td>NaN</td>\n      <td>1.0</td>\n      <td>NaN</td>\n      <td>NaN</td>\n      <td>0.0</td>\n    </tr>\n    <tr>\n      <th>eventsnight.com</th>\n      <td>NaN</td>\n      <td>NaN</td>\n      <td>1.0</td>\n      <td>NaN</td>\n      <td>NaN</td>\n      <td>0.0</td>\n    </tr>\n    <tr>\n      <th>telyco.es</th>\n      <td>NaN</td>\n      <td>NaN</td>\n      <td>1.0</td>\n      <td>NaN</td>\n      <td>NaN</td>\n      <td>0.0</td>\n    </tr>\n    <tr>\n      <th>carmarthenshire.gov.uk</th>\n      <td>NaN</td>\n      <td>NaN</td>\n      <td>1.0</td>\n      <td>NaN</td>\n      <td>NaN</td>\n      <td>0.0</td>\n    </tr>\n    <tr>\n      <th>digiban.co.jp</th>\n      <td>NaN</td>\n      <td>NaN</td>\n      <td>1.0</td>\n      <td>NaN</td>\n      <td>NaN</td>\n      <td>0.0</td>\n    </tr>\n    <tr>\n      <th>effortel.ru</th>\n      <td>NaN</td>\n      <td>NaN</td>\n      <td>1.0</td>\n      <td>NaN</td>\n      <td>NaN</td>\n      <td>0.0</td>\n    </tr>\n    <tr>\n      <th>customers.dk</th>\n      <td>NaN</td>\n      <td>NaN</td>\n      <td>1.0</td>\n      <td>NaN</td>\n      <td>NaN</td>\n      <td>0.0</td>\n    </tr>\n    <tr>\n      <th>customs.gov.sa</th>\n      <td>NaN</td>\n      <td>NaN</td>\n      <td>1.0</td>\n      <td>NaN</td>\n      <td>NaN</td>\n      <td>0.0</td>\n    </tr>\n    <tr>\n      <th>vsa.de</th>\n      <td>NaN</td>\n      <td>NaN</td>\n      <td>1.0</td>\n      <td>NaN</td>\n      <td>NaN</td>\n      <td>0.0</td>\n    </tr>\n    <tr>\n      <th>newdaybb.net</th>\n      <td>NaN</td>\n      <td>NaN</td>\n      <td>1.0</td>\n      <td>NaN</td>\n      <td>NaN</td>\n      <td>0.0</td>\n    </tr>\n    <tr>\n      <th>frii.net</th>\n      <td>NaN</td>\n      <td>NaN</td>\n      <td>1.0</td>\n      <td>NaN</td>\n      <td>NaN</td>\n      <td>0.0</td>\n    </tr>\n    <tr>\n      <th>diamonddna.com.au</th>\n      <td>NaN</td>\n      <td>NaN</td>\n      <td>1.0</td>\n      <td>NaN</td>\n      <td>NaN</td>\n      <td>0.0</td>\n    </tr>\n    <tr>\n      <th>kep-technologies.com</th>\n      <td>NaN</td>\n      <td>NaN</td>\n      <td>1.0</td>\n      <td>NaN</td>\n      <td>NaN</td>\n      <td>0.0</td>\n    </tr>\n    <tr>\n      <th>6wind.com</th>\n      <td>NaN</td>\n      <td>NaN</td>\n      <td>1.0</td>\n      <td>NaN</td>\n      <td>NaN</td>\n      <td>0.0</td>\n    </tr>\n    <tr>\n      <th>dataconnection.net.br</th>\n      <td>NaN</td>\n      <td>NaN</td>\n      <td>1.0</td>\n      <td>NaN</td>\n      <td>NaN</td>\n      <td>0.0</td>\n    </tr>\n    <tr>\n      <th>rapidenet.com</th>\n      <td>NaN</td>\n      <td>NaN</td>\n      <td>1.0</td>\n      <td>NaN</td>\n      <td>NaN</td>\n      <td>0.0</td>\n    </tr>\n    <tr>\n      <th>micrographics.us</th>\n      <td>NaN</td>\n      <td>NaN</td>\n      <td>1.0</td>\n      <td>NaN</td>\n      <td>NaN</td>\n      <td>0.0</td>\n    </tr>\n    <tr>\n      <th>intersv-ekb.ru</th>\n      <td>NaN</td>\n      <td>NaN</td>\n      <td>1.0</td>\n      <td>NaN</td>\n      <td>NaN</td>\n      <td>0.0</td>\n    </tr>\n  </tbody>\n</table>\n<p>41982 rows × 6 columns</p>\n</div>"
          },
          "metadata": {}
        }
      ]
    },
    {
      "metadata": {
        "_uuid": "3c2a0805bf160da4b79f12cbb4a271d57ea67025"
      },
      "cell_type": "markdown",
      "source": "### trafficSource\n- 77 trafficSource.adContent. Most of them are NaN\n- 4 trafficSource.adwordsClickInfo.adNetworkType. Again most are NaN\n- 59009 trafficSource.adwordsClickInfo.gclId: google click identifier. Very high cardiality, again mostly NaN\n- 2 trafficSource.adwordsClickInfo.isVideoAd. Mostly NaN \n- 12 trafficSource.adwordsClickInfo.page. Mostly NaN\n- 4 trafficSource.adwordsClickInfo.slot. Most NaN\n- 35 trafficSource.campaign. Most of the revenue came from \"not set\". Most of the leels are from the test set.\n- 2 trafficSource.isTrueDirect. NaN had 70% traffic but also did 39% revenue.\n- 5393 trafficSource.keyword: More than half are NaN, the others are mostly \"not provided\"\n- 7 trafficSource.medium. Most revenues came from \"referral\" which makes senses: customers are mote likely to purchase based on referral. However, \"affiliate\" has a rather low revenue given its traffic.\n- 3179 trafficSource.referralPath. Most revenues (53%) came from NaN, 45% from \"/\"\n- 500 trafficSource.source. No NaN. Google took up 44% trafic and made 34% revenues. Youtube did badly, took up 23.5% traffic but generated 0.1% revenue. The best is mall.googleplex.com. It has only 7.3% traffic but generated 44.3% revenues. \"Direct\" aslo generated a heavy slice of revenue (17.7%) with only 15.8% traffic.\n"
    },
    {
      "metadata": {
        "trusted": true,
        "_uuid": "7bd154461db34a9bd19873a7faedb0bb499e55b4",
        "_kg_hide-output": true,
        "_kg_hide-input": true
      },
      "cell_type": "code",
      "source": "count('trafficSource.adContent')\ncount('trafficSource.adwordsClickInfo.adNetworkType')\ncount('trafficSource.adwordsClickInfo.gclId')\ncount('trafficSource.adwordsClickInfo.isVideoAd')\ncount('trafficSource.adwordsClickInfo.page')\ncount('trafficSource.adwordsClickInfo.slot')\ncount('trafficSource.campaign')\ncount('trafficSource.isTrueDirect')\ncount('trafficSource.keyword')\ncount('trafficSource.medium')\ncount('trafficSource.referralPath')\ncount('trafficSource.source')",
      "execution_count": 10,
      "outputs": [
        {
          "output_type": "stream",
          "text": "(77, 6)\n(4, 6)\n(59009, 6)\n(2, 6)\n(12, 6)\n(4, 6)\n(35, 6)\n(2, 6)\n(5393, 6)\n(7, 6)\n(3197, 6)\n(500, 6)\n",
          "name": "stdout"
        },
        {
          "output_type": "execute_result",
          "execution_count": 10,
          "data": {
            "text/plain": "                                                      train   ...    test %\ngoogle                                             400788.0   ...      51.8\nyoutube.com                                        212602.0   ...      14.5\n(direct)                                           143028.0   ...      16.2\nmall.googleplex.com                                 66416.0   ...       6.7\nPartners                                            16411.0   ...       2.1\nanalytics.google.com                                16172.0   ...       2.6\ndfa                                                  5686.0   ...       0.1\ngoogle.com                                           4669.0   ...       0.5\nm.facebook.com                                       3365.0   ...       0.4\nbaidu                                                3356.0   ...       0.2\nsites.google.com                                     2983.0   ...       0.8\nfacebook.com                                         2296.0   ...       0.2\nsiliconvalley.about.com                              2097.0   ...       NaN\nreddit.com                                           2022.0   ...       0.3\nqiita.com                                            1813.0   ...       0.2\nquora.com                                            1546.0   ...       0.2\nbing                                                 1530.0   ...       0.2\nt.co                                                 1529.0   ...       0.1\nyahoo                                                1480.0   ...       0.1\nmail.google.com                                      1457.0   ...       0.1\ngdeals.googleplex.com                                1063.0   ...       0.9\ngroups.google.com                                    1025.0   ...       0.1\nl.facebook.com                                        795.0   ...       0.1\nblog.golang.org                                       742.0   ...       0.1\ndealspotr.com                                         528.0   ...       0.0\nplus.google.com                                       524.0   ...       0.0\nmoma.corp.google.com                                  419.0   ...       0.1\ndocs.google.com                                       388.0   ...       0.0\nproductforums.google.com                              364.0   ...       0.0\ngoogle.co.jp                                          356.0   ...       0.0\n...                                                     ...   ...       ...\nredwood.corp.google.com                                 NaN   ...       0.0\nipv4.google.com                                         NaN   ...       0.0\n0.shared.bow.cat2.ads-bow.yw.borg.google.com:9807       NaN   ...       0.0\nipv6.google.com                                         NaN   ...       0.0\ncz.pinterest.com                                        NaN   ...       0.0\n0.shared.bow.cat2.ads-bow.qk.borg.google.com:9842       NaN   ...       0.0\nthompj.mtv.corp.google.com:7000                         NaN   ...       0.0\nanalytics-preprod.corp.google.com                       NaN   ...       0.0\n0.shared.bow.cat2.ads-bow.yw.borg.google.com:9860       NaN   ...       0.0\ngoogle.com.ec                                           NaN   ...       0.0\nru.pinterest.com                                        NaN   ...       0.0\ngoogle.pt                                               NaN   ...       0.0\nca-mg5.mail.yahoo.com                                   NaN   ...       0.0\nimages.google.com.br                                    NaN   ...       0.0\nbusinessinsider.sg                                      NaN   ...       0.0\nm5.baidu.com                                            NaN   ...       0.0\npartnerads.ysm.yahoo.com                                NaN   ...       0.0\nid.pinterest.com                                        NaN   ...       0.0\n0.shared.bow.cat2.ads-bow.qk.borg.google.com:9827       NaN   ...       0.0\n0.shared.bow.cat2.ads-bow.yw.borg.google.com:9845       NaN   ...       0.0\nhome.kik.com                                            NaN   ...       0.0\ngoogle.iq                                               NaN   ...       0.0\n0.shared.bow.cat2.ads-bow.yw.borg.google.com:9809       NaN   ...       0.0\ntrends.google.com                                       NaN   ...       0.0\nmail1.swic.edu                                          NaN   ...       0.0\nsearch.mywebsearch.com                                  NaN   ...       0.0\nconfidential-mail.google.com                            NaN   ...       0.0\nuwec.courses.wisconsin.edu                              NaN   ...       0.0\napps.rackspace.com                                      NaN   ...       0.0\nsmile.amazon.com                                        NaN   ...       0.0\n\n[500 rows x 6 columns]",
            "text/html": "<div>\n<style scoped>\n    .dataframe tbody tr th:only-of-type {\n        vertical-align: middle;\n    }\n\n    .dataframe tbody tr th {\n        vertical-align: top;\n    }\n\n    .dataframe thead th {\n        text-align: right;\n    }\n</style>\n<table border=\"1\" class=\"dataframe\">\n  <thead>\n    <tr style=\"text-align: right;\">\n      <th></th>\n      <th>train</th>\n      <th>train with revenue</th>\n      <th>test</th>\n      <th>train %</th>\n      <th>train with revenue %</th>\n      <th>test %</th>\n    </tr>\n  </thead>\n  <tbody>\n    <tr>\n      <th>google</th>\n      <td>400788.0</td>\n      <td>3879.0</td>\n      <td>417104.0</td>\n      <td>44.4</td>\n      <td>33.7</td>\n      <td>51.8</td>\n    </tr>\n    <tr>\n      <th>youtube.com</th>\n      <td>212602.0</td>\n      <td>11.0</td>\n      <td>116848.0</td>\n      <td>23.5</td>\n      <td>0.1</td>\n      <td>14.5</td>\n    </tr>\n    <tr>\n      <th>(direct)</th>\n      <td>143028.0</td>\n      <td>2042.0</td>\n      <td>130124.0</td>\n      <td>15.8</td>\n      <td>17.7</td>\n      <td>16.2</td>\n    </tr>\n    <tr>\n      <th>mall.googleplex.com</th>\n      <td>66416.0</td>\n      <td>5103.0</td>\n      <td>54125.0</td>\n      <td>7.3</td>\n      <td>44.3</td>\n      <td>6.7</td>\n    </tr>\n    <tr>\n      <th>Partners</th>\n      <td>16411.0</td>\n      <td>9.0</td>\n      <td>16520.0</td>\n      <td>1.8</td>\n      <td>0.1</td>\n      <td>2.1</td>\n    </tr>\n    <tr>\n      <th>analytics.google.com</th>\n      <td>16172.0</td>\n      <td>NaN</td>\n      <td>21264.0</td>\n      <td>1.8</td>\n      <td>NaN</td>\n      <td>2.6</td>\n    </tr>\n    <tr>\n      <th>dfa</th>\n      <td>5686.0</td>\n      <td>123.0</td>\n      <td>1018.0</td>\n      <td>0.6</td>\n      <td>1.1</td>\n      <td>0.1</td>\n    </tr>\n    <tr>\n      <th>google.com</th>\n      <td>4669.0</td>\n      <td>5.0</td>\n      <td>3672.0</td>\n      <td>0.5</td>\n      <td>0.0</td>\n      <td>0.5</td>\n    </tr>\n    <tr>\n      <th>m.facebook.com</th>\n      <td>3365.0</td>\n      <td>6.0</td>\n      <td>3372.0</td>\n      <td>0.4</td>\n      <td>0.1</td>\n      <td>0.4</td>\n    </tr>\n    <tr>\n      <th>baidu</th>\n      <td>3356.0</td>\n      <td>NaN</td>\n      <td>1615.0</td>\n      <td>0.4</td>\n      <td>NaN</td>\n      <td>0.2</td>\n    </tr>\n    <tr>\n      <th>sites.google.com</th>\n      <td>2983.0</td>\n      <td>42.0</td>\n      <td>6089.0</td>\n      <td>0.3</td>\n      <td>0.4</td>\n      <td>0.8</td>\n    </tr>\n    <tr>\n      <th>facebook.com</th>\n      <td>2296.0</td>\n      <td>20.0</td>\n      <td>1288.0</td>\n      <td>0.3</td>\n      <td>0.2</td>\n      <td>0.2</td>\n    </tr>\n    <tr>\n      <th>siliconvalley.about.com</th>\n      <td>2097.0</td>\n      <td>6.0</td>\n      <td>NaN</td>\n      <td>0.2</td>\n      <td>0.1</td>\n      <td>NaN</td>\n    </tr>\n    <tr>\n      <th>reddit.com</th>\n      <td>2022.0</td>\n      <td>1.0</td>\n      <td>2070.0</td>\n      <td>0.2</td>\n      <td>0.0</td>\n      <td>0.3</td>\n    </tr>\n    <tr>\n      <th>qiita.com</th>\n      <td>1813.0</td>\n      <td>NaN</td>\n      <td>1581.0</td>\n      <td>0.2</td>\n      <td>NaN</td>\n      <td>0.2</td>\n    </tr>\n    <tr>\n      <th>quora.com</th>\n      <td>1546.0</td>\n      <td>1.0</td>\n      <td>1486.0</td>\n      <td>0.2</td>\n      <td>0.0</td>\n      <td>0.2</td>\n    </tr>\n    <tr>\n      <th>bing</th>\n      <td>1530.0</td>\n      <td>21.0</td>\n      <td>1838.0</td>\n      <td>0.2</td>\n      <td>0.2</td>\n      <td>0.2</td>\n    </tr>\n    <tr>\n      <th>t.co</th>\n      <td>1529.0</td>\n      <td>7.0</td>\n      <td>476.0</td>\n      <td>0.2</td>\n      <td>0.1</td>\n      <td>0.1</td>\n    </tr>\n    <tr>\n      <th>yahoo</th>\n      <td>1480.0</td>\n      <td>22.0</td>\n      <td>956.0</td>\n      <td>0.2</td>\n      <td>0.2</td>\n      <td>0.1</td>\n    </tr>\n    <tr>\n      <th>mail.google.com</th>\n      <td>1457.0</td>\n      <td>62.0</td>\n      <td>1101.0</td>\n      <td>0.2</td>\n      <td>0.5</td>\n      <td>0.1</td>\n    </tr>\n    <tr>\n      <th>gdeals.googleplex.com</th>\n      <td>1063.0</td>\n      <td>18.0</td>\n      <td>7235.0</td>\n      <td>0.1</td>\n      <td>0.2</td>\n      <td>0.9</td>\n    </tr>\n    <tr>\n      <th>groups.google.com</th>\n      <td>1025.0</td>\n      <td>38.0</td>\n      <td>984.0</td>\n      <td>0.1</td>\n      <td>0.3</td>\n      <td>0.1</td>\n    </tr>\n    <tr>\n      <th>l.facebook.com</th>\n      <td>795.0</td>\n      <td>13.0</td>\n      <td>734.0</td>\n      <td>0.1</td>\n      <td>0.1</td>\n      <td>0.1</td>\n    </tr>\n    <tr>\n      <th>blog.golang.org</th>\n      <td>742.0</td>\n      <td>NaN</td>\n      <td>640.0</td>\n      <td>0.1</td>\n      <td>NaN</td>\n      <td>0.1</td>\n    </tr>\n    <tr>\n      <th>dealspotr.com</th>\n      <td>528.0</td>\n      <td>40.0</td>\n      <td>222.0</td>\n      <td>0.1</td>\n      <td>0.3</td>\n      <td>0.0</td>\n    </tr>\n    <tr>\n      <th>plus.google.com</th>\n      <td>524.0</td>\n      <td>5.0</td>\n      <td>126.0</td>\n      <td>0.1</td>\n      <td>0.0</td>\n      <td>0.0</td>\n    </tr>\n    <tr>\n      <th>moma.corp.google.com</th>\n      <td>419.0</td>\n      <td>1.0</td>\n      <td>1088.0</td>\n      <td>0.0</td>\n      <td>0.0</td>\n      <td>0.1</td>\n    </tr>\n    <tr>\n      <th>docs.google.com</th>\n      <td>388.0</td>\n      <td>1.0</td>\n      <td>190.0</td>\n      <td>0.0</td>\n      <td>0.0</td>\n      <td>0.0</td>\n    </tr>\n    <tr>\n      <th>productforums.google.com</th>\n      <td>364.0</td>\n      <td>NaN</td>\n      <td>308.0</td>\n      <td>0.0</td>\n      <td>NaN</td>\n      <td>0.0</td>\n    </tr>\n    <tr>\n      <th>google.co.jp</th>\n      <td>356.0</td>\n      <td>NaN</td>\n      <td>285.0</td>\n      <td>0.0</td>\n      <td>NaN</td>\n      <td>0.0</td>\n    </tr>\n    <tr>\n      <th>...</th>\n      <td>...</td>\n      <td>...</td>\n      <td>...</td>\n      <td>...</td>\n      <td>...</td>\n      <td>...</td>\n    </tr>\n    <tr>\n      <th>redwood.corp.google.com</th>\n      <td>NaN</td>\n      <td>NaN</td>\n      <td>1.0</td>\n      <td>NaN</td>\n      <td>NaN</td>\n      <td>0.0</td>\n    </tr>\n    <tr>\n      <th>ipv4.google.com</th>\n      <td>NaN</td>\n      <td>NaN</td>\n      <td>1.0</td>\n      <td>NaN</td>\n      <td>NaN</td>\n      <td>0.0</td>\n    </tr>\n    <tr>\n      <th>0.shared.bow.cat2.ads-bow.yw.borg.google.com:9807</th>\n      <td>NaN</td>\n      <td>NaN</td>\n      <td>1.0</td>\n      <td>NaN</td>\n      <td>NaN</td>\n      <td>0.0</td>\n    </tr>\n    <tr>\n      <th>ipv6.google.com</th>\n      <td>NaN</td>\n      <td>NaN</td>\n      <td>1.0</td>\n      <td>NaN</td>\n      <td>NaN</td>\n      <td>0.0</td>\n    </tr>\n    <tr>\n      <th>cz.pinterest.com</th>\n      <td>NaN</td>\n      <td>NaN</td>\n      <td>1.0</td>\n      <td>NaN</td>\n      <td>NaN</td>\n      <td>0.0</td>\n    </tr>\n    <tr>\n      <th>0.shared.bow.cat2.ads-bow.qk.borg.google.com:9842</th>\n      <td>NaN</td>\n      <td>NaN</td>\n      <td>1.0</td>\n      <td>NaN</td>\n      <td>NaN</td>\n      <td>0.0</td>\n    </tr>\n    <tr>\n      <th>thompj.mtv.corp.google.com:7000</th>\n      <td>NaN</td>\n      <td>NaN</td>\n      <td>1.0</td>\n      <td>NaN</td>\n      <td>NaN</td>\n      <td>0.0</td>\n    </tr>\n    <tr>\n      <th>analytics-preprod.corp.google.com</th>\n      <td>NaN</td>\n      <td>NaN</td>\n      <td>1.0</td>\n      <td>NaN</td>\n      <td>NaN</td>\n      <td>0.0</td>\n    </tr>\n    <tr>\n      <th>0.shared.bow.cat2.ads-bow.yw.borg.google.com:9860</th>\n      <td>NaN</td>\n      <td>NaN</td>\n      <td>1.0</td>\n      <td>NaN</td>\n      <td>NaN</td>\n      <td>0.0</td>\n    </tr>\n    <tr>\n      <th>google.com.ec</th>\n      <td>NaN</td>\n      <td>NaN</td>\n      <td>1.0</td>\n      <td>NaN</td>\n      <td>NaN</td>\n      <td>0.0</td>\n    </tr>\n    <tr>\n      <th>ru.pinterest.com</th>\n      <td>NaN</td>\n      <td>NaN</td>\n      <td>1.0</td>\n      <td>NaN</td>\n      <td>NaN</td>\n      <td>0.0</td>\n    </tr>\n    <tr>\n      <th>google.pt</th>\n      <td>NaN</td>\n      <td>NaN</td>\n      <td>1.0</td>\n      <td>NaN</td>\n      <td>NaN</td>\n      <td>0.0</td>\n    </tr>\n    <tr>\n      <th>ca-mg5.mail.yahoo.com</th>\n      <td>NaN</td>\n      <td>NaN</td>\n      <td>1.0</td>\n      <td>NaN</td>\n      <td>NaN</td>\n      <td>0.0</td>\n    </tr>\n    <tr>\n      <th>images.google.com.br</th>\n      <td>NaN</td>\n      <td>NaN</td>\n      <td>1.0</td>\n      <td>NaN</td>\n      <td>NaN</td>\n      <td>0.0</td>\n    </tr>\n    <tr>\n      <th>businessinsider.sg</th>\n      <td>NaN</td>\n      <td>NaN</td>\n      <td>1.0</td>\n      <td>NaN</td>\n      <td>NaN</td>\n      <td>0.0</td>\n    </tr>\n    <tr>\n      <th>m5.baidu.com</th>\n      <td>NaN</td>\n      <td>NaN</td>\n      <td>1.0</td>\n      <td>NaN</td>\n      <td>NaN</td>\n      <td>0.0</td>\n    </tr>\n    <tr>\n      <th>partnerads.ysm.yahoo.com</th>\n      <td>NaN</td>\n      <td>NaN</td>\n      <td>1.0</td>\n      <td>NaN</td>\n      <td>NaN</td>\n      <td>0.0</td>\n    </tr>\n    <tr>\n      <th>id.pinterest.com</th>\n      <td>NaN</td>\n      <td>NaN</td>\n      <td>1.0</td>\n      <td>NaN</td>\n      <td>NaN</td>\n      <td>0.0</td>\n    </tr>\n    <tr>\n      <th>0.shared.bow.cat2.ads-bow.qk.borg.google.com:9827</th>\n      <td>NaN</td>\n      <td>NaN</td>\n      <td>1.0</td>\n      <td>NaN</td>\n      <td>NaN</td>\n      <td>0.0</td>\n    </tr>\n    <tr>\n      <th>0.shared.bow.cat2.ads-bow.yw.borg.google.com:9845</th>\n      <td>NaN</td>\n      <td>NaN</td>\n      <td>1.0</td>\n      <td>NaN</td>\n      <td>NaN</td>\n      <td>0.0</td>\n    </tr>\n    <tr>\n      <th>home.kik.com</th>\n      <td>NaN</td>\n      <td>NaN</td>\n      <td>1.0</td>\n      <td>NaN</td>\n      <td>NaN</td>\n      <td>0.0</td>\n    </tr>\n    <tr>\n      <th>google.iq</th>\n      <td>NaN</td>\n      <td>NaN</td>\n      <td>1.0</td>\n      <td>NaN</td>\n      <td>NaN</td>\n      <td>0.0</td>\n    </tr>\n    <tr>\n      <th>0.shared.bow.cat2.ads-bow.yw.borg.google.com:9809</th>\n      <td>NaN</td>\n      <td>NaN</td>\n      <td>1.0</td>\n      <td>NaN</td>\n      <td>NaN</td>\n      <td>0.0</td>\n    </tr>\n    <tr>\n      <th>trends.google.com</th>\n      <td>NaN</td>\n      <td>NaN</td>\n      <td>1.0</td>\n      <td>NaN</td>\n      <td>NaN</td>\n      <td>0.0</td>\n    </tr>\n    <tr>\n      <th>mail1.swic.edu</th>\n      <td>NaN</td>\n      <td>NaN</td>\n      <td>1.0</td>\n      <td>NaN</td>\n      <td>NaN</td>\n      <td>0.0</td>\n    </tr>\n    <tr>\n      <th>search.mywebsearch.com</th>\n      <td>NaN</td>\n      <td>NaN</td>\n      <td>1.0</td>\n      <td>NaN</td>\n      <td>NaN</td>\n      <td>0.0</td>\n    </tr>\n    <tr>\n      <th>confidential-mail.google.com</th>\n      <td>NaN</td>\n      <td>NaN</td>\n      <td>1.0</td>\n      <td>NaN</td>\n      <td>NaN</td>\n      <td>0.0</td>\n    </tr>\n    <tr>\n      <th>uwec.courses.wisconsin.edu</th>\n      <td>NaN</td>\n      <td>NaN</td>\n      <td>1.0</td>\n      <td>NaN</td>\n      <td>NaN</td>\n      <td>0.0</td>\n    </tr>\n    <tr>\n      <th>apps.rackspace.com</th>\n      <td>NaN</td>\n      <td>NaN</td>\n      <td>1.0</td>\n      <td>NaN</td>\n      <td>NaN</td>\n      <td>0.0</td>\n    </tr>\n    <tr>\n      <th>smile.amazon.com</th>\n      <td>NaN</td>\n      <td>NaN</td>\n      <td>1.0</td>\n      <td>NaN</td>\n      <td>NaN</td>\n      <td>0.0</td>\n    </tr>\n  </tbody>\n</table>\n<p>500 rows × 6 columns</p>\n</div>"
          },
          "metadata": {}
        }
      ]
    },
    {
      "metadata": {
        "_uuid": "a0508c94f28b25ec0394827fb053360fc0165673"
      },
      "cell_type": "markdown",
      "source": "### totals\n- 2 totals.bounces. Half are 1, half are NaN. It makes senses that when bounce is 0, there is no revenue.\n- totals.hits range from 1 to 500. There is no revenue with just 1 hit. \n- totals.pageviews range from 1 to 500 with NaN. Again, no revenue with just 1 or NaN.\n- totals.newVisits: 1 (true) or NaN (not a new visit). There are more new visits (78%) compared to not-new visits (22%). It makes senses that new visits have lower revenue (39%) compared to non-new visits (61%)"
    },
    {
      "metadata": {
        "trusted": true,
        "_uuid": "3ec54b5b092a54c37459477174a4bd567375fea6",
        "_kg_hide-output": true,
        "_kg_hide-input": true
      },
      "cell_type": "code",
      "source": "count('totals.bounces')\ncount('totals.hits')\ncount('totals.pageviews')\ncount('totals.newVisits')",
      "execution_count": 11,
      "outputs": [
        {
          "output_type": "stream",
          "text": "(2, 6)\n(297, 6)\n(231, 6)\n(2, 6)\n",
          "name": "stdout"
        },
        {
          "output_type": "execute_result",
          "execution_count": 11,
          "data": {
            "text/plain": "       train  train with revenue   ...    train with revenue %  test %\n 1.0  703060                4465   ...                    38.8    75.1\nNaN   200593                7050   ...                    61.2    24.9\n\n[2 rows x 6 columns]",
            "text/html": "<div>\n<style scoped>\n    .dataframe tbody tr th:only-of-type {\n        vertical-align: middle;\n    }\n\n    .dataframe tbody tr th {\n        vertical-align: top;\n    }\n\n    .dataframe thead th {\n        text-align: right;\n    }\n</style>\n<table border=\"1\" class=\"dataframe\">\n  <thead>\n    <tr style=\"text-align: right;\">\n      <th></th>\n      <th>train</th>\n      <th>train with revenue</th>\n      <th>test</th>\n      <th>train %</th>\n      <th>train with revenue %</th>\n      <th>test %</th>\n    </tr>\n  </thead>\n  <tbody>\n    <tr>\n      <th>1.0</th>\n      <td>703060</td>\n      <td>4465</td>\n      <td>604370</td>\n      <td>77.8</td>\n      <td>38.8</td>\n      <td>75.1</td>\n    </tr>\n    <tr>\n      <th>NaN</th>\n      <td>200593</td>\n      <td>7050</td>\n      <td>200314</td>\n      <td>22.2</td>\n      <td>61.2</td>\n      <td>24.9</td>\n    </tr>\n  </tbody>\n</table>\n</div>"
          },
          "metadata": {}
        }
      ]
    },
    {
      "metadata": {
        "trusted": true,
        "_uuid": "2b9c22aadb1173b849f2ce0191641046b480281e"
      },
      "cell_type": "markdown",
      "source": "### Various Id\n From 903653 records, there are:\n - 902755 sessionId\n - 886303 visitId\n - 714167  fullVisitorId\n \nNone of them have null value. Some of the ids are present in more than 1 record.\n\nSome of the Ids are present in both train & test set.\n- 5 sessionId are in both\n- 5 visitId are in both\n- 7679 fullVisitorId are in both\n- Of these 7679,  about 7% (N = 536) spent money. The combined amount is \\$245,847\n- In comparison, 706448 are only in the train set. Of them, about 1.34% (N = 9460) spent money. The combined amount is \\$1,294,224.\n- So maybe fullVisitorId is a good predictor?"
    },
    {
      "metadata": {
        "trusted": true,
        "_uuid": "242497ede3f42adef3b7f24c9934d6640dc83e05"
      },
      "cell_type": "code",
      "source": "for i in ['sessionId', 'visitId', 'fullVisitorId']:\n    print(i, 'Nunique:', df_train[i].nunique(), '. Null:', df_train[i].isnull().sum())\n    print('Common between train and test set:', len(set(df_train[i]).intersection(set(df_test[i]))))\n\n# fullVisitorId present in both train and test set\ntmp = list(set(df_train['fullVisitorId']).intersection(set(df_test['fullVisitorId'])))\n# the revenue of these fullVisitorId\ntmp = df_train[df_train['fullVisitorId'].isin(tmp)].groupby('fullVisitorId')['totals.transactionRevenue'].sum()\nprint('Number of fullVisitorId who spent money:', len(tmp[tmp > 0]), '. Total amount spent:', tmp.sum() / 1e6)\n\n# fullVisitorId only present in train\ntmp = list(set(df_train['fullVisitorId']).difference(set(df_test['fullVisitorId'])))\n# the revenue of these fullVisitorId\ntmp = df_train[df_train['fullVisitorId'].isin(tmp)].groupby('fullVisitorId')['totals.transactionRevenue'].sum()\nprint('Number of fullVisitorId only in the train set:', len(tmp), '. Number who spent money:', len(tmp[tmp > 0]), '. Total amount spent:', tmp.sum() / 1e6)",
      "execution_count": 12,
      "outputs": [
        {
          "output_type": "stream",
          "text": "sessionId Nunique: 902755 . Null: 0\nCommon between train and test set: 5\nvisitId Nunique: 886303 . Null: 0\nCommon between train and test set: 5\nfullVisitorId Nunique: 714167 . Null: 0\nCommon between train and test set: 7679\nNumber of fullVisitorId who spent money: 536 . Total amount spent: 245846.91\nNumber of fullVisitorId only in the train set: 706488 . Number who spent money: 9460 . Total amount spent: 1294224.33\n",
          "name": "stdout"
        }
      ]
    },
    {
      "metadata": {
        "_uuid": "7c3326dcb43b829cbf7943ae1a11c7cd91a91c6e"
      },
      "cell_type": "markdown",
      "source": "### Date & visitStartTime\n- convert to datetime using `pd.to_datetime`\n- Most date and visitStartTime are similar, some conversion from epoch to datetime in visitStartTime resulted in a diference of -1 days, likely due to not using the correct timezone. But this doesn't really matter.\n- Create new columns: month, week, day, weekday, hour based on visitStartTime."
    },
    {
      "metadata": {
        "trusted": true,
        "_uuid": "0eed83ddf6a2d939ec9fd127ebbe2dc3fd5800b7"
      },
      "cell_type": "code",
      "source": "tmp_date = pd.to_datetime(df_train['date'], format='%Y%m%d')\ntmp_visitStartTime = pd.to_datetime(df_train['visitStartTime'], unit='s')\n(tmp_date.dt.date - tmp_visitStartTime.dt.date).value_counts() # this shows most date and visitStartTime are the same\n\n# new columns\ndf_train['visitStartTime.month'] = tmp_visitStartTime.dt.month\ndf_train['visitStartTime.week'] = tmp_visitStartTime.dt.week\ndf_train['visitStartTime.day'] = tmp_visitStartTime.dt.day\ndf_train['visitStartTime.weekday'] = tmp_visitStartTime.dt.weekday\ndf_train['visitStartTime.hour'] = tmp_visitStartTime.dt.hour\n\n# do the same for test_df\ntmp_date = pd.to_datetime(df_test['date'], format='%Y%m%d')\ntmp_visitStartTime = pd.to_datetime(df_test['visitStartTime'], unit='s')\n(tmp_date.dt.date - tmp_visitStartTime.dt.date).value_counts() # this shows most date and visitStartTime are the same\n\ndf_test['visitStartTime.month'] = tmp_visitStartTime.dt.month\ndf_test['visitStartTime.week'] = tmp_visitStartTime.dt.week\ndf_test['visitStartTime.day'] = tmp_visitStartTime.dt.day\ndf_test['visitStartTime.weekday'] = tmp_visitStartTime.dt.weekday\ndf_test['visitStartTime.hour'] = tmp_visitStartTime.dt.hour",
      "execution_count": 13,
      "outputs": []
    },
    {
      "metadata": {
        "_uuid": "f92efb58e656a947f5482d8df1fc7bab2c57f1bb"
      },
      "cell_type": "markdown",
      "source": "## Plots"
    },
    {
      "metadata": {
        "trusted": true,
        "_uuid": "a1190d5133fa295aac53190f3dfd37d56b90dbf3"
      },
      "cell_type": "code",
      "source": "def make_button(var, title = '', max_row = 10, df = df_train, target_var = 'totals.transactionRevenue'):\n    # create data for the 'updatemenus' used by plotly\n    # agg data from var ~ target_vaar into size, count, mean, median\n    # return dict()\n    tmp = df[[var, target_var]].fillna(value={ var: -1 }).groupby(var)[target_var].agg(['size', 'sum', 'mean', 'median']) # use fillna for var, as groupby(var) doesn't work with na\n    tmp = tmp.sort_values('size', ascending=False)[:max_row][::-1] # by defaul, take only the top 10 rows ordered by size\n    tmp = {\n        'x': [tmp['size'].values, tmp['sum'].values , tmp['mean'].values, tmp['median'].values],\n        'y': [[str(i) for i in tmp.index.tolist()]] * 4, # str(i) to convert all to string, because some of the indexes are True, False\n    }\n    title = title or var\n    return dict(args=[tmp, { 'title': title }], label=title, method='update') \n\n# plotting\n## data\ntmp = make_button('device.deviceCategory', 'Device Category')\nx = tmp['args'][0]['x']\ny = tmp['args'][0]['y'][0]\n\n## trace\ntraces = [None] * 4\ntraces[0] = (go.Bar(x=x[0], y=y, orientation='h'))\ntraces[1] = (go.Bar(x=x[1], y=y, orientation='h'))\ntraces[2] = (go.Bar(x=x[3], y=y, orientation='h', name='Median')) # median goes first, the resulting bar graph will place median at the bottom\ntraces[3] = (go.Bar(x=x[2], y=y, orientation='h', name='Mean'))\n\n## fig, subplot\nfig = __import__('plotly').tools.make_subplots(1, 3, subplot_titles=['Number of record', 'Total revenue', 'Mean & Median'])\nfor i in range(3): fig.append_trace(traces[i], 1, i + 1)\nfig.append_trace(traces[-1], 1, 3)\n\n## fig, layout\nfig.layout.title = tmp['args'][1]['title']\nfig.layout.showlegend = False\nfig.layout.updatemenus = list([\n    dict(\n        buttons=[make_button(i) for i in [\n            'device.deviceCategory', 'device.operatingSystem', 'device.browser', 'device.isMobile',\n            'geoNetwork.continent', 'geoNetwork.subContinent', 'geoNetwork.country', 'geoNetwork.region', 'geoNetwork.metro', 'geoNetwork.city', 'geoNetwork.networkDomain',\n            'trafficSource.medium', 'trafficSource.campaign', 'trafficSource.isTrueDirect', 'trafficSource.adContent', 'trafficSource.adwordsClickInfo.adNetworkType',\n        ]] + [make_button(i, max_row=31) for i in [\n            'totals.bounces', 'totals.newVisits', 'totals.hits', 'totals.pageviews',\n            'visitStartTime.month', 'visitStartTime.week', 'visitStartTime.day', 'visitStartTime.weekday', 'visitStartTime.hour'\n        ]],\n        direction = 'down',\n        showactive = True,\n        x = 0,\n        xanchor = 'left',\n        y = 1.25,\n        yanchor = 'top' \n    ),\n])\n\n## now plot\npy.iplot(fig)\n\n# clean up for memory\n%xdel make_button\n%xdel tmp\n%xdel traces\n%xdel fig",
      "execution_count": 14,
      "outputs": [
        {
          "output_type": "stream",
          "text": "This is the format of your plot grid:\n[ (1,1) x1,y1 ]  [ (1,2) x2,y2 ]  [ (1,3) x3,y3 ]\n\n",
          "name": "stdout"
        },
        {
          "output_type": "display_data",
          "data": {
            "application/vnd.plotly.v1+json": {
              "data": [
                {
                  "orientation": "h",
                  "x": [
                    30449,
                    208725,
                    664479
                  ],
                  "y": [
                    "tablet",
                    "mobile",
                    "desktop"
                  ],
                  "type": "bar",
                  "uid": "c3ac0aea-c941-11e8-9295-0242ac130002",
                  "xaxis": "x",
                  "yaxis": "y"
                },
                {
                  "orientation": "h",
                  "x": [
                    9421340000,
                    49785810000,
                    1480864090000
                  ],
                  "y": [
                    "tablet",
                    "mobile",
                    "desktop"
                  ],
                  "type": "bar",
                  "uid": "c3ac9730-c941-11e8-9295-0242ac130002",
                  "xaxis": "x2",
                  "yaxis": "y2"
                },
                {
                  "name": "Median",
                  "orientation": "h",
                  "x": [
                    29630000,
                    24990000,
                    52300000
                  ],
                  "y": [
                    "tablet",
                    "mobile",
                    "desktop"
                  ],
                  "type": "bar",
                  "uid": "c3ad081e-c941-11e8-9295-0242ac130002",
                  "xaxis": "x3",
                  "yaxis": "y3"
                },
                {
                  "name": "Mean",
                  "orientation": "h",
                  "x": [
                    56079404.76190476,
                    58434049.295774646,
                    141101866.60314435
                  ],
                  "y": [
                    "tablet",
                    "mobile",
                    "desktop"
                  ],
                  "type": "bar",
                  "uid": "c3ad7d76-c941-11e8-9295-0242ac130002",
                  "xaxis": "x3",
                  "yaxis": "y3"
                }
              ],
              "layout": {
                "annotations": [
                  {
                    "font": {
                      "size": 16
                    },
                    "showarrow": false,
                    "text": "Number of record",
                    "x": 0.14444444444444446,
                    "xanchor": "center",
                    "xref": "paper",
                    "y": 1,
                    "yanchor": "bottom",
                    "yref": "paper"
                  },
                  {
                    "font": {
                      "size": 16
                    },
                    "showarrow": false,
                    "text": "Total revenue",
                    "x": 0.5,
                    "xanchor": "center",
                    "xref": "paper",
                    "y": 1,
                    "yanchor": "bottom",
                    "yref": "paper"
                  },
                  {
                    "font": {
                      "size": 16
                    },
                    "showarrow": false,
                    "text": "Mean & Median",
                    "x": 0.8555555555555556,
                    "xanchor": "center",
                    "xref": "paper",
                    "y": 1,
                    "yanchor": "bottom",
                    "yref": "paper"
                  }
                ],
                "xaxis": {
                  "anchor": "y",
                  "domain": [
                    0,
                    0.2888888888888889
                  ]
                },
                "yaxis": {
                  "anchor": "x",
                  "domain": [
                    0,
                    1
                  ]
                },
                "xaxis2": {
                  "anchor": "y2",
                  "domain": [
                    0.35555555555555557,
                    0.6444444444444445
                  ]
                },
                "yaxis2": {
                  "anchor": "x2",
                  "domain": [
                    0,
                    1
                  ]
                },
                "xaxis3": {
                  "anchor": "y3",
                  "domain": [
                    0.7111111111111111,
                    1
                  ]
                },
                "yaxis3": {
                  "anchor": "x3",
                  "domain": [
                    0,
                    1
                  ]
                },
                "title": "Device Category",
                "showlegend": false,
                "updatemenus": [
                  {
                    "buttons": [
                      {
                        "args": [
                          {
                            "x": [
                              [
                                30449,
                                208725,
                                664479
                              ],
                              [
                                9421340000,
                                49785810000,
                                1480864090000
                              ],
                              [
                                56079404.76190476,
                                58434049.295774646,
                                141101866.60314435
                              ],
                              [
                                29630000,
                                24990000,
                                52300000
                              ]
                            ],
                            "y": [
                              [
                                "tablet",
                                "mobile",
                                "desktop"
                              ],
                              [
                                "tablet",
                                "mobile",
                                "desktop"
                              ],
                              [
                                "tablet",
                                "mobile",
                                "desktop"
                              ],
                              [
                                "tablet",
                                "mobile",
                                "desktop"
                              ]
                            ]
                          },
                          {
                            "title": "device.deviceCategory"
                          }
                        ],
                        "label": "device.deviceCategory",
                        "method": "update"
                      },
                      {
                        "args": [
                          {
                            "x": [
                              [
                                218,
                                280,
                                1216,
                                4695,
                                26337,
                                35034,
                                107665,
                                123892,
                                253938,
                                350072
                              ],
                              [
                                0,
                                0,
                                26400000,
                                0,
                                183937750000,
                                43910400000,
                                22166900000,
                                36341280000,
                                856375790000,
                                397312720000
                              ],
                              [
                                null,
                                null,
                                26400000,
                                null,
                                185048038.22937626,
                                56151406.64961637,
                                41356156.71641791,
                                77818586.72376874,
                                133267318.70525987,
                                172071338.24166307
                              ],
                              [
                                null,
                                null,
                                26400000,
                                null,
                                71430000,
                                39990000,
                                24990000,
                                25990000,
                                55990000,
                                43940000
                              ]
                            ],
                            "y": [
                              [
                                "BlackBerry",
                                "Samsung",
                                "Windows Phone",
                                "(not set)",
                                "Chrome OS",
                                "Linux",
                                "iOS",
                                "Android",
                                "Macintosh",
                                "Windows"
                              ],
                              [
                                "BlackBerry",
                                "Samsung",
                                "Windows Phone",
                                "(not set)",
                                "Chrome OS",
                                "Linux",
                                "iOS",
                                "Android",
                                "Macintosh",
                                "Windows"
                              ],
                              [
                                "BlackBerry",
                                "Samsung",
                                "Windows Phone",
                                "(not set)",
                                "Chrome OS",
                                "Linux",
                                "iOS",
                                "Android",
                                "Macintosh",
                                "Windows"
                              ],
                              [
                                "BlackBerry",
                                "Samsung",
                                "Windows Phone",
                                "(not set)",
                                "Chrome OS",
                                "Linux",
                                "iOS",
                                "Android",
                                "Macintosh",
                                "Windows"
                              ]
                            ]
                          },
                          {
                            "title": "device.operatingSystem"
                          }
                        ],
                        "label": "device.operatingSystem",
                        "method": "update"
                      },
                      {
                        "args": [
                          {
                            "x": [
                              [
                                2427,
                                5643,
                                6139,
                                6850,
                                7865,
                                10205,
                                19375,
                                37069,
                                182245,
                                620364
                              ],
                              [
                                0,
                                215350000,
                                0,
                                153770000,
                                114850000,
                                6482970000,
                                8255550000,
                                89316320000,
                                52397480000,
                                1383104960000
                              ],
                              [
                                null,
                                43070000,
                                null,
                                12814166.666666666,
                                19141666.666666668,
                                111775344.8275862,
                                75738990.82568808,
                                467624712.04188484,
                                67176256.41025642,
                                133594606.39428185
                              ],
                              [
                                null,
                                37920000,
                                null,
                                12475000,
                                13980000,
                                30470000,
                                33980000,
                                39890000,
                                27965000,
                                52060000
                              ]
                            ],
                            "y": [
                              [
                                "UC Browser",
                                "Opera",
                                "Opera Mini",
                                "Safari (in-app)",
                                "Android Webview",
                                "Edge",
                                "Internet Explorer",
                                "Firefox",
                                "Safari",
                                "Chrome"
                              ],
                              [
                                "UC Browser",
                                "Opera",
                                "Opera Mini",
                                "Safari (in-app)",
                                "Android Webview",
                                "Edge",
                                "Internet Explorer",
                                "Firefox",
                                "Safari",
                                "Chrome"
                              ],
                              [
                                "UC Browser",
                                "Opera",
                                "Opera Mini",
                                "Safari (in-app)",
                                "Android Webview",
                                "Edge",
                                "Internet Explorer",
                                "Firefox",
                                "Safari",
                                "Chrome"
                              ],
                              [
                                "UC Browser",
                                "Opera",
                                "Opera Mini",
                                "Safari (in-app)",
                                "Android Webview",
                                "Edge",
                                "Internet Explorer",
                                "Firefox",
                                "Safari",
                                "Chrome"
                              ]
                            ]
                          },
                          {
                            "title": "device.browser"
                          }
                        ],
                        "label": "device.browser",
                        "method": "update"
                      },
                      {
                        "args": [
                          {
                            "x": [
                              [
                                239123,
                                664530
                              ],
                              [
                                59239610000,
                                1480831630000
                              ],
                              [
                                58078049.01960784,
                                141098773.70176274
                              ],
                              [
                                25380000,
                                52300000
                              ]
                            ],
                            "y": [
                              [
                                "True",
                                "False"
                              ],
                              [
                                "True",
                                "False"
                              ],
                              [
                                "True",
                                "False"
                              ],
                              [
                                "True",
                                "False"
                              ]
                            ]
                          },
                          {
                            "title": "device.isMobile"
                          }
                        ],
                        "label": "device.isMobile",
                        "method": "update"
                      },
                      {
                        "args": [
                          {
                            "x": [
                              [
                                1468,
                                14745,
                                15054,
                                198311,
                                223698,
                                450377
                              ],
                              [
                                769780000,
                                8687760000,
                                1793230000,
                                6747030000,
                                17401840000,
                                1504671600000
                              ],
                              [
                                128296666.66666667,
                                1085970000,
                                128087857.14285715,
                                85405443.03797469,
                                139214720,
                                133357404.94549322
                              ],
                              [
                                130470000,
                                1548700000,
                                67155000,
                                38790000,
                                55970000,
                                49410000
                              ]
                            ],
                            "y": [
                              [
                                "(not set)",
                                "Africa",
                                "Oceania",
                                "Europe",
                                "Asia",
                                "Americas"
                              ],
                              [
                                "(not set)",
                                "Africa",
                                "Oceania",
                                "Europe",
                                "Asia",
                                "Americas"
                              ],
                              [
                                "(not set)",
                                "Africa",
                                "Oceania",
                                "Europe",
                                "Asia",
                                "Americas"
                              ],
                              [
                                "(not set)",
                                "Africa",
                                "Oceania",
                                "Europe",
                                "Asia",
                                "Americas"
                              ]
                            ]
                          },
                          {
                            "title": "geoNetwork.continent"
                          }
                        ],
                        "label": "geoNetwork.continent",
                        "method": "update"
                      },
                      {
                        "args": [
                          {
                            "x": [
                              [
                                35780,
                                38443,
                                41731,
                                45249,
                                46919,
                                58168,
                                59114,
                                59321,
                                77800,
                                390657
                              ],
                              [
                                964010000,
                                1781040000,
                                15937310000,
                                946800000,
                                11075220000,
                                1993880000,
                                2842340000,
                                754610000,
                                3755990000,
                                1485265190000
                              ],
                              [
                                120501250,
                                84811428.57142857,
                                162625612.24489796,
                                67628571.42857143,
                                187715593.22033897,
                                73847407.4074074,
                                94744666.66666667,
                                68600909.0909091,
                                117374687.5,
                                133291321.00870502
                              ],
                              [
                                100380000,
                                59990000,
                                101580000,
                                33035000,
                                47570000,
                                33590000,
                                52995000,
                                31980000,
                                107940000,
                                48780000
                              ]
                            ],
                            "y": [
                              [
                                "Southern Europe",
                                "Western Asia",
                                "South America",
                                "Eastern Europe",
                                "Eastern Asia",
                                "Northern Europe",
                                "Western Europe",
                                "Southern Asia",
                                "Southeast Asia",
                                "Northern America"
                              ],
                              [
                                "Southern Europe",
                                "Western Asia",
                                "South America",
                                "Eastern Europe",
                                "Eastern Asia",
                                "Northern Europe",
                                "Western Europe",
                                "Southern Asia",
                                "Southeast Asia",
                                "Northern America"
                              ],
                              [
                                "Southern Europe",
                                "Western Asia",
                                "South America",
                                "Eastern Europe",
                                "Eastern Asia",
                                "Northern Europe",
                                "Western Europe",
                                "Southern Asia",
                                "Southeast Asia",
                                "Northern America"
                              ],
                              [
                                "Southern Europe",
                                "Western Asia",
                                "South America",
                                "Eastern Europe",
                                "Eastern Asia",
                                "Northern Europe",
                                "Western Europe",
                                "Southern Asia",
                                "Southeast Asia",
                                "Northern America"
                              ]
                            ]
                          },
                          {
                            "title": "geoNetwork.subContinent"
                          }
                        ],
                        "label": "geoNetwork.subContinent",
                        "method": "update"
                      },
                      {
                        "args": [
                          {
                            "x": [
                              [
                                19731,
                                19783,
                                19980,
                                20123,
                                20522,
                                24598,
                                25869,
                                37393,
                                51140,
                                364744
                              ],
                              [
                                6728990000,
                                641830000,
                                549340000,
                                462710000,
                                102410000,
                                0,
                                32824540000,
                                1689450000,
                                696660000,
                                1452440650000
                              ],
                              [
                                395822941.1764706,
                                64183000,
                                68667500,
                                92542000,
                                51205000,
                                null,
                                172760736.84210527,
                                105590625,
                                69666000,
                                132606651.14580481
                              ],
                              [
                                45940000,
                                38180000,
                                46985000,
                                110960000,
                                51205000,
                                null,
                                48135000,
                                43940000,
                                30295000,
                                48780000
                              ]
                            ],
                            "y": [
                              [
                                "Japan",
                                "Brazil",
                                "Germany",
                                "Thailand",
                                "Turkey",
                                "Vietnam",
                                "Canada",
                                "United Kingdom",
                                "India",
                                "United States"
                              ],
                              [
                                "Japan",
                                "Brazil",
                                "Germany",
                                "Thailand",
                                "Turkey",
                                "Vietnam",
                                "Canada",
                                "United Kingdom",
                                "India",
                                "United States"
                              ],
                              [
                                "Japan",
                                "Brazil",
                                "Germany",
                                "Thailand",
                                "Turkey",
                                "Vietnam",
                                "Canada",
                                "United Kingdom",
                                "India",
                                "United States"
                              ],
                              [
                                "Japan",
                                "Brazil",
                                "Germany",
                                "Thailand",
                                "Turkey",
                                "Vietnam",
                                "Canada",
                                "United Kingdom",
                                "India",
                                "United States"
                              ]
                            ]
                          },
                          {
                            "title": "geoNetwork.country"
                          }
                        ],
                        "label": "geoNetwork.country",
                        "method": "update"
                      },
                      {
                        "args": [
                          {
                            "x": [
                              [
                                7250,
                                7585,
                                7642,
                                7709,
                                8749,
                                13198,
                                26433,
                                27827,
                                107495,
                                508229
                              ],
                              [
                                0,
                                72912880000,
                                35179950000,
                                164920000,
                                28658860000,
                                1460000000,
                                220160460000,
                                5308130000,
                                375498240000,
                                646161110000
                              ],
                              [
                                null,
                                172370874.70449173,
                                104702232.14285715,
                                82460000,
                                94583696.36963697,
                                132727272.72727273,
                                146091877.9031188,
                                115394130.43478261,
                                113615201.21028744,
                                141114022.7123826
                              ],
                              [
                                null,
                                87600000,
                                48170000,
                                82460000,
                                46380000,
                                33980000,
                                58380000,
                                86635000,
                                50000000,
                                42600000
                              ]
                            ],
                            "y": [
                              [
                                "Ho Chi Minh",
                                "Illinois",
                                "Washington",
                                "Bangkok",
                                "Texas",
                                "England",
                                "New York",
                                "(not set)",
                                "California",
                                "not available in demo dataset"
                              ],
                              [
                                "Ho Chi Minh",
                                "Illinois",
                                "Washington",
                                "Bangkok",
                                "Texas",
                                "England",
                                "New York",
                                "(not set)",
                                "California",
                                "not available in demo dataset"
                              ],
                              [
                                "Ho Chi Minh",
                                "Illinois",
                                "Washington",
                                "Bangkok",
                                "Texas",
                                "England",
                                "New York",
                                "(not set)",
                                "California",
                                "not available in demo dataset"
                              ],
                              [
                                "Ho Chi Minh",
                                "Illinois",
                                "Washington",
                                "Bangkok",
                                "Texas",
                                "England",
                                "New York",
                                "(not set)",
                                "California",
                                "not available in demo dataset"
                              ]
                            ]
                          },
                          {
                            "title": "geoNetwork.region"
                          }
                        ],
                        "label": "geoNetwork.region",
                        "method": "update"
                      },
                      {
                        "args": [
                          {
                            "x": [
                              [
                                3380,
                                3790,
                                7585,
                                7642,
                                9995,
                                12571,
                                26917,
                                95913,
                                201766,
                                508229
                              ],
                              [
                                10610570000,
                                20804980000,
                                72912880000,
                                35179950000,
                                51332270000,
                                1460000000,
                                221318080000,
                                320036450000,
                                42386700000,
                                646161110000
                              ],
                              [
                                108271122.44897959,
                                99071333.33333333,
                                172370874.70449173,
                                104702232.14285715,
                                149656763.8483965,
                                132727272.72727273,
                                145795836.62714097,
                                109639071.59986296,
                                157571375.464684,
                                141114022.7123826
                              ],
                              [
                                59990000,
                                55300000,
                                87600000,
                                48170000,
                                55990000,
                                33980000,
                                59290000,
                                49580000,
                                78270000,
                                42600000
                              ]
                            ],
                            "y": [
                              [
                                "Washington DC (Hagerstown MD)",
                                "Austin TX",
                                "Chicago IL",
                                "Seattle-Tacoma WA",
                                "Los Angeles CA",
                                "London",
                                "New York NY",
                                "San Francisco-Oakland-San Jose CA",
                                "(not set)",
                                "not available in demo dataset"
                              ],
                              [
                                "Washington DC (Hagerstown MD)",
                                "Austin TX",
                                "Chicago IL",
                                "Seattle-Tacoma WA",
                                "Los Angeles CA",
                                "London",
                                "New York NY",
                                "San Francisco-Oakland-San Jose CA",
                                "(not set)",
                                "not available in demo dataset"
                              ],
                              [
                                "Washington DC (Hagerstown MD)",
                                "Austin TX",
                                "Chicago IL",
                                "Seattle-Tacoma WA",
                                "Los Angeles CA",
                                "London",
                                "New York NY",
                                "San Francisco-Oakland-San Jose CA",
                                "(not set)",
                                "not available in demo dataset"
                              ],
                              [
                                "Washington DC (Hagerstown MD)",
                                "Austin TX",
                                "Chicago IL",
                                "Seattle-Tacoma WA",
                                "Los Angeles CA",
                                "London",
                                "New York NY",
                                "San Francisco-Oakland-San Jose CA",
                                "(not set)",
                                "not available in demo dataset"
                              ]
                            ]
                          },
                          {
                            "title": "geoNetwork.metro"
                          }
                        ],
                        "label": "geoNetwork.metro",
                        "method": "update"
                      },
                      {
                        "args": [
                          {
                            "x": [
                              [
                                7709,
                                8670,
                                10295,
                                12607,
                                13086,
                                20329,
                                26371,
                                34262,
                                40884,
                                508229
                              ],
                              [
                                164920000,
                                41896330000,
                                18729180000,
                                1460000000,
                                39393580000,
                                100873960000,
                                220143510000,
                                4355090000,
                                126103680000,
                                646161110000
                              ],
                              [
                                82460000,
                                144970000,
                                92718712.87128712,
                                132727272.72727273,
                                86579296.7032967,
                                138373058.98491085,
                                146177629.48207173,
                                88879387.75510204,
                                104304119.10669975,
                                141114022.7123826
                              ],
                              [
                                82460000,
                                55900000,
                                55895000,
                                33980000,
                                44790000,
                                57560000,
                                58490000,
                                59770000,
                                44790000,
                                42600000
                              ]
                            ],
                            "y": [
                              [
                                "Bangkok",
                                "Los Angeles",
                                "San Jose",
                                "London",
                                "Sunnyvale",
                                "San Francisco",
                                "New York",
                                "(not set)",
                                "Mountain View",
                                "not available in demo dataset"
                              ],
                              [
                                "Bangkok",
                                "Los Angeles",
                                "San Jose",
                                "London",
                                "Sunnyvale",
                                "San Francisco",
                                "New York",
                                "(not set)",
                                "Mountain View",
                                "not available in demo dataset"
                              ],
                              [
                                "Bangkok",
                                "Los Angeles",
                                "San Jose",
                                "London",
                                "Sunnyvale",
                                "San Francisco",
                                "New York",
                                "(not set)",
                                "Mountain View",
                                "not available in demo dataset"
                              ],
                              [
                                "Bangkok",
                                "Los Angeles",
                                "San Jose",
                                "London",
                                "Sunnyvale",
                                "San Francisco",
                                "New York",
                                "(not set)",
                                "Mountain View",
                                "not available in demo dataset"
                              ]
                            ]
                          },
                          {
                            "title": "geoNetwork.city"
                          }
                        ],
                        "label": "geoNetwork.city",
                        "method": "update"
                      },
                      {
                        "args": [
                          {
                            "x": [
                              [
                                6046,
                                6414,
                                7919,
                                9985,
                                13228,
                                13637,
                                14827,
                                28743,
                                146034,
                                244881
                              ],
                              [
                                140590000,
                                62270000,
                                669810000,
                                146146410000,
                                17460000,
                                52918970000,
                                30132180000,
                                123169570000,
                                34901540000,
                                848264070000
                              ],
                              [
                                140590000,
                                62270000,
                                60891818.18181818,
                                497096632.6530612,
                                17460000,
                                112833624.73347548,
                                82780714.28571428,
                                131873201.28479658,
                                87253850,
                                127654487.58465011
                              ],
                              [
                                140590000,
                                62270000,
                                40970000,
                                50625000,
                                17460000,
                                50000000,
                                39950000,
                                46175000,
                                39670000,
                                51990000
                              ]
                            ],
                            "y": [
                              [
                                "3bb.co.th",
                                "virginm.net",
                                "hinet.net",
                                "comcastbusiness.net",
                                "ttnet.com.tr",
                                "verizon.net",
                                "rr.com",
                                "comcast.net",
                                "unknown.unknown",
                                "(not set)"
                              ],
                              [
                                "3bb.co.th",
                                "virginm.net",
                                "hinet.net",
                                "comcastbusiness.net",
                                "ttnet.com.tr",
                                "verizon.net",
                                "rr.com",
                                "comcast.net",
                                "unknown.unknown",
                                "(not set)"
                              ],
                              [
                                "3bb.co.th",
                                "virginm.net",
                                "hinet.net",
                                "comcastbusiness.net",
                                "ttnet.com.tr",
                                "verizon.net",
                                "rr.com",
                                "comcast.net",
                                "unknown.unknown",
                                "(not set)"
                              ],
                              [
                                "3bb.co.th",
                                "virginm.net",
                                "hinet.net",
                                "comcastbusiness.net",
                                "ttnet.com.tr",
                                "verizon.net",
                                "rr.com",
                                "comcast.net",
                                "unknown.unknown",
                                "(not set)"
                              ]
                            ]
                          },
                          {
                            "title": "geoNetwork.networkDomain"
                          }
                        ],
                        "label": "geoNetwork.networkDomain",
                        "method": "update"
                      },
                      {
                        "args": [
                          {
                            "x": [
                              [
                                120,
                                6262,
                                16403,
                                25326,
                                143026,
                                330955,
                                381561
                              ],
                              [
                                9990000,
                                78337460000,
                                597380000,
                                43558900000,
                                434840550000,
                                656346450000,
                                326380510000
                              ],
                              [
                                9990000,
                                551672253.5211267,
                                66375555.55555555,
                                93074572.64957266,
                                212948359.45151812,
                                121208947.36842105,
                                94933248.98196626
                              ],
                              [
                                9990000,
                                78925000,
                                20990000,
                                39990000,
                                58770000,
                                55210000,
                                38955000
                              ]
                            ],
                            "y": [
                              [
                                "(not set)",
                                "cpm",
                                "affiliate",
                                "cpc",
                                "(none)",
                                "referral",
                                "organic"
                              ],
                              [
                                "(not set)",
                                "cpm",
                                "affiliate",
                                "cpc",
                                "(none)",
                                "referral",
                                "organic"
                              ],
                              [
                                "(not set)",
                                "cpm",
                                "affiliate",
                                "cpc",
                                "(none)",
                                "referral",
                                "organic"
                              ],
                              [
                                "(not set)",
                                "cpm",
                                "affiliate",
                                "cpc",
                                "(none)",
                                "referral",
                                "organic"
                              ]
                            ]
                          },
                          {
                            "title": "trafficSource.medium"
                          }
                        ],
                        "label": "trafficSource.medium",
                        "method": "update"
                      },
                      {
                        "args": [
                          {
                            "x": [
                              [
                                1,
                                4,
                                46,
                                50,
                                96,
                                392,
                                7070,
                                14244,
                                16403,
                                865347
                              ],
                              [
                                0,
                                0,
                                77820000,
                                22950000,
                                0,
                                42000000,
                                15417820000,
                                27132550000,
                                597380000,
                                1496780720000
                              ],
                              [
                                null,
                                null,
                                77820000,
                                22950000,
                                null,
                                42000000,
                                118598615.38461539,
                                84001702.78637771,
                                66375555.55555555,
                                135455268.77828056
                              ],
                              [
                                null,
                                null,
                                77820000,
                                22950000,
                                null,
                                42000000,
                                39485000,
                                39870000,
                                20990000,
                                49960000
                              ]
                            ],
                            "y": [
                              [
                                "Data Share",
                                "All Products",
                                "AW - Apparel",
                                "Retail (DO NOT EDIT owners nophakun and tianyu)",
                                "AW - Electronics",
                                "test-liyuhz",
                                "AW - Accessories",
                                "AW - Dynamic Search Ads Whole Site",
                                "Data Share Promo",
                                "(not set)"
                              ],
                              [
                                "Data Share",
                                "All Products",
                                "AW - Apparel",
                                "Retail (DO NOT EDIT owners nophakun and tianyu)",
                                "AW - Electronics",
                                "test-liyuhz",
                                "AW - Accessories",
                                "AW - Dynamic Search Ads Whole Site",
                                "Data Share Promo",
                                "(not set)"
                              ],
                              [
                                "Data Share",
                                "All Products",
                                "AW - Apparel",
                                "Retail (DO NOT EDIT owners nophakun and tianyu)",
                                "AW - Electronics",
                                "test-liyuhz",
                                "AW - Accessories",
                                "AW - Dynamic Search Ads Whole Site",
                                "Data Share Promo",
                                "(not set)"
                              ],
                              [
                                "Data Share",
                                "All Products",
                                "AW - Apparel",
                                "Retail (DO NOT EDIT owners nophakun and tianyu)",
                                "AW - Electronics",
                                "test-liyuhz",
                                "AW - Accessories",
                                "AW - Dynamic Search Ads Whole Site",
                                "Data Share Promo",
                                "(not set)"
                              ]
                            ]
                          },
                          {
                            "title": "trafficSource.campaign"
                          }
                        ],
                        "label": "trafficSource.campaign",
                        "method": "update"
                      },
                      {
                        "args": [
                          {
                            "x": [
                              [
                                274005,
                                629648
                              ],
                              [
                                1142598990000,
                                397472250000
                              ],
                              [
                                163135207.02455738,
                                88111782.3099091
                              ],
                              [
                                56295000,
                                40960000
                              ]
                            ],
                            "y": [
                              [
                                "True",
                                "-1"
                              ],
                              [
                                "True",
                                "-1"
                              ],
                              [
                                "True",
                                "-1"
                              ],
                              [
                                "True",
                                "-1"
                              ]
                            ]
                          },
                          {
                            "title": "trafficSource.isTrueDirect"
                          }
                        ],
                        "label": "trafficSource.isTrueDirect",
                        "method": "update"
                      },
                      {
                        "args": [
                          {
                            "x": [
                              [
                                155,
                                251,
                                392,
                                489,
                                610,
                                822,
                                967,
                                1245,
                                5122,
                                892707
                              ],
                              [
                                0,
                                0,
                                42000000,
                                0,
                                0,
                                262380000,
                                302310000,
                                163420000,
                                14958310000,
                                1523862540000
                              ],
                              [
                                null,
                                null,
                                42000000,
                                null,
                                null,
                                52476000,
                                100770000,
                                40855000,
                                127848803.41880342,
                                134001278.57896589
                              ],
                              [
                                null,
                                null,
                                42000000,
                                null,
                                null,
                                41980000,
                                106360000,
                                25230000,
                                41810000,
                                49580000
                              ]
                            ],
                            "y": [
                              [
                                "{KeyWord:Google Merchandise}",
                                "{KeyWord:Google Brand Items}",
                                "Display Ad created 3/11/15",
                                "Ad from 11/3/16",
                                "Ad from 12/13/16",
                                "Full auto ad IMAGE ONLY",
                                "Display Ad created 3/11/14",
                                "Google Online Store",
                                "Google Merchandise Collection",
                                "-1"
                              ],
                              [
                                "{KeyWord:Google Merchandise}",
                                "{KeyWord:Google Brand Items}",
                                "Display Ad created 3/11/15",
                                "Ad from 11/3/16",
                                "Ad from 12/13/16",
                                "Full auto ad IMAGE ONLY",
                                "Display Ad created 3/11/14",
                                "Google Online Store",
                                "Google Merchandise Collection",
                                "-1"
                              ],
                              [
                                "{KeyWord:Google Merchandise}",
                                "{KeyWord:Google Brand Items}",
                                "Display Ad created 3/11/15",
                                "Ad from 11/3/16",
                                "Ad from 12/13/16",
                                "Full auto ad IMAGE ONLY",
                                "Display Ad created 3/11/14",
                                "Google Online Store",
                                "Google Merchandise Collection",
                                "-1"
                              ],
                              [
                                "{KeyWord:Google Merchandise}",
                                "{KeyWord:Google Brand Items}",
                                "Display Ad created 3/11/15",
                                "Ad from 11/3/16",
                                "Ad from 12/13/16",
                                "Full auto ad IMAGE ONLY",
                                "Display Ad created 3/11/14",
                                "Google Online Store",
                                "Google Merchandise Collection",
                                "-1"
                              ]
                            ]
                          },
                          {
                            "title": "trafficSource.adContent"
                          }
                        ],
                        "label": "trafficSource.adContent",
                        "method": "update"
                      },
                      {
                        "args": [
                          {
                            "x": [
                              [
                                7,
                                21453,
                                882193
                              ],
                              [
                                0,
                                42628190000,
                                1497443050000
                              ],
                              [
                                null,
                                93894691.62995595,
                                135380440.28568846
                              ],
                              [
                                null,
                                39925000,
                                49960000
                              ]
                            ],
                            "y": [
                              [
                                "Search partners",
                                "Google Search",
                                "-1"
                              ],
                              [
                                "Search partners",
                                "Google Search",
                                "-1"
                              ],
                              [
                                "Search partners",
                                "Google Search",
                                "-1"
                              ],
                              [
                                "Search partners",
                                "Google Search",
                                "-1"
                              ]
                            ]
                          },
                          {
                            "title": "trafficSource.adwordsClickInfo.adNetworkType"
                          }
                        ],
                        "label": "trafficSource.adwordsClickInfo.adNetworkType",
                        "method": "update"
                      },
                      {
                        "args": [
                          {
                            "x": [
                              [
                                450630,
                                453023
                              ],
                              [
                                0,
                                1540071240000
                              ],
                              [
                                null,
                                133744788.53669128
                              ],
                              [
                                null,
                                49450000
                              ]
                            ],
                            "y": [
                              [
                                "1.0",
                                "-1.0"
                              ],
                              [
                                "1.0",
                                "-1.0"
                              ],
                              [
                                "1.0",
                                "-1.0"
                              ],
                              [
                                "1.0",
                                "-1.0"
                              ]
                            ]
                          },
                          {
                            "title": "totals.bounces"
                          }
                        ],
                        "label": "totals.bounces",
                        "method": "update"
                      },
                      {
                        "args": [
                          {
                            "x": [
                              [],
                              [],
                              [],
                              []
                            ],
                            "y": [
                              [],
                              [],
                              [],
                              []
                            ]
                          },
                          {
                            "title": "totals.newVisits"
                          }
                        ],
                        "label": "totals.newVisits",
                        "method": "update"
                      },
                      {
                        "args": [
                          {
                            "x": [
                              [
                                1104,
                                1289,
                                1291,
                                1406,
                                1504,
                                1718,
                                1925,
                                2126,
                                2190,
                                2477,
                                2798,
                                3064,
                                3291,
                                3755,
                                4130,
                                4716,
                                5384,
                                6194,
                                6881,
                                7879,
                                9264,
                                10640,
                                12959,
                                15484,
                                19518,
                                23918,
                                30939,
                                42444,
                                70402,
                                137952,
                                446754
                              ],
                              [
                                25197190000,
                                28029160000,
                                19055060000,
                                23709130000,
                                25093750000,
                                31692760000,
                                23434830000,
                                28862060000,
                                26345770000,
                                20789130000,
                                25864510000,
                                30733630000,
                                34044970000,
                                23881050000,
                                39547520000,
                                34918280000,
                                33981990000,
                                25839010000,
                                22996820000,
                                19903980000,
                                21338920000,
                                13123000000,
                                10262070000,
                                5465470000,
                                1235570000,
                                335510000,
                                2282030000,
                                994300000,
                                211180000,
                                1214500000,
                                0
                              ],
                              [
                                121725555.55555555,
                                107391417.62452108,
                                85833603.6036036,
                                88798239.70037453,
                                95413498.09885931,
                                113594121.86379929,
                                87118327.13754646,
                                98842671.23287672,
                                84713086.81672026,
                                71686655.1724138,
                                82634217.25239617,
                                93415288.7537994,
                                98681072.46376811,
                                63682800,
                                113642298.85057472,
                                96459337.01657459,
                                95994322.03389831,
                                74250028.73563218,
                                73472268.37060703,
                                77147209.30232558,
                                110564352.33160622,
                                106691056.9105691,
                                109170957.44680852,
                                101212407.4074074,
                                65030000,
                                37278888.88888889,
                                190169166.66666666,
                                124287500,
                                70393333.33333333,
                                303625000,
                                null
                              ],
                              [
                                51170000,
                                47820000,
                                44790000,
                                46370000,
                                48790000,
                                39990000,
                                43170000,
                                41300000,
                                42380000,
                                37235000,
                                36950000,
                                33980000,
                                35980000,
                                33590000,
                                33590000,
                                33590000,
                                41990000,
                                33590000,
                                31980000,
                                33590000,
                                37570000,
                                35040000,
                                34990000,
                                42390000,
                                47910000,
                                30000000,
                                38365000,
                                43705000,
                                83990000,
                                69265000,
                                null
                              ]
                            ],
                            "y": [
                              [
                                "31",
                                "30",
                                "29",
                                "28",
                                "27",
                                "26",
                                "25",
                                "24",
                                "23",
                                "22",
                                "21",
                                "20",
                                "19",
                                "18",
                                "17",
                                "16",
                                "15",
                                "14",
                                "13",
                                "12",
                                "11",
                                "10",
                                "9",
                                "8",
                                "7",
                                "6",
                                "5",
                                "4",
                                "3",
                                "2",
                                "1"
                              ],
                              [
                                "31",
                                "30",
                                "29",
                                "28",
                                "27",
                                "26",
                                "25",
                                "24",
                                "23",
                                "22",
                                "21",
                                "20",
                                "19",
                                "18",
                                "17",
                                "16",
                                "15",
                                "14",
                                "13",
                                "12",
                                "11",
                                "10",
                                "9",
                                "8",
                                "7",
                                "6",
                                "5",
                                "4",
                                "3",
                                "2",
                                "1"
                              ],
                              [
                                "31",
                                "30",
                                "29",
                                "28",
                                "27",
                                "26",
                                "25",
                                "24",
                                "23",
                                "22",
                                "21",
                                "20",
                                "19",
                                "18",
                                "17",
                                "16",
                                "15",
                                "14",
                                "13",
                                "12",
                                "11",
                                "10",
                                "9",
                                "8",
                                "7",
                                "6",
                                "5",
                                "4",
                                "3",
                                "2",
                                "1"
                              ],
                              [
                                "31",
                                "30",
                                "29",
                                "28",
                                "27",
                                "26",
                                "25",
                                "24",
                                "23",
                                "22",
                                "21",
                                "20",
                                "19",
                                "18",
                                "17",
                                "16",
                                "15",
                                "14",
                                "13",
                                "12",
                                "11",
                                "10",
                                "9",
                                "8",
                                "7",
                                "6",
                                "5",
                                "4",
                                "3",
                                "2",
                                "1"
                              ]
                            ]
                          },
                          {
                            "title": "totals.hits"
                          }
                        ],
                        "label": "totals.hits",
                        "method": "update"
                      },
                      {
                        "args": [
                          {
                            "x": [
                              [
                                847,
                                873,
                                875,
                                1091,
                                1143,
                                1318,
                                1413,
                                1567,
                                1722,
                                1949,
                                2211,
                                2409,
                                2682,
                                3150,
                                3511,
                                4010,
                                4720,
                                5291,
                                6197,
                                7097,
                                8671,
                                10104,
                                12585,
                                15272,
                                19476,
                                24688,
                                33411,
                                45192,
                                73835,
                                143770,
                                452522
                              ],
                              [
                                30129730000,
                                38738990000,
                                22618990000,
                                28177380000,
                                32158260000,
                                44145580000,
                                28989720000,
                                39805420000,
                                41056320000,
                                50568120000,
                                39831050000,
                                35544600000,
                                28747320000,
                                37637410000,
                                40509510000,
                                41423170000,
                                40426750000,
                                49535870000,
                                42635380000,
                                26888590000,
                                37492290000,
                                24024950000,
                                14481070000,
                                8490440000,
                                1555710000,
                                335510000,
                                2717940000,
                                994300000,
                                211180000,
                                1214500000,
                                0
                              ],
                              [
                                125540541.66666667,
                                162768865.54621848,
                                93466900.82644628,
                                112260478.0876494,
                                119993507.46268657,
                                133370332.32628399,
                                97608484.84848484,
                                114713025.93659942,
                                122923113.7724551,
                                137787792.91553134,
                                97864987.71498771,
                                89532997.48110831,
                                78330572.20708446,
                                83453237.25055432,
                                91032606.74157304,
                                86659351.46443515,
                                85831740.97664544,
                                106072526.76659529,
                                94117836.64459161,
                                69840493.50649351,
                                100246764.70588236,
                                93482295.71984436,
                                106478455.88235295,
                                102294457.83132531,
                                62228400,
                                37278888.88888889,
                                209072307.69230768,
                                124287500,
                                70393333.33333333,
                                303625000,
                                null
                              ],
                              [
                                56365000,
                                56445000,
                                44790000,
                                55170000,
                                49785000,
                                55310000,
                                46950000,
                                48220000,
                                47975000,
                                45940000,
                                44790000,
                                38980000,
                                40770000,
                                34990000,
                                40140000,
                                33985000,
                                33990000,
                                40770000,
                                33590000,
                                33590000,
                                33590000,
                                39990000,
                                34145000,
                                34990000,
                                47910000,
                                30000000,
                                39760000,
                                43705000,
                                83990000,
                                69265000,
                                null
                              ]
                            ],
                            "y": [
                              [
                                "31.0",
                                "30.0",
                                "29.0",
                                "28.0",
                                "27.0",
                                "26.0",
                                "25.0",
                                "24.0",
                                "23.0",
                                "22.0",
                                "21.0",
                                "20.0",
                                "19.0",
                                "18.0",
                                "17.0",
                                "16.0",
                                "15.0",
                                "14.0",
                                "13.0",
                                "12.0",
                                "11.0",
                                "10.0",
                                "9.0",
                                "8.0",
                                "7.0",
                                "6.0",
                                "5.0",
                                "4.0",
                                "3.0",
                                "2.0",
                                "1.0"
                              ],
                              [
                                "31.0",
                                "30.0",
                                "29.0",
                                "28.0",
                                "27.0",
                                "26.0",
                                "25.0",
                                "24.0",
                                "23.0",
                                "22.0",
                                "21.0",
                                "20.0",
                                "19.0",
                                "18.0",
                                "17.0",
                                "16.0",
                                "15.0",
                                "14.0",
                                "13.0",
                                "12.0",
                                "11.0",
                                "10.0",
                                "9.0",
                                "8.0",
                                "7.0",
                                "6.0",
                                "5.0",
                                "4.0",
                                "3.0",
                                "2.0",
                                "1.0"
                              ],
                              [
                                "31.0",
                                "30.0",
                                "29.0",
                                "28.0",
                                "27.0",
                                "26.0",
                                "25.0",
                                "24.0",
                                "23.0",
                                "22.0",
                                "21.0",
                                "20.0",
                                "19.0",
                                "18.0",
                                "17.0",
                                "16.0",
                                "15.0",
                                "14.0",
                                "13.0",
                                "12.0",
                                "11.0",
                                "10.0",
                                "9.0",
                                "8.0",
                                "7.0",
                                "6.0",
                                "5.0",
                                "4.0",
                                "3.0",
                                "2.0",
                                "1.0"
                              ],
                              [
                                "31.0",
                                "30.0",
                                "29.0",
                                "28.0",
                                "27.0",
                                "26.0",
                                "25.0",
                                "24.0",
                                "23.0",
                                "22.0",
                                "21.0",
                                "20.0",
                                "19.0",
                                "18.0",
                                "17.0",
                                "16.0",
                                "15.0",
                                "14.0",
                                "13.0",
                                "12.0",
                                "11.0",
                                "10.0",
                                "9.0",
                                "8.0",
                                "7.0",
                                "6.0",
                                "5.0",
                                "4.0",
                                "3.0",
                                "2.0",
                                "1.0"
                              ]
                            ]
                          },
                          {
                            "title": "totals.pageviews"
                          }
                        ],
                        "label": "totals.pageviews",
                        "method": "update"
                      },
                      {
                        "args": [
                          {
                            "x": [
                              [
                                62138,
                                63425,
                                64445,
                                65333,
                                67156,
                                70053,
                                71157,
                                71793,
                                77351,
                                80074,
                                97114,
                                113614
                              ],
                              [
                                108481800000,
                                122303700000,
                                97173750000,
                                121299990000,
                                158243320000,
                                131620960000,
                                125865920000,
                                123368930000,
                                164944760000,
                                157559910000,
                                113117870000,
                                116090330000
                              ],
                              [
                                152148387.0967742,
                                129148574.44561774,
                                140831521.73913044,
                                108497307.6923077,
                                171816851.24864277,
                                148724248.5875706,
                                147039626.1682243,
                                120477470.703125,
                                140617868.71270248,
                                111823924.76933996,
                                129425480.54919909,
                                128276607.73480663
                              ],
                              [
                                44790000,
                                45810000,
                                44880000,
                                43550000,
                                50970000,
                                56970000,
                                59585000,
                                43240000,
                                62150000,
                                44790000,
                                49320000,
                                46790000
                              ]
                            ],
                            "y": [
                              [
                                "2",
                                "6",
                                "1",
                                "5",
                                "4",
                                "3",
                                "9",
                                "7",
                                "8",
                                "12",
                                "10",
                                "11"
                              ],
                              [
                                "2",
                                "6",
                                "1",
                                "5",
                                "4",
                                "3",
                                "9",
                                "7",
                                "8",
                                "12",
                                "10",
                                "11"
                              ],
                              [
                                "2",
                                "6",
                                "1",
                                "5",
                                "4",
                                "3",
                                "9",
                                "7",
                                "8",
                                "12",
                                "10",
                                "11"
                              ],
                              [
                                "2",
                                "6",
                                "1",
                                "5",
                                "4",
                                "3",
                                "9",
                                "7",
                                "8",
                                "12",
                                "10",
                                "11"
                              ]
                            ]
                          },
                          {
                            "title": "visitStartTime.month"
                          }
                        ],
                        "label": "visitStartTime.month",
                        "method": "update"
                      },
                      {
                        "args": [
                          {
                            "x": [
                              [
                                15769,
                                16198,
                                16236,
                                16279,
                                16301,
                                16358,
                                16436,
                                16483,
                                16628,
                                16652,
                                16678,
                                16694,
                                16819,
                                16863,
                                16959,
                                17070,
                                17077,
                                17230,
                                17265,
                                19413,
                                19958,
                                20714,
                                20812,
                                21145,
                                23611,
                                25184,
                                25520,
                                25994,
                                26240,
                                27326,
                                27773
                              ],
                              [
                                24225260000,
                                26276220000,
                                52499710000,
                                41139560000,
                                29727300000,
                                40934520000,
                                57919010000,
                                18515230000,
                                41324980000,
                                25253530000,
                                30929340000,
                                44313970000,
                                20261400000,
                                23846660000,
                                23541290000,
                                25904930000,
                                35274110000,
                                34160710000,
                                34409730000,
                                25491730000,
                                53974860000,
                                22478930000,
                                51525490000,
                                38687530000,
                                32923950000,
                                25296730000,
                                20837840000,
                                21525980000,
                                23990750000,
                                28001170000,
                                39443790000
                              ],
                              [
                                121126300,
                                105104880,
                                175584314.38127092,
                                221180430.10752687,
                                146439901.47783253,
                                176441896.55172414,
                                266907880.1843318,
                                118687371.79487179,
                                155943320.754717,
                                90514444.44444445,
                                137463733.33333334,
                                240836793.47826087,
                                98836097.56097561,
                                123557823.8341969,
                                95696300.81300813,
                                124542932.6923077,
                                129209194.13919415,
                                141159958.67768595,
                                114699100,
                                126196683.16831683,
                                112682379.95824635,
                                102176954.54545455,
                                124157807.22891566,
                                160529170.12448132,
                                167126649.7461929,
                                128409796.95431472,
                                106860717.94871795,
                                131255975.6097561,
                                123663659.79381444,
                                132080990.56603773,
                                124822120.25316456
                              ],
                              [
                                61675000,
                                42635000,
                                76550000,
                                63155000,
                                55990000,
                                41990000,
                                52070000,
                                44790000,
                                44290000,
                                42170000,
                                50970000,
                                72850000,
                                50970000,
                                41990000,
                                37835000,
                                55765000,
                                63040000,
                                47965000,
                                63070000,
                                49990000,
                                44790000,
                                49190000,
                                51930000,
                                50740000,
                                50000000,
                                47700000,
                                51160000,
                                44790000,
                                47040000,
                                44790000,
                                45980000
                              ]
                            ],
                            "y": [
                              [
                                "36",
                                "30",
                                "34",
                                "12",
                                "39",
                                "7",
                                "14",
                                "4",
                                "29",
                                "28",
                                "13",
                                "37",
                                "38",
                                "26",
                                "20",
                                "35",
                                "32",
                                "17",
                                "33",
                                "41",
                                "50",
                                "40",
                                "49",
                                "31",
                                "42",
                                "44",
                                "45",
                                "47",
                                "43",
                                "46",
                                "48"
                              ],
                              [
                                "36",
                                "30",
                                "34",
                                "12",
                                "39",
                                "7",
                                "14",
                                "4",
                                "29",
                                "28",
                                "13",
                                "37",
                                "38",
                                "26",
                                "20",
                                "35",
                                "32",
                                "17",
                                "33",
                                "41",
                                "50",
                                "40",
                                "49",
                                "31",
                                "42",
                                "44",
                                "45",
                                "47",
                                "43",
                                "46",
                                "48"
                              ],
                              [
                                "36",
                                "30",
                                "34",
                                "12",
                                "39",
                                "7",
                                "14",
                                "4",
                                "29",
                                "28",
                                "13",
                                "37",
                                "38",
                                "26",
                                "20",
                                "35",
                                "32",
                                "17",
                                "33",
                                "41",
                                "50",
                                "40",
                                "49",
                                "31",
                                "42",
                                "44",
                                "45",
                                "47",
                                "43",
                                "46",
                                "48"
                              ],
                              [
                                "36",
                                "30",
                                "34",
                                "12",
                                "39",
                                "7",
                                "14",
                                "4",
                                "29",
                                "28",
                                "13",
                                "37",
                                "38",
                                "26",
                                "20",
                                "35",
                                "32",
                                "17",
                                "33",
                                "41",
                                "50",
                                "40",
                                "49",
                                "31",
                                "42",
                                "44",
                                "45",
                                "47",
                                "43",
                                "46",
                                "48"
                              ]
                            ]
                          },
                          {
                            "title": "visitStartTime.week"
                          }
                        ],
                        "label": "visitStartTime.week",
                        "method": "update"
                      },
                      {
                        "args": [
                          {
                            "x": [
                              [
                                18030,
                                26221,
                                26411,
                                28024,
                                28545,
                                28650,
                                28729,
                                28795,
                                28825,
                                28925,
                                29019,
                                29083,
                                29135,
                                29144,
                                29151,
                                29365,
                                29551,
                                29715,
                                29731,
                                29951,
                                30111,
                                30208,
                                30223,
                                30259,
                                30310,
                                30462,
                                30884,
                                31207,
                                31311,
                                31836,
                                31842
                              ],
                              [
                                38560160000,
                                43730310000,
                                38063040000,
                                34394900000,
                                58425500000,
                                43996020000,
                                74729670000,
                                55270450000,
                                40013670000,
                                65926160000,
                                44837160000,
                                45774830000,
                                52159180000,
                                49800030000,
                                52929910000,
                                35954780000,
                                40223010000,
                                48992710000,
                                44635940000,
                                53189290000,
                                53396390000,
                                23827410000,
                                47252500000,
                                55677660000,
                                45963620000,
                                56842230000,
                                67309490000,
                                39939370000,
                                53781790000,
                                75459800000,
                                59014260000
                              ],
                              [
                                163390508.47457626,
                                129763531.15727003,
                                113621014.92537314,
                                103287987.987988,
                                133087699.3166287,
                                132518132.53012048,
                                181824014.59854016,
                                140996045.91836736,
                                123118984.61538461,
                                165643618.09045225,
                                130340581.39534883,
                                130042130.68181819,
                                132383705.58375634,
                                123573275.43424317,
                                109813091.28630705,
                                110971543.20987654,
                                119356112.75964391,
                                132412729.72972973,
                                140364591.19496855,
                                138154000,
                                128048896.882494,
                                79957751.67785235,
                                127709459.45945945,
                                154231745.15235457,
                                118158406.16966581,
                                142461729.32330826,
                                153324578.58769932,
                                116102819.76744185,
                                123070457.6659039,
                                188649500,
                                142546521.73913044
                              ],
                              [
                                53335000,
                                44790000,
                                48890000,
                                54360000,
                                54360000,
                                44895000,
                                54440000,
                                51170000,
                                45670000,
                                47455000,
                                46930000,
                                55990000,
                                52615000,
                                50970000,
                                46980000,
                                43845000,
                                49960000,
                                55990000,
                                52720000,
                                48670000,
                                44770000,
                                42585000,
                                50180000,
                                49170000,
                                44790000,
                                50000000,
                                44790000,
                                53710000,
                                50000000,
                                49180000,
                                48000000
                              ]
                            ],
                            "y": [
                              [
                                "31",
                                "30",
                                "29",
                                "11",
                                "13",
                                "23",
                                "14",
                                "7",
                                "25",
                                "18",
                                "22",
                                "8",
                                "10",
                                "9",
                                "12",
                                "3",
                                "2",
                                "6",
                                "24",
                                "28",
                                "19",
                                "4",
                                "15",
                                "27",
                                "20",
                                "21",
                                "16",
                                "26",
                                "17",
                                "5",
                                "1"
                              ],
                              [
                                "31",
                                "30",
                                "29",
                                "11",
                                "13",
                                "23",
                                "14",
                                "7",
                                "25",
                                "18",
                                "22",
                                "8",
                                "10",
                                "9",
                                "12",
                                "3",
                                "2",
                                "6",
                                "24",
                                "28",
                                "19",
                                "4",
                                "15",
                                "27",
                                "20",
                                "21",
                                "16",
                                "26",
                                "17",
                                "5",
                                "1"
                              ],
                              [
                                "31",
                                "30",
                                "29",
                                "11",
                                "13",
                                "23",
                                "14",
                                "7",
                                "25",
                                "18",
                                "22",
                                "8",
                                "10",
                                "9",
                                "12",
                                "3",
                                "2",
                                "6",
                                "24",
                                "28",
                                "19",
                                "4",
                                "15",
                                "27",
                                "20",
                                "21",
                                "16",
                                "26",
                                "17",
                                "5",
                                "1"
                              ],
                              [
                                "31",
                                "30",
                                "29",
                                "11",
                                "13",
                                "23",
                                "14",
                                "7",
                                "25",
                                "18",
                                "22",
                                "8",
                                "10",
                                "9",
                                "12",
                                "3",
                                "2",
                                "6",
                                "24",
                                "28",
                                "19",
                                "4",
                                "15",
                                "27",
                                "20",
                                "21",
                                "16",
                                "26",
                                "17",
                                "5",
                                "1"
                              ]
                            ]
                          },
                          {
                            "title": "visitStartTime.day"
                          }
                        ],
                        "label": "visitStartTime.day",
                        "method": "update"
                      },
                      {
                        "args": [
                          {
                            "x": [
                              [
                                95117,
                                101410,
                                134368,
                                135485,
                                143015,
                                146410,
                                147848
                              ],
                              [
                                63252740000,
                                77774600000,
                                263522250000,
                                251445370000,
                                281713930000,
                                302328800000,
                                300033550000
                              ],
                              [
                                77897463.0541872,
                                87584009.009009,
                                136752594.70679814,
                                129410895.52238806,
                                143951931.52784875,
                                147477463.41463414,
                                154816073.27141383
                              ],
                              [
                                41590000,
                                41975000,
                                51960000,
                                49980000,
                                51080000,
                                54425000,
                                50000000
                              ]
                            ],
                            "y": [
                              [
                                "6",
                                "5",
                                "4",
                                "0",
                                "3",
                                "1",
                                "2"
                              ],
                              [
                                "6",
                                "5",
                                "4",
                                "0",
                                "3",
                                "1",
                                "2"
                              ],
                              [
                                "6",
                                "5",
                                "4",
                                "0",
                                "3",
                                "1",
                                "2"
                              ],
                              [
                                "6",
                                "5",
                                "4",
                                "0",
                                "3",
                                "1",
                                "2"
                              ]
                            ]
                          },
                          {
                            "title": "visitStartTime.weekday"
                          }
                        ],
                        "label": "visitStartTime.weekday",
                        "method": "update"
                      },
                      {
                        "args": [
                          {
                            "x": [
                              [
                                29584,
                                29696,
                                29869,
                                29942,
                                30184,
                                30889,
                                30904,
                                31121,
                                31235,
                                32063,
                                32512,
                                33482,
                                34487,
                                35690,
                                39584,
                                40176,
                                44057,
                                44490,
                                46753,
                                47911,
                                48092,
                                49039,
                                50797,
                                51096
                              ],
                              [
                                24812970000,
                                13246100000,
                                7409810000,
                                34342490000,
                                5866270000,
                                9655550000,
                                10048420000,
                                10748610000,
                                36967370000,
                                50839910000,
                                55662530000,
                                60611860000,
                                21489860000,
                                66599380000,
                                89913380000,
                                62449340000,
                                104293410000,
                                89476410000,
                                150983420000,
                                131365990000,
                                122407920000,
                                102336100000,
                                131075500000,
                                147468640000
                              ],
                              [
                                86456341.46341464,
                                98851492.53731343,
                                151220612.24489796,
                                88511572.16494845,
                                130361555.55555555,
                                125396753.24675325,
                                143548857.14285713,
                                92660431.03448276,
                                93825812.18274112,
                                105476991.70124482,
                                113597000,
                                102212242.83305228,
                                141380657.89473686,
                                106049968.15286624,
                                115125966.709347,
                                188668700.9063444,
                                125806284.68033776,
                                175443941.17647058,
                                170795723.98190045,
                                143412652.83842796,
                                161701347.42404228,
                                136812967.91443852,
                                141397518.8781014,
                                159081596.54800433
                              ],
                              [
                                43710000,
                                44385000,
                                43930000,
                                44790000,
                                29980000,
                                47570000,
                                43585000,
                                49480000,
                                39990000,
                                43040000,
                                46380000,
                                45960000,
                                51480000,
                                42505000,
                                44790000,
                                57580000,
                                50430000,
                                59980000,
                                50010000,
                                54690000,
                                57840000,
                                55990000,
                                49800000,
                                55550000
                              ]
                            ],
                            "y": [
                              [
                                "5",
                                "6",
                                "10",
                                "4",
                                "9",
                                "8",
                                "11",
                                "7",
                                "3",
                                "2",
                                "1",
                                "0",
                                "12",
                                "23",
                                "22",
                                "13",
                                "21",
                                "14",
                                "20",
                                "19",
                                "15",
                                "16",
                                "17",
                                "18"
                              ],
                              [
                                "5",
                                "6",
                                "10",
                                "4",
                                "9",
                                "8",
                                "11",
                                "7",
                                "3",
                                "2",
                                "1",
                                "0",
                                "12",
                                "23",
                                "22",
                                "13",
                                "21",
                                "14",
                                "20",
                                "19",
                                "15",
                                "16",
                                "17",
                                "18"
                              ],
                              [
                                "5",
                                "6",
                                "10",
                                "4",
                                "9",
                                "8",
                                "11",
                                "7",
                                "3",
                                "2",
                                "1",
                                "0",
                                "12",
                                "23",
                                "22",
                                "13",
                                "21",
                                "14",
                                "20",
                                "19",
                                "15",
                                "16",
                                "17",
                                "18"
                              ],
                              [
                                "5",
                                "6",
                                "10",
                                "4",
                                "9",
                                "8",
                                "11",
                                "7",
                                "3",
                                "2",
                                "1",
                                "0",
                                "12",
                                "23",
                                "22",
                                "13",
                                "21",
                                "14",
                                "20",
                                "19",
                                "15",
                                "16",
                                "17",
                                "18"
                              ]
                            ]
                          },
                          {
                            "title": "visitStartTime.hour"
                          }
                        ],
                        "label": "visitStartTime.hour",
                        "method": "update"
                      }
                    ],
                    "direction": "down",
                    "showactive": true,
                    "x": 0,
                    "xanchor": "left",
                    "y": 1.25,
                    "yanchor": "top"
                  }
                ]
              }
            },
            "text/html": "<div id=\"728b0b74-c11b-41ab-b1cd-7af0e072b7c7\" style=\"height: 525px; width: 100%;\" class=\"plotly-graph-div\"></div><script type=\"text/javascript\">require([\"plotly\"], function(Plotly) { window.PLOTLYENV=window.PLOTLYENV || {};window.PLOTLYENV.BASE_URL=\"https://plot.ly\";Plotly.newPlot(\"728b0b74-c11b-41ab-b1cd-7af0e072b7c7\", [{\"orientation\": \"h\", \"x\": [30449, 208725, 664479], \"y\": [\"tablet\", \"mobile\", \"desktop\"], \"type\": \"bar\", \"uid\": \"c3ac0aea-c941-11e8-9295-0242ac130002\", \"xaxis\": \"x\", \"yaxis\": \"y\"}, {\"orientation\": \"h\", \"x\": [9421340000.0, 49785810000.0, 1480864090000.0], \"y\": [\"tablet\", \"mobile\", \"desktop\"], \"type\": \"bar\", \"uid\": \"c3ac9730-c941-11e8-9295-0242ac130002\", \"xaxis\": \"x2\", \"yaxis\": \"y2\"}, {\"name\": \"Median\", \"orientation\": \"h\", \"x\": [29630000.0, 24990000.0, 52300000.0], \"y\": [\"tablet\", \"mobile\", \"desktop\"], \"type\": \"bar\", \"uid\": \"c3ad081e-c941-11e8-9295-0242ac130002\", \"xaxis\": \"x3\", \"yaxis\": \"y3\"}, {\"name\": \"Mean\", \"orientation\": \"h\", \"x\": [56079404.76190476, 58434049.295774646, 141101866.60314435], \"y\": [\"tablet\", \"mobile\", \"desktop\"], \"type\": \"bar\", \"uid\": \"c3ad7d76-c941-11e8-9295-0242ac130002\", \"xaxis\": \"x3\", \"yaxis\": \"y3\"}], {\"annotations\": [{\"font\": {\"size\": 16}, \"showarrow\": false, \"text\": \"Number of record\", \"x\": 0.14444444444444446, \"xanchor\": \"center\", \"xref\": \"paper\", \"y\": 1.0, \"yanchor\": \"bottom\", \"yref\": \"paper\"}, {\"font\": {\"size\": 16}, \"showarrow\": false, \"text\": \"Total revenue\", \"x\": 0.5, \"xanchor\": \"center\", \"xref\": \"paper\", \"y\": 1.0, \"yanchor\": \"bottom\", \"yref\": \"paper\"}, {\"font\": {\"size\": 16}, \"showarrow\": false, \"text\": \"Mean & Median\", \"x\": 0.8555555555555556, \"xanchor\": \"center\", \"xref\": \"paper\", \"y\": 1.0, \"yanchor\": \"bottom\", \"yref\": \"paper\"}], \"xaxis\": {\"anchor\": \"y\", \"domain\": [0.0, 0.2888888888888889]}, \"yaxis\": {\"anchor\": \"x\", \"domain\": [0.0, 1.0]}, \"xaxis2\": {\"anchor\": \"y2\", \"domain\": [0.35555555555555557, 0.6444444444444445]}, \"yaxis2\": {\"anchor\": \"x2\", \"domain\": [0.0, 1.0]}, \"xaxis3\": {\"anchor\": \"y3\", \"domain\": [0.7111111111111111, 1.0]}, \"yaxis3\": {\"anchor\": \"x3\", \"domain\": [0.0, 1.0]}, \"title\": \"Device Category\", \"showlegend\": false, \"updatemenus\": [{\"buttons\": [{\"args\": [{\"x\": [[30449, 208725, 664479], [9421340000.0, 49785810000.0, 1480864090000.0], [56079404.76190476, 58434049.295774646, 141101866.60314435], [29630000.0, 24990000.0, 52300000.0]], \"y\": [[\"tablet\", \"mobile\", \"desktop\"], [\"tablet\", \"mobile\", \"desktop\"], [\"tablet\", \"mobile\", \"desktop\"], [\"tablet\", \"mobile\", \"desktop\"]]}, {\"title\": \"device.deviceCategory\"}], \"label\": \"device.deviceCategory\", \"method\": \"update\"}, {\"args\": [{\"x\": [[218, 280, 1216, 4695, 26337, 35034, 107665, 123892, 253938, 350072], [0.0, 0.0, 26400000.0, 0.0, 183937750000.0, 43910400000.0, 22166900000.0, 36341280000.0, 856375790000.0, 397312720000.0], [null, null, 26400000.0, null, 185048038.22937626, 56151406.64961637, 41356156.71641791, 77818586.72376874, 133267318.70525987, 172071338.24166307], [null, null, 26400000.0, null, 71430000.0, 39990000.0, 24990000.0, 25990000.0, 55990000.0, 43940000.0]], \"y\": [[\"BlackBerry\", \"Samsung\", \"Windows Phone\", \"(not set)\", \"Chrome OS\", \"Linux\", \"iOS\", \"Android\", \"Macintosh\", \"Windows\"], [\"BlackBerry\", \"Samsung\", \"Windows Phone\", \"(not set)\", \"Chrome OS\", \"Linux\", \"iOS\", \"Android\", \"Macintosh\", \"Windows\"], [\"BlackBerry\", \"Samsung\", \"Windows Phone\", \"(not set)\", \"Chrome OS\", \"Linux\", \"iOS\", \"Android\", \"Macintosh\", \"Windows\"], [\"BlackBerry\", \"Samsung\", \"Windows Phone\", \"(not set)\", \"Chrome OS\", \"Linux\", \"iOS\", \"Android\", \"Macintosh\", \"Windows\"]]}, {\"title\": \"device.operatingSystem\"}], \"label\": \"device.operatingSystem\", \"method\": \"update\"}, {\"args\": [{\"x\": [[2427, 5643, 6139, 6850, 7865, 10205, 19375, 37069, 182245, 620364], [0.0, 215350000.0, 0.0, 153770000.0, 114850000.0, 6482970000.0, 8255550000.0, 89316320000.0, 52397480000.0, 1383104960000.0], [null, 43070000.0, null, 12814166.666666666, 19141666.666666668, 111775344.8275862, 75738990.82568808, 467624712.04188484, 67176256.41025642, 133594606.39428185], [null, 37920000.0, null, 12475000.0, 13980000.0, 30470000.0, 33980000.0, 39890000.0, 27965000.0, 52060000.0]], \"y\": [[\"UC Browser\", \"Opera\", \"Opera Mini\", \"Safari (in-app)\", \"Android Webview\", \"Edge\", \"Internet Explorer\", \"Firefox\", \"Safari\", \"Chrome\"], [\"UC Browser\", \"Opera\", \"Opera Mini\", \"Safari (in-app)\", \"Android Webview\", \"Edge\", \"Internet Explorer\", \"Firefox\", \"Safari\", \"Chrome\"], [\"UC Browser\", \"Opera\", \"Opera Mini\", \"Safari (in-app)\", \"Android Webview\", \"Edge\", \"Internet Explorer\", \"Firefox\", \"Safari\", \"Chrome\"], [\"UC Browser\", \"Opera\", \"Opera Mini\", \"Safari (in-app)\", \"Android Webview\", \"Edge\", \"Internet Explorer\", \"Firefox\", \"Safari\", \"Chrome\"]]}, {\"title\": \"device.browser\"}], \"label\": \"device.browser\", \"method\": \"update\"}, {\"args\": [{\"x\": [[239123, 664530], [59239610000.0, 1480831630000.0], [58078049.01960784, 141098773.70176274], [25380000.0, 52300000.0]], \"y\": [[\"True\", \"False\"], [\"True\", \"False\"], [\"True\", \"False\"], [\"True\", \"False\"]]}, {\"title\": \"device.isMobile\"}], \"label\": \"device.isMobile\", \"method\": \"update\"}, {\"args\": [{\"x\": [[1468, 14745, 15054, 198311, 223698, 450377], [769780000.0, 8687760000.0, 1793230000.0, 6747030000.0, 17401840000.0, 1504671600000.0], [128296666.66666667, 1085970000.0, 128087857.14285715, 85405443.03797469, 139214720.0, 133357404.94549322], [130470000.0, 1548700000.0, 67155000.0, 38790000.0, 55970000.0, 49410000.0]], \"y\": [[\"(not set)\", \"Africa\", \"Oceania\", \"Europe\", \"Asia\", \"Americas\"], [\"(not set)\", \"Africa\", \"Oceania\", \"Europe\", \"Asia\", \"Americas\"], [\"(not set)\", \"Africa\", \"Oceania\", \"Europe\", \"Asia\", \"Americas\"], [\"(not set)\", \"Africa\", \"Oceania\", \"Europe\", \"Asia\", \"Americas\"]]}, {\"title\": \"geoNetwork.continent\"}], \"label\": \"geoNetwork.continent\", \"method\": \"update\"}, {\"args\": [{\"x\": [[35780, 38443, 41731, 45249, 46919, 58168, 59114, 59321, 77800, 390657], [964010000.0, 1781040000.0, 15937310000.0, 946800000.0, 11075220000.0, 1993880000.0, 2842340000.0, 754610000.0, 3755990000.0, 1485265190000.0], [120501250.0, 84811428.57142857, 162625612.24489796, 67628571.42857143, 187715593.22033897, 73847407.4074074, 94744666.66666667, 68600909.0909091, 117374687.5, 133291321.00870502], [100380000.0, 59990000.0, 101580000.0, 33035000.0, 47570000.0, 33590000.0, 52995000.0, 31980000.0, 107940000.0, 48780000.0]], \"y\": [[\"Southern Europe\", \"Western Asia\", \"South America\", \"Eastern Europe\", \"Eastern Asia\", \"Northern Europe\", \"Western Europe\", \"Southern Asia\", \"Southeast Asia\", \"Northern America\"], [\"Southern Europe\", \"Western Asia\", \"South America\", \"Eastern Europe\", \"Eastern Asia\", \"Northern Europe\", \"Western Europe\", \"Southern Asia\", \"Southeast Asia\", \"Northern America\"], [\"Southern Europe\", \"Western Asia\", \"South America\", \"Eastern Europe\", \"Eastern Asia\", \"Northern Europe\", \"Western Europe\", \"Southern Asia\", \"Southeast Asia\", \"Northern America\"], [\"Southern Europe\", \"Western Asia\", \"South America\", \"Eastern Europe\", \"Eastern Asia\", \"Northern Europe\", \"Western Europe\", \"Southern Asia\", \"Southeast Asia\", \"Northern America\"]]}, {\"title\": \"geoNetwork.subContinent\"}], \"label\": \"geoNetwork.subContinent\", \"method\": \"update\"}, {\"args\": [{\"x\": [[19731, 19783, 19980, 20123, 20522, 24598, 25869, 37393, 51140, 364744], [6728990000.0, 641830000.0, 549340000.0, 462710000.0, 102410000.0, 0.0, 32824540000.0, 1689450000.0, 696660000.0, 1452440650000.0], [395822941.1764706, 64183000.0, 68667500.0, 92542000.0, 51205000.0, null, 172760736.84210527, 105590625.0, 69666000.0, 132606651.14580481], [45940000.0, 38180000.0, 46985000.0, 110960000.0, 51205000.0, null, 48135000.0, 43940000.0, 30295000.0, 48780000.0]], \"y\": [[\"Japan\", \"Brazil\", \"Germany\", \"Thailand\", \"Turkey\", \"Vietnam\", \"Canada\", \"United Kingdom\", \"India\", \"United States\"], [\"Japan\", \"Brazil\", \"Germany\", \"Thailand\", \"Turkey\", \"Vietnam\", \"Canada\", \"United Kingdom\", \"India\", \"United States\"], [\"Japan\", \"Brazil\", \"Germany\", \"Thailand\", \"Turkey\", \"Vietnam\", \"Canada\", \"United Kingdom\", \"India\", \"United States\"], [\"Japan\", \"Brazil\", \"Germany\", \"Thailand\", \"Turkey\", \"Vietnam\", \"Canada\", \"United Kingdom\", \"India\", \"United States\"]]}, {\"title\": \"geoNetwork.country\"}], \"label\": \"geoNetwork.country\", \"method\": \"update\"}, {\"args\": [{\"x\": [[7250, 7585, 7642, 7709, 8749, 13198, 26433, 27827, 107495, 508229], [0.0, 72912880000.0, 35179950000.0, 164920000.0, 28658860000.0, 1460000000.0, 220160460000.0, 5308130000.0, 375498240000.0, 646161110000.0], [null, 172370874.70449173, 104702232.14285715, 82460000.0, 94583696.36963697, 132727272.72727273, 146091877.9031188, 115394130.43478261, 113615201.21028744, 141114022.7123826], [null, 87600000.0, 48170000.0, 82460000.0, 46380000.0, 33980000.0, 58380000.0, 86635000.0, 50000000.0, 42600000.0]], \"y\": [[\"Ho Chi Minh\", \"Illinois\", \"Washington\", \"Bangkok\", \"Texas\", \"England\", \"New York\", \"(not set)\", \"California\", \"not available in demo dataset\"], [\"Ho Chi Minh\", \"Illinois\", \"Washington\", \"Bangkok\", \"Texas\", \"England\", \"New York\", \"(not set)\", \"California\", \"not available in demo dataset\"], [\"Ho Chi Minh\", \"Illinois\", \"Washington\", \"Bangkok\", \"Texas\", \"England\", \"New York\", \"(not set)\", \"California\", \"not available in demo dataset\"], [\"Ho Chi Minh\", \"Illinois\", \"Washington\", \"Bangkok\", \"Texas\", \"England\", \"New York\", \"(not set)\", \"California\", \"not available in demo dataset\"]]}, {\"title\": \"geoNetwork.region\"}], \"label\": \"geoNetwork.region\", \"method\": \"update\"}, {\"args\": [{\"x\": [[3380, 3790, 7585, 7642, 9995, 12571, 26917, 95913, 201766, 508229], [10610570000.0, 20804980000.0, 72912880000.0, 35179950000.0, 51332270000.0, 1460000000.0, 221318080000.0, 320036450000.0, 42386700000.0, 646161110000.0], [108271122.44897959, 99071333.33333333, 172370874.70449173, 104702232.14285715, 149656763.8483965, 132727272.72727273, 145795836.62714097, 109639071.59986296, 157571375.464684, 141114022.7123826], [59990000.0, 55300000.0, 87600000.0, 48170000.0, 55990000.0, 33980000.0, 59290000.0, 49580000.0, 78270000.0, 42600000.0]], \"y\": [[\"Washington DC (Hagerstown MD)\", \"Austin TX\", \"Chicago IL\", \"Seattle-Tacoma WA\", \"Los Angeles CA\", \"London\", \"New York NY\", \"San Francisco-Oakland-San Jose CA\", \"(not set)\", \"not available in demo dataset\"], [\"Washington DC (Hagerstown MD)\", \"Austin TX\", \"Chicago IL\", \"Seattle-Tacoma WA\", \"Los Angeles CA\", \"London\", \"New York NY\", \"San Francisco-Oakland-San Jose CA\", \"(not set)\", \"not available in demo dataset\"], [\"Washington DC (Hagerstown MD)\", \"Austin TX\", \"Chicago IL\", \"Seattle-Tacoma WA\", \"Los Angeles CA\", \"London\", \"New York NY\", \"San Francisco-Oakland-San Jose CA\", \"(not set)\", \"not available in demo dataset\"], [\"Washington DC (Hagerstown MD)\", \"Austin TX\", \"Chicago IL\", \"Seattle-Tacoma WA\", \"Los Angeles CA\", \"London\", \"New York NY\", \"San Francisco-Oakland-San Jose CA\", \"(not set)\", \"not available in demo dataset\"]]}, {\"title\": \"geoNetwork.metro\"}], \"label\": \"geoNetwork.metro\", \"method\": \"update\"}, {\"args\": [{\"x\": [[7709, 8670, 10295, 12607, 13086, 20329, 26371, 34262, 40884, 508229], [164920000.0, 41896330000.0, 18729180000.0, 1460000000.0, 39393580000.0, 100873960000.0, 220143510000.0, 4355090000.0, 126103680000.0, 646161110000.0], [82460000.0, 144970000.0, 92718712.87128712, 132727272.72727273, 86579296.7032967, 138373058.98491085, 146177629.48207173, 88879387.75510204, 104304119.10669975, 141114022.7123826], [82460000.0, 55900000.0, 55895000.0, 33980000.0, 44790000.0, 57560000.0, 58490000.0, 59770000.0, 44790000.0, 42600000.0]], \"y\": [[\"Bangkok\", \"Los Angeles\", \"San Jose\", \"London\", \"Sunnyvale\", \"San Francisco\", \"New York\", \"(not set)\", \"Mountain View\", \"not available in demo dataset\"], [\"Bangkok\", \"Los Angeles\", \"San Jose\", \"London\", \"Sunnyvale\", \"San Francisco\", \"New York\", \"(not set)\", \"Mountain View\", \"not available in demo dataset\"], [\"Bangkok\", \"Los Angeles\", \"San Jose\", \"London\", \"Sunnyvale\", \"San Francisco\", \"New York\", \"(not set)\", \"Mountain View\", \"not available in demo dataset\"], [\"Bangkok\", \"Los Angeles\", \"San Jose\", \"London\", \"Sunnyvale\", \"San Francisco\", \"New York\", \"(not set)\", \"Mountain View\", \"not available in demo dataset\"]]}, {\"title\": \"geoNetwork.city\"}], \"label\": \"geoNetwork.city\", \"method\": \"update\"}, {\"args\": [{\"x\": [[6046, 6414, 7919, 9985, 13228, 13637, 14827, 28743, 146034, 244881], [140590000.0, 62270000.0, 669810000.0, 146146410000.0, 17460000.0, 52918970000.0, 30132180000.0, 123169570000.0, 34901540000.0, 848264070000.0], [140590000.0, 62270000.0, 60891818.18181818, 497096632.6530612, 17460000.0, 112833624.73347548, 82780714.28571428, 131873201.28479658, 87253850.0, 127654487.58465011], [140590000.0, 62270000.0, 40970000.0, 50625000.0, 17460000.0, 50000000.0, 39950000.0, 46175000.0, 39670000.0, 51990000.0]], \"y\": [[\"3bb.co.th\", \"virginm.net\", \"hinet.net\", \"comcastbusiness.net\", \"ttnet.com.tr\", \"verizon.net\", \"rr.com\", \"comcast.net\", \"unknown.unknown\", \"(not set)\"], [\"3bb.co.th\", \"virginm.net\", \"hinet.net\", \"comcastbusiness.net\", \"ttnet.com.tr\", \"verizon.net\", \"rr.com\", \"comcast.net\", \"unknown.unknown\", \"(not set)\"], [\"3bb.co.th\", \"virginm.net\", \"hinet.net\", \"comcastbusiness.net\", \"ttnet.com.tr\", \"verizon.net\", \"rr.com\", \"comcast.net\", \"unknown.unknown\", \"(not set)\"], [\"3bb.co.th\", \"virginm.net\", \"hinet.net\", \"comcastbusiness.net\", \"ttnet.com.tr\", \"verizon.net\", \"rr.com\", \"comcast.net\", \"unknown.unknown\", \"(not set)\"]]}, {\"title\": \"geoNetwork.networkDomain\"}], \"label\": \"geoNetwork.networkDomain\", \"method\": \"update\"}, {\"args\": [{\"x\": [[120, 6262, 16403, 25326, 143026, 330955, 381561], [9990000.0, 78337460000.0, 597380000.0, 43558900000.0, 434840550000.0, 656346450000.0, 326380510000.0], [9990000.0, 551672253.5211267, 66375555.55555555, 93074572.64957266, 212948359.45151812, 121208947.36842105, 94933248.98196626], [9990000.0, 78925000.0, 20990000.0, 39990000.0, 58770000.0, 55210000.0, 38955000.0]], \"y\": [[\"(not set)\", \"cpm\", \"affiliate\", \"cpc\", \"(none)\", \"referral\", \"organic\"], [\"(not set)\", \"cpm\", \"affiliate\", \"cpc\", \"(none)\", \"referral\", \"organic\"], [\"(not set)\", \"cpm\", \"affiliate\", \"cpc\", \"(none)\", \"referral\", \"organic\"], [\"(not set)\", \"cpm\", \"affiliate\", \"cpc\", \"(none)\", \"referral\", \"organic\"]]}, {\"title\": \"trafficSource.medium\"}], \"label\": \"trafficSource.medium\", \"method\": \"update\"}, {\"args\": [{\"x\": [[1, 4, 46, 50, 96, 392, 7070, 14244, 16403, 865347], [0.0, 0.0, 77820000.0, 22950000.0, 0.0, 42000000.0, 15417820000.0, 27132550000.0, 597380000.0, 1496780720000.0], [null, null, 77820000.0, 22950000.0, null, 42000000.0, 118598615.38461539, 84001702.78637771, 66375555.55555555, 135455268.77828056], [null, null, 77820000.0, 22950000.0, null, 42000000.0, 39485000.0, 39870000.0, 20990000.0, 49960000.0]], \"y\": [[\"Data Share\", \"All Products\", \"AW - Apparel\", \"Retail (DO NOT EDIT owners nophakun and tianyu)\", \"AW - Electronics\", \"test-liyuhz\", \"AW - Accessories\", \"AW - Dynamic Search Ads Whole Site\", \"Data Share Promo\", \"(not set)\"], [\"Data Share\", \"All Products\", \"AW - Apparel\", \"Retail (DO NOT EDIT owners nophakun and tianyu)\", \"AW - Electronics\", \"test-liyuhz\", \"AW - Accessories\", \"AW - Dynamic Search Ads Whole Site\", \"Data Share Promo\", \"(not set)\"], [\"Data Share\", \"All Products\", \"AW - Apparel\", \"Retail (DO NOT EDIT owners nophakun and tianyu)\", \"AW - Electronics\", \"test-liyuhz\", \"AW - Accessories\", \"AW - Dynamic Search Ads Whole Site\", \"Data Share Promo\", \"(not set)\"], [\"Data Share\", \"All Products\", \"AW - Apparel\", \"Retail (DO NOT EDIT owners nophakun and tianyu)\", \"AW - Electronics\", \"test-liyuhz\", \"AW - Accessories\", \"AW - Dynamic Search Ads Whole Site\", \"Data Share Promo\", \"(not set)\"]]}, {\"title\": \"trafficSource.campaign\"}], \"label\": \"trafficSource.campaign\", \"method\": \"update\"}, {\"args\": [{\"x\": [[274005, 629648], [1142598990000.0, 397472250000.0], [163135207.02455738, 88111782.3099091], [56295000.0, 40960000.0]], \"y\": [[\"True\", \"-1\"], [\"True\", \"-1\"], [\"True\", \"-1\"], [\"True\", \"-1\"]]}, {\"title\": \"trafficSource.isTrueDirect\"}], \"label\": \"trafficSource.isTrueDirect\", \"method\": \"update\"}, {\"args\": [{\"x\": [[155, 251, 392, 489, 610, 822, 967, 1245, 5122, 892707], [0.0, 0.0, 42000000.0, 0.0, 0.0, 262380000.0, 302310000.0, 163420000.0, 14958310000.0, 1523862540000.0], [null, null, 42000000.0, null, null, 52476000.0, 100770000.0, 40855000.0, 127848803.41880342, 134001278.57896589], [null, null, 42000000.0, null, null, 41980000.0, 106360000.0, 25230000.0, 41810000.0, 49580000.0]], \"y\": [[\"{KeyWord:Google Merchandise}\", \"{KeyWord:Google Brand Items}\", \"Display Ad created 3/11/15\", \"Ad from 11/3/16\", \"Ad from 12/13/16\", \"Full auto ad IMAGE ONLY\", \"Display Ad created 3/11/14\", \"Google Online Store\", \"Google Merchandise Collection\", \"-1\"], [\"{KeyWord:Google Merchandise}\", \"{KeyWord:Google Brand Items}\", \"Display Ad created 3/11/15\", \"Ad from 11/3/16\", \"Ad from 12/13/16\", \"Full auto ad IMAGE ONLY\", \"Display Ad created 3/11/14\", \"Google Online Store\", \"Google Merchandise Collection\", \"-1\"], [\"{KeyWord:Google Merchandise}\", \"{KeyWord:Google Brand Items}\", \"Display Ad created 3/11/15\", \"Ad from 11/3/16\", \"Ad from 12/13/16\", \"Full auto ad IMAGE ONLY\", \"Display Ad created 3/11/14\", \"Google Online Store\", \"Google Merchandise Collection\", \"-1\"], [\"{KeyWord:Google Merchandise}\", \"{KeyWord:Google Brand Items}\", \"Display Ad created 3/11/15\", \"Ad from 11/3/16\", \"Ad from 12/13/16\", \"Full auto ad IMAGE ONLY\", \"Display Ad created 3/11/14\", \"Google Online Store\", \"Google Merchandise Collection\", \"-1\"]]}, {\"title\": \"trafficSource.adContent\"}], \"label\": \"trafficSource.adContent\", \"method\": \"update\"}, {\"args\": [{\"x\": [[7, 21453, 882193], [0.0, 42628190000.0, 1497443050000.0], [null, 93894691.62995595, 135380440.28568846], [null, 39925000.0, 49960000.0]], \"y\": [[\"Search partners\", \"Google Search\", \"-1\"], [\"Search partners\", \"Google Search\", \"-1\"], [\"Search partners\", \"Google Search\", \"-1\"], [\"Search partners\", \"Google Search\", \"-1\"]]}, {\"title\": \"trafficSource.adwordsClickInfo.adNetworkType\"}], \"label\": \"trafficSource.adwordsClickInfo.adNetworkType\", \"method\": \"update\"}, {\"args\": [{\"x\": [[450630, 453023], [0.0, 1540071240000.0], [null, 133744788.53669128], [null, 49450000.0]], \"y\": [[\"1.0\", \"-1.0\"], [\"1.0\", \"-1.0\"], [\"1.0\", \"-1.0\"], [\"1.0\", \"-1.0\"]]}, {\"title\": \"totals.bounces\"}], \"label\": \"totals.bounces\", \"method\": \"update\"}, {\"args\": [{\"x\": [[], [], [], []], \"y\": [[], [], [], []]}, {\"title\": \"totals.newVisits\"}], \"label\": \"totals.newVisits\", \"method\": \"update\"}, {\"args\": [{\"x\": [[1104, 1289, 1291, 1406, 1504, 1718, 1925, 2126, 2190, 2477, 2798, 3064, 3291, 3755, 4130, 4716, 5384, 6194, 6881, 7879, 9264, 10640, 12959, 15484, 19518, 23918, 30939, 42444, 70402, 137952, 446754], [25197190000.0, 28029160000.0, 19055060000.0, 23709130000.0, 25093750000.0, 31692760000.0, 23434830000.0, 28862060000.0, 26345770000.0, 20789130000.0, 25864510000.0, 30733630000.0, 34044970000.0, 23881050000.0, 39547520000.0, 34918280000.0, 33981990000.0, 25839010000.0, 22996820000.0, 19903980000.0, 21338920000.0, 13123000000.0, 10262070000.0, 5465470000.0, 1235570000.0, 335510000.0, 2282030000.0, 994300000.0, 211180000.0, 1214500000.0, 0.0], [121725555.55555555, 107391417.62452108, 85833603.6036036, 88798239.70037453, 95413498.09885931, 113594121.86379929, 87118327.13754646, 98842671.23287672, 84713086.81672026, 71686655.1724138, 82634217.25239617, 93415288.7537994, 98681072.46376811, 63682800.0, 113642298.85057472, 96459337.01657459, 95994322.03389831, 74250028.73563218, 73472268.37060703, 77147209.30232558, 110564352.33160622, 106691056.9105691, 109170957.44680852, 101212407.4074074, 65030000.0, 37278888.88888889, 190169166.66666666, 124287500.0, 70393333.33333333, 303625000.0, null], [51170000.0, 47820000.0, 44790000.0, 46370000.0, 48790000.0, 39990000.0, 43170000.0, 41300000.0, 42380000.0, 37235000.0, 36950000.0, 33980000.0, 35980000.0, 33590000.0, 33590000.0, 33590000.0, 41990000.0, 33590000.0, 31980000.0, 33590000.0, 37570000.0, 35040000.0, 34990000.0, 42390000.0, 47910000.0, 30000000.0, 38365000.0, 43705000.0, 83990000.0, 69265000.0, null]], \"y\": [[\"31\", \"30\", \"29\", \"28\", \"27\", \"26\", \"25\", \"24\", \"23\", \"22\", \"21\", \"20\", \"19\", \"18\", \"17\", \"16\", \"15\", \"14\", \"13\", \"12\", \"11\", \"10\", \"9\", \"8\", \"7\", \"6\", \"5\", \"4\", \"3\", \"2\", \"1\"], [\"31\", \"30\", \"29\", \"28\", \"27\", \"26\", \"25\", \"24\", \"23\", \"22\", \"21\", \"20\", \"19\", \"18\", \"17\", \"16\", \"15\", \"14\", \"13\", \"12\", \"11\", \"10\", \"9\", \"8\", \"7\", \"6\", \"5\", \"4\", \"3\", \"2\", \"1\"], [\"31\", \"30\", \"29\", \"28\", \"27\", \"26\", \"25\", \"24\", \"23\", \"22\", \"21\", \"20\", \"19\", \"18\", \"17\", \"16\", \"15\", \"14\", \"13\", \"12\", \"11\", \"10\", \"9\", \"8\", \"7\", \"6\", \"5\", \"4\", \"3\", \"2\", \"1\"], [\"31\", \"30\", \"29\", \"28\", \"27\", \"26\", \"25\", \"24\", \"23\", \"22\", \"21\", \"20\", \"19\", \"18\", \"17\", \"16\", \"15\", \"14\", \"13\", \"12\", \"11\", \"10\", \"9\", \"8\", \"7\", \"6\", \"5\", \"4\", \"3\", \"2\", \"1\"]]}, {\"title\": \"totals.hits\"}], \"label\": \"totals.hits\", \"method\": \"update\"}, {\"args\": [{\"x\": [[847, 873, 875, 1091, 1143, 1318, 1413, 1567, 1722, 1949, 2211, 2409, 2682, 3150, 3511, 4010, 4720, 5291, 6197, 7097, 8671, 10104, 12585, 15272, 19476, 24688, 33411, 45192, 73835, 143770, 452522], [30129730000.0, 38738990000.0, 22618990000.0, 28177380000.0, 32158260000.0, 44145580000.0, 28989720000.0, 39805420000.0, 41056320000.0, 50568120000.0, 39831050000.0, 35544600000.0, 28747320000.0, 37637410000.0, 40509510000.0, 41423170000.0, 40426750000.0, 49535870000.0, 42635380000.0, 26888590000.0, 37492290000.0, 24024950000.0, 14481070000.0, 8490440000.0, 1555710000.0, 335510000.0, 2717940000.0, 994300000.0, 211180000.0, 1214500000.0, 0.0], [125540541.66666667, 162768865.54621848, 93466900.82644628, 112260478.0876494, 119993507.46268657, 133370332.32628399, 97608484.84848484, 114713025.93659942, 122923113.7724551, 137787792.91553134, 97864987.71498771, 89532997.48110831, 78330572.20708446, 83453237.25055432, 91032606.74157304, 86659351.46443515, 85831740.97664544, 106072526.76659529, 94117836.64459161, 69840493.50649351, 100246764.70588236, 93482295.71984436, 106478455.88235295, 102294457.83132531, 62228400.0, 37278888.88888889, 209072307.69230768, 124287500.0, 70393333.33333333, 303625000.0, null], [56365000.0, 56445000.0, 44790000.0, 55170000.0, 49785000.0, 55310000.0, 46950000.0, 48220000.0, 47975000.0, 45940000.0, 44790000.0, 38980000.0, 40770000.0, 34990000.0, 40140000.0, 33985000.0, 33990000.0, 40770000.0, 33590000.0, 33590000.0, 33590000.0, 39990000.0, 34145000.0, 34990000.0, 47910000.0, 30000000.0, 39760000.0, 43705000.0, 83990000.0, 69265000.0, null]], \"y\": [[\"31.0\", \"30.0\", \"29.0\", \"28.0\", \"27.0\", \"26.0\", \"25.0\", \"24.0\", \"23.0\", \"22.0\", \"21.0\", \"20.0\", \"19.0\", \"18.0\", \"17.0\", \"16.0\", \"15.0\", \"14.0\", \"13.0\", \"12.0\", \"11.0\", \"10.0\", \"9.0\", \"8.0\", \"7.0\", \"6.0\", \"5.0\", \"4.0\", \"3.0\", \"2.0\", \"1.0\"], [\"31.0\", \"30.0\", \"29.0\", \"28.0\", \"27.0\", \"26.0\", \"25.0\", \"24.0\", \"23.0\", \"22.0\", \"21.0\", \"20.0\", \"19.0\", \"18.0\", \"17.0\", \"16.0\", \"15.0\", \"14.0\", \"13.0\", \"12.0\", \"11.0\", \"10.0\", \"9.0\", \"8.0\", \"7.0\", \"6.0\", \"5.0\", \"4.0\", \"3.0\", \"2.0\", \"1.0\"], [\"31.0\", \"30.0\", \"29.0\", \"28.0\", \"27.0\", \"26.0\", \"25.0\", \"24.0\", \"23.0\", \"22.0\", \"21.0\", \"20.0\", \"19.0\", \"18.0\", \"17.0\", \"16.0\", \"15.0\", \"14.0\", \"13.0\", \"12.0\", \"11.0\", \"10.0\", \"9.0\", \"8.0\", \"7.0\", \"6.0\", \"5.0\", \"4.0\", \"3.0\", \"2.0\", \"1.0\"], [\"31.0\", \"30.0\", \"29.0\", \"28.0\", \"27.0\", \"26.0\", \"25.0\", \"24.0\", \"23.0\", \"22.0\", \"21.0\", \"20.0\", \"19.0\", \"18.0\", \"17.0\", \"16.0\", \"15.0\", \"14.0\", \"13.0\", \"12.0\", \"11.0\", \"10.0\", \"9.0\", \"8.0\", \"7.0\", \"6.0\", \"5.0\", \"4.0\", \"3.0\", \"2.0\", \"1.0\"]]}, {\"title\": \"totals.pageviews\"}], \"label\": \"totals.pageviews\", \"method\": \"update\"}, {\"args\": [{\"x\": [[62138, 63425, 64445, 65333, 67156, 70053, 71157, 71793, 77351, 80074, 97114, 113614], [108481800000.0, 122303700000.0, 97173750000.0, 121299990000.0, 158243320000.0, 131620960000.0, 125865920000.0, 123368930000.0, 164944760000.0, 157559910000.0, 113117870000.0, 116090330000.0], [152148387.0967742, 129148574.44561774, 140831521.73913044, 108497307.6923077, 171816851.24864277, 148724248.5875706, 147039626.1682243, 120477470.703125, 140617868.71270248, 111823924.76933996, 129425480.54919909, 128276607.73480663], [44790000.0, 45810000.0, 44880000.0, 43550000.0, 50970000.0, 56970000.0, 59585000.0, 43240000.0, 62150000.0, 44790000.0, 49320000.0, 46790000.0]], \"y\": [[\"2\", \"6\", \"1\", \"5\", \"4\", \"3\", \"9\", \"7\", \"8\", \"12\", \"10\", \"11\"], [\"2\", \"6\", \"1\", \"5\", \"4\", \"3\", \"9\", \"7\", \"8\", \"12\", \"10\", \"11\"], [\"2\", \"6\", \"1\", \"5\", \"4\", \"3\", \"9\", \"7\", \"8\", \"12\", \"10\", \"11\"], [\"2\", \"6\", \"1\", \"5\", \"4\", \"3\", \"9\", \"7\", \"8\", \"12\", \"10\", \"11\"]]}, {\"title\": \"visitStartTime.month\"}], \"label\": \"visitStartTime.month\", \"method\": \"update\"}, {\"args\": [{\"x\": [[15769, 16198, 16236, 16279, 16301, 16358, 16436, 16483, 16628, 16652, 16678, 16694, 16819, 16863, 16959, 17070, 17077, 17230, 17265, 19413, 19958, 20714, 20812, 21145, 23611, 25184, 25520, 25994, 26240, 27326, 27773], [24225260000.0, 26276220000.0, 52499710000.0, 41139560000.0, 29727300000.0, 40934520000.0, 57919010000.0, 18515230000.0, 41324980000.0, 25253530000.0, 30929340000.0, 44313970000.0, 20261400000.0, 23846660000.0, 23541290000.0, 25904930000.0, 35274110000.0, 34160710000.0, 34409730000.0, 25491730000.0, 53974860000.0, 22478930000.0, 51525490000.0, 38687530000.0, 32923950000.0, 25296730000.0, 20837840000.0, 21525980000.0, 23990750000.0, 28001170000.0, 39443790000.0], [121126300.0, 105104880.0, 175584314.38127092, 221180430.10752687, 146439901.47783253, 176441896.55172414, 266907880.1843318, 118687371.79487179, 155943320.754717, 90514444.44444445, 137463733.33333334, 240836793.47826087, 98836097.56097561, 123557823.8341969, 95696300.81300813, 124542932.6923077, 129209194.13919415, 141159958.67768595, 114699100.0, 126196683.16831683, 112682379.95824635, 102176954.54545455, 124157807.22891566, 160529170.12448132, 167126649.7461929, 128409796.95431472, 106860717.94871795, 131255975.6097561, 123663659.79381444, 132080990.56603773, 124822120.25316456], [61675000.0, 42635000.0, 76550000.0, 63155000.0, 55990000.0, 41990000.0, 52070000.0, 44790000.0, 44290000.0, 42170000.0, 50970000.0, 72850000.0, 50970000.0, 41990000.0, 37835000.0, 55765000.0, 63040000.0, 47965000.0, 63070000.0, 49990000.0, 44790000.0, 49190000.0, 51930000.0, 50740000.0, 50000000.0, 47700000.0, 51160000.0, 44790000.0, 47040000.0, 44790000.0, 45980000.0]], \"y\": [[\"36\", \"30\", \"34\", \"12\", \"39\", \"7\", \"14\", \"4\", \"29\", \"28\", \"13\", \"37\", \"38\", \"26\", \"20\", \"35\", \"32\", \"17\", \"33\", \"41\", \"50\", \"40\", \"49\", \"31\", \"42\", \"44\", \"45\", \"47\", \"43\", \"46\", \"48\"], [\"36\", \"30\", \"34\", \"12\", \"39\", \"7\", \"14\", \"4\", \"29\", \"28\", \"13\", \"37\", \"38\", \"26\", \"20\", \"35\", \"32\", \"17\", \"33\", \"41\", \"50\", \"40\", \"49\", \"31\", \"42\", \"44\", \"45\", \"47\", \"43\", \"46\", \"48\"], [\"36\", \"30\", \"34\", \"12\", \"39\", \"7\", \"14\", \"4\", \"29\", \"28\", \"13\", \"37\", \"38\", \"26\", \"20\", \"35\", \"32\", \"17\", \"33\", \"41\", \"50\", \"40\", \"49\", \"31\", \"42\", \"44\", \"45\", \"47\", \"43\", \"46\", \"48\"], [\"36\", \"30\", \"34\", \"12\", \"39\", \"7\", \"14\", \"4\", \"29\", \"28\", \"13\", \"37\", \"38\", \"26\", \"20\", \"35\", \"32\", \"17\", \"33\", \"41\", \"50\", \"40\", \"49\", \"31\", \"42\", \"44\", \"45\", \"47\", \"43\", \"46\", \"48\"]]}, {\"title\": \"visitStartTime.week\"}], \"label\": \"visitStartTime.week\", \"method\": \"update\"}, {\"args\": [{\"x\": [[18030, 26221, 26411, 28024, 28545, 28650, 28729, 28795, 28825, 28925, 29019, 29083, 29135, 29144, 29151, 29365, 29551, 29715, 29731, 29951, 30111, 30208, 30223, 30259, 30310, 30462, 30884, 31207, 31311, 31836, 31842], [38560160000.0, 43730310000.0, 38063040000.0, 34394900000.0, 58425500000.0, 43996020000.0, 74729670000.0, 55270450000.0, 40013670000.0, 65926160000.0, 44837160000.0, 45774830000.0, 52159180000.0, 49800030000.0, 52929910000.0, 35954780000.0, 40223010000.0, 48992710000.0, 44635940000.0, 53189290000.0, 53396390000.0, 23827410000.0, 47252500000.0, 55677660000.0, 45963620000.0, 56842230000.0, 67309490000.0, 39939370000.0, 53781790000.0, 75459800000.0, 59014260000.0], [163390508.47457626, 129763531.15727003, 113621014.92537314, 103287987.987988, 133087699.3166287, 132518132.53012048, 181824014.59854016, 140996045.91836736, 123118984.61538461, 165643618.09045225, 130340581.39534883, 130042130.68181819, 132383705.58375634, 123573275.43424317, 109813091.28630705, 110971543.20987654, 119356112.75964391, 132412729.72972973, 140364591.19496855, 138154000.0, 128048896.882494, 79957751.67785235, 127709459.45945945, 154231745.15235457, 118158406.16966581, 142461729.32330826, 153324578.58769932, 116102819.76744185, 123070457.6659039, 188649500.0, 142546521.73913044], [53335000.0, 44790000.0, 48890000.0, 54360000.0, 54360000.0, 44895000.0, 54440000.0, 51170000.0, 45670000.0, 47455000.0, 46930000.0, 55990000.0, 52615000.0, 50970000.0, 46980000.0, 43845000.0, 49960000.0, 55990000.0, 52720000.0, 48670000.0, 44770000.0, 42585000.0, 50180000.0, 49170000.0, 44790000.0, 50000000.0, 44790000.0, 53710000.0, 50000000.0, 49180000.0, 48000000.0]], \"y\": [[\"31\", \"30\", \"29\", \"11\", \"13\", \"23\", \"14\", \"7\", \"25\", \"18\", \"22\", \"8\", \"10\", \"9\", \"12\", \"3\", \"2\", \"6\", \"24\", \"28\", \"19\", \"4\", \"15\", \"27\", \"20\", \"21\", \"16\", \"26\", \"17\", \"5\", \"1\"], [\"31\", \"30\", \"29\", \"11\", \"13\", \"23\", \"14\", \"7\", \"25\", \"18\", \"22\", \"8\", \"10\", \"9\", \"12\", \"3\", \"2\", \"6\", \"24\", \"28\", \"19\", \"4\", \"15\", \"27\", \"20\", \"21\", \"16\", \"26\", \"17\", \"5\", \"1\"], [\"31\", \"30\", \"29\", \"11\", \"13\", \"23\", \"14\", \"7\", \"25\", \"18\", \"22\", \"8\", \"10\", \"9\", \"12\", \"3\", \"2\", \"6\", \"24\", \"28\", \"19\", \"4\", \"15\", \"27\", \"20\", \"21\", \"16\", \"26\", \"17\", \"5\", \"1\"], [\"31\", \"30\", \"29\", \"11\", \"13\", \"23\", \"14\", \"7\", \"25\", \"18\", \"22\", \"8\", \"10\", \"9\", \"12\", \"3\", \"2\", \"6\", \"24\", \"28\", \"19\", \"4\", \"15\", \"27\", \"20\", \"21\", \"16\", \"26\", \"17\", \"5\", \"1\"]]}, {\"title\": \"visitStartTime.day\"}], \"label\": \"visitStartTime.day\", \"method\": \"update\"}, {\"args\": [{\"x\": [[95117, 101410, 134368, 135485, 143015, 146410, 147848], [63252740000.0, 77774600000.0, 263522250000.0, 251445370000.0, 281713930000.0, 302328800000.0, 300033550000.0], [77897463.0541872, 87584009.009009, 136752594.70679814, 129410895.52238806, 143951931.52784875, 147477463.41463414, 154816073.27141383], [41590000.0, 41975000.0, 51960000.0, 49980000.0, 51080000.0, 54425000.0, 50000000.0]], \"y\": [[\"6\", \"5\", \"4\", \"0\", \"3\", \"1\", \"2\"], [\"6\", \"5\", \"4\", \"0\", \"3\", \"1\", \"2\"], [\"6\", \"5\", \"4\", \"0\", \"3\", \"1\", \"2\"], [\"6\", \"5\", \"4\", \"0\", \"3\", \"1\", \"2\"]]}, {\"title\": \"visitStartTime.weekday\"}], \"label\": \"visitStartTime.weekday\", \"method\": \"update\"}, {\"args\": [{\"x\": [[29584, 29696, 29869, 29942, 30184, 30889, 30904, 31121, 31235, 32063, 32512, 33482, 34487, 35690, 39584, 40176, 44057, 44490, 46753, 47911, 48092, 49039, 50797, 51096], [24812970000.0, 13246100000.0, 7409810000.0, 34342490000.0, 5866270000.0, 9655550000.0, 10048420000.0, 10748610000.0, 36967370000.0, 50839910000.0, 55662530000.0, 60611860000.0, 21489860000.0, 66599380000.0, 89913380000.0, 62449340000.0, 104293410000.0, 89476410000.0, 150983420000.0, 131365990000.0, 122407920000.0, 102336100000.0, 131075500000.0, 147468640000.0], [86456341.46341464, 98851492.53731343, 151220612.24489796, 88511572.16494845, 130361555.55555555, 125396753.24675325, 143548857.14285713, 92660431.03448276, 93825812.18274112, 105476991.70124482, 113597000.0, 102212242.83305228, 141380657.89473686, 106049968.15286624, 115125966.709347, 188668700.9063444, 125806284.68033776, 175443941.17647058, 170795723.98190045, 143412652.83842796, 161701347.42404228, 136812967.91443852, 141397518.8781014, 159081596.54800433], [43710000.0, 44385000.0, 43930000.0, 44790000.0, 29980000.0, 47570000.0, 43585000.0, 49480000.0, 39990000.0, 43040000.0, 46380000.0, 45960000.0, 51480000.0, 42505000.0, 44790000.0, 57580000.0, 50430000.0, 59980000.0, 50010000.0, 54690000.0, 57840000.0, 55990000.0, 49800000.0, 55550000.0]], \"y\": [[\"5\", \"6\", \"10\", \"4\", \"9\", \"8\", \"11\", \"7\", \"3\", \"2\", \"1\", \"0\", \"12\", \"23\", \"22\", \"13\", \"21\", \"14\", \"20\", \"19\", \"15\", \"16\", \"17\", \"18\"], [\"5\", \"6\", \"10\", \"4\", \"9\", \"8\", \"11\", \"7\", \"3\", \"2\", \"1\", \"0\", \"12\", \"23\", \"22\", \"13\", \"21\", \"14\", \"20\", \"19\", \"15\", \"16\", \"17\", \"18\"], [\"5\", \"6\", \"10\", \"4\", \"9\", \"8\", \"11\", \"7\", \"3\", \"2\", \"1\", \"0\", \"12\", \"23\", \"22\", \"13\", \"21\", \"14\", \"20\", \"19\", \"15\", \"16\", \"17\", \"18\"], [\"5\", \"6\", \"10\", \"4\", \"9\", \"8\", \"11\", \"7\", \"3\", \"2\", \"1\", \"0\", \"12\", \"23\", \"22\", \"13\", \"21\", \"14\", \"20\", \"19\", \"15\", \"16\", \"17\", \"18\"]]}, {\"title\": \"visitStartTime.hour\"}], \"label\": \"visitStartTime.hour\", \"method\": \"update\"}], \"direction\": \"down\", \"showactive\": true, \"x\": 0, \"xanchor\": \"left\", \"y\": 1.25, \"yanchor\": \"top\"}]}, {\"showLink\": true, \"linkText\": \"Export to plot.ly\"})});</script>",
            "text/vnd.plotly.v1+html": "<div id=\"728b0b74-c11b-41ab-b1cd-7af0e072b7c7\" style=\"height: 525px; width: 100%;\" class=\"plotly-graph-div\"></div><script type=\"text/javascript\">require([\"plotly\"], function(Plotly) { window.PLOTLYENV=window.PLOTLYENV || {};window.PLOTLYENV.BASE_URL=\"https://plot.ly\";Plotly.newPlot(\"728b0b74-c11b-41ab-b1cd-7af0e072b7c7\", [{\"orientation\": \"h\", \"x\": [30449, 208725, 664479], \"y\": [\"tablet\", \"mobile\", \"desktop\"], \"type\": \"bar\", \"uid\": \"c3ac0aea-c941-11e8-9295-0242ac130002\", \"xaxis\": \"x\", \"yaxis\": \"y\"}, {\"orientation\": \"h\", \"x\": [9421340000.0, 49785810000.0, 1480864090000.0], \"y\": [\"tablet\", \"mobile\", \"desktop\"], \"type\": \"bar\", \"uid\": \"c3ac9730-c941-11e8-9295-0242ac130002\", \"xaxis\": \"x2\", \"yaxis\": \"y2\"}, {\"name\": \"Median\", \"orientation\": \"h\", \"x\": [29630000.0, 24990000.0, 52300000.0], \"y\": [\"tablet\", \"mobile\", \"desktop\"], \"type\": \"bar\", \"uid\": \"c3ad081e-c941-11e8-9295-0242ac130002\", \"xaxis\": \"x3\", \"yaxis\": \"y3\"}, {\"name\": \"Mean\", \"orientation\": \"h\", \"x\": [56079404.76190476, 58434049.295774646, 141101866.60314435], \"y\": [\"tablet\", \"mobile\", \"desktop\"], \"type\": \"bar\", \"uid\": \"c3ad7d76-c941-11e8-9295-0242ac130002\", \"xaxis\": \"x3\", \"yaxis\": \"y3\"}], {\"annotations\": [{\"font\": {\"size\": 16}, \"showarrow\": false, \"text\": \"Number of record\", \"x\": 0.14444444444444446, \"xanchor\": \"center\", \"xref\": \"paper\", \"y\": 1.0, \"yanchor\": \"bottom\", \"yref\": \"paper\"}, {\"font\": {\"size\": 16}, \"showarrow\": false, \"text\": \"Total revenue\", \"x\": 0.5, \"xanchor\": \"center\", \"xref\": \"paper\", \"y\": 1.0, \"yanchor\": \"bottom\", \"yref\": \"paper\"}, {\"font\": {\"size\": 16}, \"showarrow\": false, \"text\": \"Mean & Median\", \"x\": 0.8555555555555556, \"xanchor\": \"center\", \"xref\": \"paper\", \"y\": 1.0, \"yanchor\": \"bottom\", \"yref\": \"paper\"}], \"xaxis\": {\"anchor\": \"y\", \"domain\": [0.0, 0.2888888888888889]}, \"yaxis\": {\"anchor\": \"x\", \"domain\": [0.0, 1.0]}, \"xaxis2\": {\"anchor\": \"y2\", \"domain\": [0.35555555555555557, 0.6444444444444445]}, \"yaxis2\": {\"anchor\": \"x2\", \"domain\": [0.0, 1.0]}, \"xaxis3\": {\"anchor\": \"y3\", \"domain\": [0.7111111111111111, 1.0]}, \"yaxis3\": {\"anchor\": \"x3\", \"domain\": [0.0, 1.0]}, \"title\": \"Device Category\", \"showlegend\": false, \"updatemenus\": [{\"buttons\": [{\"args\": [{\"x\": [[30449, 208725, 664479], [9421340000.0, 49785810000.0, 1480864090000.0], [56079404.76190476, 58434049.295774646, 141101866.60314435], [29630000.0, 24990000.0, 52300000.0]], \"y\": [[\"tablet\", \"mobile\", \"desktop\"], [\"tablet\", \"mobile\", \"desktop\"], [\"tablet\", \"mobile\", \"desktop\"], [\"tablet\", \"mobile\", \"desktop\"]]}, {\"title\": \"device.deviceCategory\"}], \"label\": \"device.deviceCategory\", \"method\": \"update\"}, {\"args\": [{\"x\": [[218, 280, 1216, 4695, 26337, 35034, 107665, 123892, 253938, 350072], [0.0, 0.0, 26400000.0, 0.0, 183937750000.0, 43910400000.0, 22166900000.0, 36341280000.0, 856375790000.0, 397312720000.0], [null, null, 26400000.0, null, 185048038.22937626, 56151406.64961637, 41356156.71641791, 77818586.72376874, 133267318.70525987, 172071338.24166307], [null, null, 26400000.0, null, 71430000.0, 39990000.0, 24990000.0, 25990000.0, 55990000.0, 43940000.0]], \"y\": [[\"BlackBerry\", \"Samsung\", \"Windows Phone\", \"(not set)\", \"Chrome OS\", \"Linux\", \"iOS\", \"Android\", \"Macintosh\", \"Windows\"], [\"BlackBerry\", \"Samsung\", \"Windows Phone\", \"(not set)\", \"Chrome OS\", \"Linux\", \"iOS\", \"Android\", \"Macintosh\", \"Windows\"], [\"BlackBerry\", \"Samsung\", \"Windows Phone\", \"(not set)\", \"Chrome OS\", \"Linux\", \"iOS\", \"Android\", \"Macintosh\", \"Windows\"], [\"BlackBerry\", \"Samsung\", \"Windows Phone\", \"(not set)\", \"Chrome OS\", \"Linux\", \"iOS\", \"Android\", \"Macintosh\", \"Windows\"]]}, {\"title\": \"device.operatingSystem\"}], \"label\": \"device.operatingSystem\", \"method\": \"update\"}, {\"args\": [{\"x\": [[2427, 5643, 6139, 6850, 7865, 10205, 19375, 37069, 182245, 620364], [0.0, 215350000.0, 0.0, 153770000.0, 114850000.0, 6482970000.0, 8255550000.0, 89316320000.0, 52397480000.0, 1383104960000.0], [null, 43070000.0, null, 12814166.666666666, 19141666.666666668, 111775344.8275862, 75738990.82568808, 467624712.04188484, 67176256.41025642, 133594606.39428185], [null, 37920000.0, null, 12475000.0, 13980000.0, 30470000.0, 33980000.0, 39890000.0, 27965000.0, 52060000.0]], \"y\": [[\"UC Browser\", \"Opera\", \"Opera Mini\", \"Safari (in-app)\", \"Android Webview\", \"Edge\", \"Internet Explorer\", \"Firefox\", \"Safari\", \"Chrome\"], [\"UC Browser\", \"Opera\", \"Opera Mini\", \"Safari (in-app)\", \"Android Webview\", \"Edge\", \"Internet Explorer\", \"Firefox\", \"Safari\", \"Chrome\"], [\"UC Browser\", \"Opera\", \"Opera Mini\", \"Safari (in-app)\", \"Android Webview\", \"Edge\", \"Internet Explorer\", \"Firefox\", \"Safari\", \"Chrome\"], [\"UC Browser\", \"Opera\", \"Opera Mini\", \"Safari (in-app)\", \"Android Webview\", \"Edge\", \"Internet Explorer\", \"Firefox\", \"Safari\", \"Chrome\"]]}, {\"title\": \"device.browser\"}], \"label\": \"device.browser\", \"method\": \"update\"}, {\"args\": [{\"x\": [[239123, 664530], [59239610000.0, 1480831630000.0], [58078049.01960784, 141098773.70176274], [25380000.0, 52300000.0]], \"y\": [[\"True\", \"False\"], [\"True\", \"False\"], [\"True\", \"False\"], [\"True\", \"False\"]]}, {\"title\": \"device.isMobile\"}], \"label\": \"device.isMobile\", \"method\": \"update\"}, {\"args\": [{\"x\": [[1468, 14745, 15054, 198311, 223698, 450377], [769780000.0, 8687760000.0, 1793230000.0, 6747030000.0, 17401840000.0, 1504671600000.0], [128296666.66666667, 1085970000.0, 128087857.14285715, 85405443.03797469, 139214720.0, 133357404.94549322], [130470000.0, 1548700000.0, 67155000.0, 38790000.0, 55970000.0, 49410000.0]], \"y\": [[\"(not set)\", \"Africa\", \"Oceania\", \"Europe\", \"Asia\", \"Americas\"], [\"(not set)\", \"Africa\", \"Oceania\", \"Europe\", \"Asia\", \"Americas\"], [\"(not set)\", \"Africa\", \"Oceania\", \"Europe\", \"Asia\", \"Americas\"], [\"(not set)\", \"Africa\", \"Oceania\", \"Europe\", \"Asia\", \"Americas\"]]}, {\"title\": \"geoNetwork.continent\"}], \"label\": \"geoNetwork.continent\", \"method\": \"update\"}, {\"args\": [{\"x\": [[35780, 38443, 41731, 45249, 46919, 58168, 59114, 59321, 77800, 390657], [964010000.0, 1781040000.0, 15937310000.0, 946800000.0, 11075220000.0, 1993880000.0, 2842340000.0, 754610000.0, 3755990000.0, 1485265190000.0], [120501250.0, 84811428.57142857, 162625612.24489796, 67628571.42857143, 187715593.22033897, 73847407.4074074, 94744666.66666667, 68600909.0909091, 117374687.5, 133291321.00870502], [100380000.0, 59990000.0, 101580000.0, 33035000.0, 47570000.0, 33590000.0, 52995000.0, 31980000.0, 107940000.0, 48780000.0]], \"y\": [[\"Southern Europe\", \"Western Asia\", \"South America\", \"Eastern Europe\", \"Eastern Asia\", \"Northern Europe\", \"Western Europe\", \"Southern Asia\", \"Southeast Asia\", \"Northern America\"], [\"Southern Europe\", \"Western Asia\", \"South America\", \"Eastern Europe\", \"Eastern Asia\", \"Northern Europe\", \"Western Europe\", \"Southern Asia\", \"Southeast Asia\", \"Northern America\"], [\"Southern Europe\", \"Western Asia\", \"South America\", \"Eastern Europe\", \"Eastern Asia\", \"Northern Europe\", \"Western Europe\", \"Southern Asia\", \"Southeast Asia\", \"Northern America\"], [\"Southern Europe\", \"Western Asia\", \"South America\", \"Eastern Europe\", \"Eastern Asia\", \"Northern Europe\", \"Western Europe\", \"Southern Asia\", \"Southeast Asia\", \"Northern America\"]]}, {\"title\": \"geoNetwork.subContinent\"}], \"label\": \"geoNetwork.subContinent\", \"method\": \"update\"}, {\"args\": [{\"x\": [[19731, 19783, 19980, 20123, 20522, 24598, 25869, 37393, 51140, 364744], [6728990000.0, 641830000.0, 549340000.0, 462710000.0, 102410000.0, 0.0, 32824540000.0, 1689450000.0, 696660000.0, 1452440650000.0], [395822941.1764706, 64183000.0, 68667500.0, 92542000.0, 51205000.0, null, 172760736.84210527, 105590625.0, 69666000.0, 132606651.14580481], [45940000.0, 38180000.0, 46985000.0, 110960000.0, 51205000.0, null, 48135000.0, 43940000.0, 30295000.0, 48780000.0]], \"y\": [[\"Japan\", \"Brazil\", \"Germany\", \"Thailand\", \"Turkey\", \"Vietnam\", \"Canada\", \"United Kingdom\", \"India\", \"United States\"], [\"Japan\", \"Brazil\", \"Germany\", \"Thailand\", \"Turkey\", \"Vietnam\", \"Canada\", \"United Kingdom\", \"India\", \"United States\"], [\"Japan\", \"Brazil\", \"Germany\", \"Thailand\", \"Turkey\", \"Vietnam\", \"Canada\", \"United Kingdom\", \"India\", \"United States\"], [\"Japan\", \"Brazil\", \"Germany\", \"Thailand\", \"Turkey\", \"Vietnam\", \"Canada\", \"United Kingdom\", \"India\", \"United States\"]]}, {\"title\": \"geoNetwork.country\"}], \"label\": \"geoNetwork.country\", \"method\": \"update\"}, {\"args\": [{\"x\": [[7250, 7585, 7642, 7709, 8749, 13198, 26433, 27827, 107495, 508229], [0.0, 72912880000.0, 35179950000.0, 164920000.0, 28658860000.0, 1460000000.0, 220160460000.0, 5308130000.0, 375498240000.0, 646161110000.0], [null, 172370874.70449173, 104702232.14285715, 82460000.0, 94583696.36963697, 132727272.72727273, 146091877.9031188, 115394130.43478261, 113615201.21028744, 141114022.7123826], [null, 87600000.0, 48170000.0, 82460000.0, 46380000.0, 33980000.0, 58380000.0, 86635000.0, 50000000.0, 42600000.0]], \"y\": [[\"Ho Chi Minh\", \"Illinois\", \"Washington\", \"Bangkok\", \"Texas\", \"England\", \"New York\", \"(not set)\", \"California\", \"not available in demo dataset\"], [\"Ho Chi Minh\", \"Illinois\", \"Washington\", \"Bangkok\", \"Texas\", \"England\", \"New York\", \"(not set)\", \"California\", \"not available in demo dataset\"], [\"Ho Chi Minh\", \"Illinois\", \"Washington\", \"Bangkok\", \"Texas\", \"England\", \"New York\", \"(not set)\", \"California\", \"not available in demo dataset\"], [\"Ho Chi Minh\", \"Illinois\", \"Washington\", \"Bangkok\", \"Texas\", \"England\", \"New York\", \"(not set)\", \"California\", \"not available in demo dataset\"]]}, {\"title\": \"geoNetwork.region\"}], \"label\": \"geoNetwork.region\", \"method\": \"update\"}, {\"args\": [{\"x\": [[3380, 3790, 7585, 7642, 9995, 12571, 26917, 95913, 201766, 508229], [10610570000.0, 20804980000.0, 72912880000.0, 35179950000.0, 51332270000.0, 1460000000.0, 221318080000.0, 320036450000.0, 42386700000.0, 646161110000.0], [108271122.44897959, 99071333.33333333, 172370874.70449173, 104702232.14285715, 149656763.8483965, 132727272.72727273, 145795836.62714097, 109639071.59986296, 157571375.464684, 141114022.7123826], [59990000.0, 55300000.0, 87600000.0, 48170000.0, 55990000.0, 33980000.0, 59290000.0, 49580000.0, 78270000.0, 42600000.0]], \"y\": [[\"Washington DC (Hagerstown MD)\", \"Austin TX\", \"Chicago IL\", \"Seattle-Tacoma WA\", \"Los Angeles CA\", \"London\", \"New York NY\", \"San Francisco-Oakland-San Jose CA\", \"(not set)\", \"not available in demo dataset\"], [\"Washington DC (Hagerstown MD)\", \"Austin TX\", \"Chicago IL\", \"Seattle-Tacoma WA\", \"Los Angeles CA\", \"London\", \"New York NY\", \"San Francisco-Oakland-San Jose CA\", \"(not set)\", \"not available in demo dataset\"], [\"Washington DC (Hagerstown MD)\", \"Austin TX\", \"Chicago IL\", \"Seattle-Tacoma WA\", \"Los Angeles CA\", \"London\", \"New York NY\", \"San Francisco-Oakland-San Jose CA\", \"(not set)\", \"not available in demo dataset\"], [\"Washington DC (Hagerstown MD)\", \"Austin TX\", \"Chicago IL\", \"Seattle-Tacoma WA\", \"Los Angeles CA\", \"London\", \"New York NY\", \"San Francisco-Oakland-San Jose CA\", \"(not set)\", \"not available in demo dataset\"]]}, {\"title\": \"geoNetwork.metro\"}], \"label\": \"geoNetwork.metro\", \"method\": \"update\"}, {\"args\": [{\"x\": [[7709, 8670, 10295, 12607, 13086, 20329, 26371, 34262, 40884, 508229], [164920000.0, 41896330000.0, 18729180000.0, 1460000000.0, 39393580000.0, 100873960000.0, 220143510000.0, 4355090000.0, 126103680000.0, 646161110000.0], [82460000.0, 144970000.0, 92718712.87128712, 132727272.72727273, 86579296.7032967, 138373058.98491085, 146177629.48207173, 88879387.75510204, 104304119.10669975, 141114022.7123826], [82460000.0, 55900000.0, 55895000.0, 33980000.0, 44790000.0, 57560000.0, 58490000.0, 59770000.0, 44790000.0, 42600000.0]], \"y\": [[\"Bangkok\", \"Los Angeles\", \"San Jose\", \"London\", \"Sunnyvale\", \"San Francisco\", \"New York\", \"(not set)\", \"Mountain View\", \"not available in demo dataset\"], [\"Bangkok\", \"Los Angeles\", \"San Jose\", \"London\", \"Sunnyvale\", \"San Francisco\", \"New York\", \"(not set)\", \"Mountain View\", \"not available in demo dataset\"], [\"Bangkok\", \"Los Angeles\", \"San Jose\", \"London\", \"Sunnyvale\", \"San Francisco\", \"New York\", \"(not set)\", \"Mountain View\", \"not available in demo dataset\"], [\"Bangkok\", \"Los Angeles\", \"San Jose\", \"London\", \"Sunnyvale\", \"San Francisco\", \"New York\", \"(not set)\", \"Mountain View\", \"not available in demo dataset\"]]}, {\"title\": \"geoNetwork.city\"}], \"label\": \"geoNetwork.city\", \"method\": \"update\"}, {\"args\": [{\"x\": [[6046, 6414, 7919, 9985, 13228, 13637, 14827, 28743, 146034, 244881], [140590000.0, 62270000.0, 669810000.0, 146146410000.0, 17460000.0, 52918970000.0, 30132180000.0, 123169570000.0, 34901540000.0, 848264070000.0], [140590000.0, 62270000.0, 60891818.18181818, 497096632.6530612, 17460000.0, 112833624.73347548, 82780714.28571428, 131873201.28479658, 87253850.0, 127654487.58465011], [140590000.0, 62270000.0, 40970000.0, 50625000.0, 17460000.0, 50000000.0, 39950000.0, 46175000.0, 39670000.0, 51990000.0]], \"y\": [[\"3bb.co.th\", \"virginm.net\", \"hinet.net\", \"comcastbusiness.net\", \"ttnet.com.tr\", \"verizon.net\", \"rr.com\", \"comcast.net\", \"unknown.unknown\", \"(not set)\"], [\"3bb.co.th\", \"virginm.net\", \"hinet.net\", \"comcastbusiness.net\", \"ttnet.com.tr\", \"verizon.net\", \"rr.com\", \"comcast.net\", \"unknown.unknown\", \"(not set)\"], [\"3bb.co.th\", \"virginm.net\", \"hinet.net\", \"comcastbusiness.net\", \"ttnet.com.tr\", \"verizon.net\", \"rr.com\", \"comcast.net\", \"unknown.unknown\", \"(not set)\"], [\"3bb.co.th\", \"virginm.net\", \"hinet.net\", \"comcastbusiness.net\", \"ttnet.com.tr\", \"verizon.net\", \"rr.com\", \"comcast.net\", \"unknown.unknown\", \"(not set)\"]]}, {\"title\": \"geoNetwork.networkDomain\"}], \"label\": \"geoNetwork.networkDomain\", \"method\": \"update\"}, {\"args\": [{\"x\": [[120, 6262, 16403, 25326, 143026, 330955, 381561], [9990000.0, 78337460000.0, 597380000.0, 43558900000.0, 434840550000.0, 656346450000.0, 326380510000.0], [9990000.0, 551672253.5211267, 66375555.55555555, 93074572.64957266, 212948359.45151812, 121208947.36842105, 94933248.98196626], [9990000.0, 78925000.0, 20990000.0, 39990000.0, 58770000.0, 55210000.0, 38955000.0]], \"y\": [[\"(not set)\", \"cpm\", \"affiliate\", \"cpc\", \"(none)\", \"referral\", \"organic\"], [\"(not set)\", \"cpm\", \"affiliate\", \"cpc\", \"(none)\", \"referral\", \"organic\"], [\"(not set)\", \"cpm\", \"affiliate\", \"cpc\", \"(none)\", \"referral\", \"organic\"], [\"(not set)\", \"cpm\", \"affiliate\", \"cpc\", \"(none)\", \"referral\", \"organic\"]]}, {\"title\": \"trafficSource.medium\"}], \"label\": \"trafficSource.medium\", \"method\": \"update\"}, {\"args\": [{\"x\": [[1, 4, 46, 50, 96, 392, 7070, 14244, 16403, 865347], [0.0, 0.0, 77820000.0, 22950000.0, 0.0, 42000000.0, 15417820000.0, 27132550000.0, 597380000.0, 1496780720000.0], [null, null, 77820000.0, 22950000.0, null, 42000000.0, 118598615.38461539, 84001702.78637771, 66375555.55555555, 135455268.77828056], [null, null, 77820000.0, 22950000.0, null, 42000000.0, 39485000.0, 39870000.0, 20990000.0, 49960000.0]], \"y\": [[\"Data Share\", \"All Products\", \"AW - Apparel\", \"Retail (DO NOT EDIT owners nophakun and tianyu)\", \"AW - Electronics\", \"test-liyuhz\", \"AW - Accessories\", \"AW - Dynamic Search Ads Whole Site\", \"Data Share Promo\", \"(not set)\"], [\"Data Share\", \"All Products\", \"AW - Apparel\", \"Retail (DO NOT EDIT owners nophakun and tianyu)\", \"AW - Electronics\", \"test-liyuhz\", \"AW - Accessories\", \"AW - Dynamic Search Ads Whole Site\", \"Data Share Promo\", \"(not set)\"], [\"Data Share\", \"All Products\", \"AW - Apparel\", \"Retail (DO NOT EDIT owners nophakun and tianyu)\", \"AW - Electronics\", \"test-liyuhz\", \"AW - Accessories\", \"AW - Dynamic Search Ads Whole Site\", \"Data Share Promo\", \"(not set)\"], [\"Data Share\", \"All Products\", \"AW - Apparel\", \"Retail (DO NOT EDIT owners nophakun and tianyu)\", \"AW - Electronics\", \"test-liyuhz\", \"AW - Accessories\", \"AW - Dynamic Search Ads Whole Site\", \"Data Share Promo\", \"(not set)\"]]}, {\"title\": \"trafficSource.campaign\"}], \"label\": \"trafficSource.campaign\", \"method\": \"update\"}, {\"args\": [{\"x\": [[274005, 629648], [1142598990000.0, 397472250000.0], [163135207.02455738, 88111782.3099091], [56295000.0, 40960000.0]], \"y\": [[\"True\", \"-1\"], [\"True\", \"-1\"], [\"True\", \"-1\"], [\"True\", \"-1\"]]}, {\"title\": \"trafficSource.isTrueDirect\"}], \"label\": \"trafficSource.isTrueDirect\", \"method\": \"update\"}, {\"args\": [{\"x\": [[155, 251, 392, 489, 610, 822, 967, 1245, 5122, 892707], [0.0, 0.0, 42000000.0, 0.0, 0.0, 262380000.0, 302310000.0, 163420000.0, 14958310000.0, 1523862540000.0], [null, null, 42000000.0, null, null, 52476000.0, 100770000.0, 40855000.0, 127848803.41880342, 134001278.57896589], [null, null, 42000000.0, null, null, 41980000.0, 106360000.0, 25230000.0, 41810000.0, 49580000.0]], \"y\": [[\"{KeyWord:Google Merchandise}\", \"{KeyWord:Google Brand Items}\", \"Display Ad created 3/11/15\", \"Ad from 11/3/16\", \"Ad from 12/13/16\", \"Full auto ad IMAGE ONLY\", \"Display Ad created 3/11/14\", \"Google Online Store\", \"Google Merchandise Collection\", \"-1\"], [\"{KeyWord:Google Merchandise}\", \"{KeyWord:Google Brand Items}\", \"Display Ad created 3/11/15\", \"Ad from 11/3/16\", \"Ad from 12/13/16\", \"Full auto ad IMAGE ONLY\", \"Display Ad created 3/11/14\", \"Google Online Store\", \"Google Merchandise Collection\", \"-1\"], [\"{KeyWord:Google Merchandise}\", \"{KeyWord:Google Brand Items}\", \"Display Ad created 3/11/15\", \"Ad from 11/3/16\", \"Ad from 12/13/16\", \"Full auto ad IMAGE ONLY\", \"Display Ad created 3/11/14\", \"Google Online Store\", \"Google Merchandise Collection\", \"-1\"], [\"{KeyWord:Google Merchandise}\", \"{KeyWord:Google Brand Items}\", \"Display Ad created 3/11/15\", \"Ad from 11/3/16\", \"Ad from 12/13/16\", \"Full auto ad IMAGE ONLY\", \"Display Ad created 3/11/14\", \"Google Online Store\", \"Google Merchandise Collection\", \"-1\"]]}, {\"title\": \"trafficSource.adContent\"}], \"label\": \"trafficSource.adContent\", \"method\": \"update\"}, {\"args\": [{\"x\": [[7, 21453, 882193], [0.0, 42628190000.0, 1497443050000.0], [null, 93894691.62995595, 135380440.28568846], [null, 39925000.0, 49960000.0]], \"y\": [[\"Search partners\", \"Google Search\", \"-1\"], [\"Search partners\", \"Google Search\", \"-1\"], [\"Search partners\", \"Google Search\", \"-1\"], [\"Search partners\", \"Google Search\", \"-1\"]]}, {\"title\": \"trafficSource.adwordsClickInfo.adNetworkType\"}], \"label\": \"trafficSource.adwordsClickInfo.adNetworkType\", \"method\": \"update\"}, {\"args\": [{\"x\": [[450630, 453023], [0.0, 1540071240000.0], [null, 133744788.53669128], [null, 49450000.0]], \"y\": [[\"1.0\", \"-1.0\"], [\"1.0\", \"-1.0\"], [\"1.0\", \"-1.0\"], [\"1.0\", \"-1.0\"]]}, {\"title\": \"totals.bounces\"}], \"label\": \"totals.bounces\", \"method\": \"update\"}, {\"args\": [{\"x\": [[], [], [], []], \"y\": [[], [], [], []]}, {\"title\": \"totals.newVisits\"}], \"label\": \"totals.newVisits\", \"method\": \"update\"}, {\"args\": [{\"x\": [[1104, 1289, 1291, 1406, 1504, 1718, 1925, 2126, 2190, 2477, 2798, 3064, 3291, 3755, 4130, 4716, 5384, 6194, 6881, 7879, 9264, 10640, 12959, 15484, 19518, 23918, 30939, 42444, 70402, 137952, 446754], [25197190000.0, 28029160000.0, 19055060000.0, 23709130000.0, 25093750000.0, 31692760000.0, 23434830000.0, 28862060000.0, 26345770000.0, 20789130000.0, 25864510000.0, 30733630000.0, 34044970000.0, 23881050000.0, 39547520000.0, 34918280000.0, 33981990000.0, 25839010000.0, 22996820000.0, 19903980000.0, 21338920000.0, 13123000000.0, 10262070000.0, 5465470000.0, 1235570000.0, 335510000.0, 2282030000.0, 994300000.0, 211180000.0, 1214500000.0, 0.0], [121725555.55555555, 107391417.62452108, 85833603.6036036, 88798239.70037453, 95413498.09885931, 113594121.86379929, 87118327.13754646, 98842671.23287672, 84713086.81672026, 71686655.1724138, 82634217.25239617, 93415288.7537994, 98681072.46376811, 63682800.0, 113642298.85057472, 96459337.01657459, 95994322.03389831, 74250028.73563218, 73472268.37060703, 77147209.30232558, 110564352.33160622, 106691056.9105691, 109170957.44680852, 101212407.4074074, 65030000.0, 37278888.88888889, 190169166.66666666, 124287500.0, 70393333.33333333, 303625000.0, null], [51170000.0, 47820000.0, 44790000.0, 46370000.0, 48790000.0, 39990000.0, 43170000.0, 41300000.0, 42380000.0, 37235000.0, 36950000.0, 33980000.0, 35980000.0, 33590000.0, 33590000.0, 33590000.0, 41990000.0, 33590000.0, 31980000.0, 33590000.0, 37570000.0, 35040000.0, 34990000.0, 42390000.0, 47910000.0, 30000000.0, 38365000.0, 43705000.0, 83990000.0, 69265000.0, null]], \"y\": [[\"31\", \"30\", \"29\", \"28\", \"27\", \"26\", \"25\", \"24\", \"23\", \"22\", \"21\", \"20\", \"19\", \"18\", \"17\", \"16\", \"15\", \"14\", \"13\", \"12\", \"11\", \"10\", \"9\", \"8\", \"7\", \"6\", \"5\", \"4\", \"3\", \"2\", \"1\"], [\"31\", \"30\", \"29\", \"28\", \"27\", \"26\", \"25\", \"24\", \"23\", \"22\", \"21\", \"20\", \"19\", \"18\", \"17\", \"16\", \"15\", \"14\", \"13\", \"12\", \"11\", \"10\", \"9\", \"8\", \"7\", \"6\", \"5\", \"4\", \"3\", \"2\", \"1\"], [\"31\", \"30\", \"29\", \"28\", \"27\", \"26\", \"25\", \"24\", \"23\", \"22\", \"21\", \"20\", \"19\", \"18\", \"17\", \"16\", \"15\", \"14\", \"13\", \"12\", \"11\", \"10\", \"9\", \"8\", \"7\", \"6\", \"5\", \"4\", \"3\", \"2\", \"1\"], [\"31\", \"30\", \"29\", \"28\", \"27\", \"26\", \"25\", \"24\", \"23\", \"22\", \"21\", \"20\", \"19\", \"18\", \"17\", \"16\", \"15\", \"14\", \"13\", \"12\", \"11\", \"10\", \"9\", \"8\", \"7\", \"6\", \"5\", \"4\", \"3\", \"2\", \"1\"]]}, {\"title\": \"totals.hits\"}], \"label\": \"totals.hits\", \"method\": \"update\"}, {\"args\": [{\"x\": [[847, 873, 875, 1091, 1143, 1318, 1413, 1567, 1722, 1949, 2211, 2409, 2682, 3150, 3511, 4010, 4720, 5291, 6197, 7097, 8671, 10104, 12585, 15272, 19476, 24688, 33411, 45192, 73835, 143770, 452522], [30129730000.0, 38738990000.0, 22618990000.0, 28177380000.0, 32158260000.0, 44145580000.0, 28989720000.0, 39805420000.0, 41056320000.0, 50568120000.0, 39831050000.0, 35544600000.0, 28747320000.0, 37637410000.0, 40509510000.0, 41423170000.0, 40426750000.0, 49535870000.0, 42635380000.0, 26888590000.0, 37492290000.0, 24024950000.0, 14481070000.0, 8490440000.0, 1555710000.0, 335510000.0, 2717940000.0, 994300000.0, 211180000.0, 1214500000.0, 0.0], [125540541.66666667, 162768865.54621848, 93466900.82644628, 112260478.0876494, 119993507.46268657, 133370332.32628399, 97608484.84848484, 114713025.93659942, 122923113.7724551, 137787792.91553134, 97864987.71498771, 89532997.48110831, 78330572.20708446, 83453237.25055432, 91032606.74157304, 86659351.46443515, 85831740.97664544, 106072526.76659529, 94117836.64459161, 69840493.50649351, 100246764.70588236, 93482295.71984436, 106478455.88235295, 102294457.83132531, 62228400.0, 37278888.88888889, 209072307.69230768, 124287500.0, 70393333.33333333, 303625000.0, null], [56365000.0, 56445000.0, 44790000.0, 55170000.0, 49785000.0, 55310000.0, 46950000.0, 48220000.0, 47975000.0, 45940000.0, 44790000.0, 38980000.0, 40770000.0, 34990000.0, 40140000.0, 33985000.0, 33990000.0, 40770000.0, 33590000.0, 33590000.0, 33590000.0, 39990000.0, 34145000.0, 34990000.0, 47910000.0, 30000000.0, 39760000.0, 43705000.0, 83990000.0, 69265000.0, null]], \"y\": [[\"31.0\", \"30.0\", \"29.0\", \"28.0\", \"27.0\", \"26.0\", \"25.0\", \"24.0\", \"23.0\", \"22.0\", \"21.0\", \"20.0\", \"19.0\", \"18.0\", \"17.0\", \"16.0\", \"15.0\", \"14.0\", \"13.0\", \"12.0\", \"11.0\", \"10.0\", \"9.0\", \"8.0\", \"7.0\", \"6.0\", \"5.0\", \"4.0\", \"3.0\", \"2.0\", \"1.0\"], [\"31.0\", \"30.0\", \"29.0\", \"28.0\", \"27.0\", \"26.0\", \"25.0\", \"24.0\", \"23.0\", \"22.0\", \"21.0\", \"20.0\", \"19.0\", \"18.0\", \"17.0\", \"16.0\", \"15.0\", \"14.0\", \"13.0\", \"12.0\", \"11.0\", \"10.0\", \"9.0\", \"8.0\", \"7.0\", \"6.0\", \"5.0\", \"4.0\", \"3.0\", \"2.0\", \"1.0\"], [\"31.0\", \"30.0\", \"29.0\", \"28.0\", \"27.0\", \"26.0\", \"25.0\", \"24.0\", \"23.0\", \"22.0\", \"21.0\", \"20.0\", \"19.0\", \"18.0\", \"17.0\", \"16.0\", \"15.0\", \"14.0\", \"13.0\", \"12.0\", \"11.0\", \"10.0\", \"9.0\", \"8.0\", \"7.0\", \"6.0\", \"5.0\", \"4.0\", \"3.0\", \"2.0\", \"1.0\"], [\"31.0\", \"30.0\", \"29.0\", \"28.0\", \"27.0\", \"26.0\", \"25.0\", \"24.0\", \"23.0\", \"22.0\", \"21.0\", \"20.0\", \"19.0\", \"18.0\", \"17.0\", \"16.0\", \"15.0\", \"14.0\", \"13.0\", \"12.0\", \"11.0\", \"10.0\", \"9.0\", \"8.0\", \"7.0\", \"6.0\", \"5.0\", \"4.0\", \"3.0\", \"2.0\", \"1.0\"]]}, {\"title\": \"totals.pageviews\"}], \"label\": \"totals.pageviews\", \"method\": \"update\"}, {\"args\": [{\"x\": [[62138, 63425, 64445, 65333, 67156, 70053, 71157, 71793, 77351, 80074, 97114, 113614], [108481800000.0, 122303700000.0, 97173750000.0, 121299990000.0, 158243320000.0, 131620960000.0, 125865920000.0, 123368930000.0, 164944760000.0, 157559910000.0, 113117870000.0, 116090330000.0], [152148387.0967742, 129148574.44561774, 140831521.73913044, 108497307.6923077, 171816851.24864277, 148724248.5875706, 147039626.1682243, 120477470.703125, 140617868.71270248, 111823924.76933996, 129425480.54919909, 128276607.73480663], [44790000.0, 45810000.0, 44880000.0, 43550000.0, 50970000.0, 56970000.0, 59585000.0, 43240000.0, 62150000.0, 44790000.0, 49320000.0, 46790000.0]], \"y\": [[\"2\", \"6\", \"1\", \"5\", \"4\", \"3\", \"9\", \"7\", \"8\", \"12\", \"10\", \"11\"], [\"2\", \"6\", \"1\", \"5\", \"4\", \"3\", \"9\", \"7\", \"8\", \"12\", \"10\", \"11\"], [\"2\", \"6\", \"1\", \"5\", \"4\", \"3\", \"9\", \"7\", \"8\", \"12\", \"10\", \"11\"], [\"2\", \"6\", \"1\", \"5\", \"4\", \"3\", \"9\", \"7\", \"8\", \"12\", \"10\", \"11\"]]}, {\"title\": \"visitStartTime.month\"}], \"label\": \"visitStartTime.month\", \"method\": \"update\"}, {\"args\": [{\"x\": [[15769, 16198, 16236, 16279, 16301, 16358, 16436, 16483, 16628, 16652, 16678, 16694, 16819, 16863, 16959, 17070, 17077, 17230, 17265, 19413, 19958, 20714, 20812, 21145, 23611, 25184, 25520, 25994, 26240, 27326, 27773], [24225260000.0, 26276220000.0, 52499710000.0, 41139560000.0, 29727300000.0, 40934520000.0, 57919010000.0, 18515230000.0, 41324980000.0, 25253530000.0, 30929340000.0, 44313970000.0, 20261400000.0, 23846660000.0, 23541290000.0, 25904930000.0, 35274110000.0, 34160710000.0, 34409730000.0, 25491730000.0, 53974860000.0, 22478930000.0, 51525490000.0, 38687530000.0, 32923950000.0, 25296730000.0, 20837840000.0, 21525980000.0, 23990750000.0, 28001170000.0, 39443790000.0], [121126300.0, 105104880.0, 175584314.38127092, 221180430.10752687, 146439901.47783253, 176441896.55172414, 266907880.1843318, 118687371.79487179, 155943320.754717, 90514444.44444445, 137463733.33333334, 240836793.47826087, 98836097.56097561, 123557823.8341969, 95696300.81300813, 124542932.6923077, 129209194.13919415, 141159958.67768595, 114699100.0, 126196683.16831683, 112682379.95824635, 102176954.54545455, 124157807.22891566, 160529170.12448132, 167126649.7461929, 128409796.95431472, 106860717.94871795, 131255975.6097561, 123663659.79381444, 132080990.56603773, 124822120.25316456], [61675000.0, 42635000.0, 76550000.0, 63155000.0, 55990000.0, 41990000.0, 52070000.0, 44790000.0, 44290000.0, 42170000.0, 50970000.0, 72850000.0, 50970000.0, 41990000.0, 37835000.0, 55765000.0, 63040000.0, 47965000.0, 63070000.0, 49990000.0, 44790000.0, 49190000.0, 51930000.0, 50740000.0, 50000000.0, 47700000.0, 51160000.0, 44790000.0, 47040000.0, 44790000.0, 45980000.0]], \"y\": [[\"36\", \"30\", \"34\", \"12\", \"39\", \"7\", \"14\", \"4\", \"29\", \"28\", \"13\", \"37\", \"38\", \"26\", \"20\", \"35\", \"32\", \"17\", \"33\", \"41\", \"50\", \"40\", \"49\", \"31\", \"42\", \"44\", \"45\", \"47\", \"43\", \"46\", \"48\"], [\"36\", \"30\", \"34\", \"12\", \"39\", \"7\", \"14\", \"4\", \"29\", \"28\", \"13\", \"37\", \"38\", \"26\", \"20\", \"35\", \"32\", \"17\", \"33\", \"41\", \"50\", \"40\", \"49\", \"31\", \"42\", \"44\", \"45\", \"47\", \"43\", \"46\", \"48\"], [\"36\", \"30\", \"34\", \"12\", \"39\", \"7\", \"14\", \"4\", \"29\", \"28\", \"13\", \"37\", \"38\", \"26\", \"20\", \"35\", \"32\", \"17\", \"33\", \"41\", \"50\", \"40\", \"49\", \"31\", \"42\", \"44\", \"45\", \"47\", \"43\", \"46\", \"48\"], [\"36\", \"30\", \"34\", \"12\", \"39\", \"7\", \"14\", \"4\", \"29\", \"28\", \"13\", \"37\", \"38\", \"26\", \"20\", \"35\", \"32\", \"17\", \"33\", \"41\", \"50\", \"40\", \"49\", \"31\", \"42\", \"44\", \"45\", \"47\", \"43\", \"46\", \"48\"]]}, {\"title\": \"visitStartTime.week\"}], \"label\": \"visitStartTime.week\", \"method\": \"update\"}, {\"args\": [{\"x\": [[18030, 26221, 26411, 28024, 28545, 28650, 28729, 28795, 28825, 28925, 29019, 29083, 29135, 29144, 29151, 29365, 29551, 29715, 29731, 29951, 30111, 30208, 30223, 30259, 30310, 30462, 30884, 31207, 31311, 31836, 31842], [38560160000.0, 43730310000.0, 38063040000.0, 34394900000.0, 58425500000.0, 43996020000.0, 74729670000.0, 55270450000.0, 40013670000.0, 65926160000.0, 44837160000.0, 45774830000.0, 52159180000.0, 49800030000.0, 52929910000.0, 35954780000.0, 40223010000.0, 48992710000.0, 44635940000.0, 53189290000.0, 53396390000.0, 23827410000.0, 47252500000.0, 55677660000.0, 45963620000.0, 56842230000.0, 67309490000.0, 39939370000.0, 53781790000.0, 75459800000.0, 59014260000.0], [163390508.47457626, 129763531.15727003, 113621014.92537314, 103287987.987988, 133087699.3166287, 132518132.53012048, 181824014.59854016, 140996045.91836736, 123118984.61538461, 165643618.09045225, 130340581.39534883, 130042130.68181819, 132383705.58375634, 123573275.43424317, 109813091.28630705, 110971543.20987654, 119356112.75964391, 132412729.72972973, 140364591.19496855, 138154000.0, 128048896.882494, 79957751.67785235, 127709459.45945945, 154231745.15235457, 118158406.16966581, 142461729.32330826, 153324578.58769932, 116102819.76744185, 123070457.6659039, 188649500.0, 142546521.73913044], [53335000.0, 44790000.0, 48890000.0, 54360000.0, 54360000.0, 44895000.0, 54440000.0, 51170000.0, 45670000.0, 47455000.0, 46930000.0, 55990000.0, 52615000.0, 50970000.0, 46980000.0, 43845000.0, 49960000.0, 55990000.0, 52720000.0, 48670000.0, 44770000.0, 42585000.0, 50180000.0, 49170000.0, 44790000.0, 50000000.0, 44790000.0, 53710000.0, 50000000.0, 49180000.0, 48000000.0]], \"y\": [[\"31\", \"30\", \"29\", \"11\", \"13\", \"23\", \"14\", \"7\", \"25\", \"18\", \"22\", \"8\", \"10\", \"9\", \"12\", \"3\", \"2\", \"6\", \"24\", \"28\", \"19\", \"4\", \"15\", \"27\", \"20\", \"21\", \"16\", \"26\", \"17\", \"5\", \"1\"], [\"31\", \"30\", \"29\", \"11\", \"13\", \"23\", \"14\", \"7\", \"25\", \"18\", \"22\", \"8\", \"10\", \"9\", \"12\", \"3\", \"2\", \"6\", \"24\", \"28\", \"19\", \"4\", \"15\", \"27\", \"20\", \"21\", \"16\", \"26\", \"17\", \"5\", \"1\"], [\"31\", \"30\", \"29\", \"11\", \"13\", \"23\", \"14\", \"7\", \"25\", \"18\", \"22\", \"8\", \"10\", \"9\", \"12\", \"3\", \"2\", \"6\", \"24\", \"28\", \"19\", \"4\", \"15\", \"27\", \"20\", \"21\", \"16\", \"26\", \"17\", \"5\", \"1\"], [\"31\", \"30\", \"29\", \"11\", \"13\", \"23\", \"14\", \"7\", \"25\", \"18\", \"22\", \"8\", \"10\", \"9\", \"12\", \"3\", \"2\", \"6\", \"24\", \"28\", \"19\", \"4\", \"15\", \"27\", \"20\", \"21\", \"16\", \"26\", \"17\", \"5\", \"1\"]]}, {\"title\": \"visitStartTime.day\"}], \"label\": \"visitStartTime.day\", \"method\": \"update\"}, {\"args\": [{\"x\": [[95117, 101410, 134368, 135485, 143015, 146410, 147848], [63252740000.0, 77774600000.0, 263522250000.0, 251445370000.0, 281713930000.0, 302328800000.0, 300033550000.0], [77897463.0541872, 87584009.009009, 136752594.70679814, 129410895.52238806, 143951931.52784875, 147477463.41463414, 154816073.27141383], [41590000.0, 41975000.0, 51960000.0, 49980000.0, 51080000.0, 54425000.0, 50000000.0]], \"y\": [[\"6\", \"5\", \"4\", \"0\", \"3\", \"1\", \"2\"], [\"6\", \"5\", \"4\", \"0\", \"3\", \"1\", \"2\"], [\"6\", \"5\", \"4\", \"0\", \"3\", \"1\", \"2\"], [\"6\", \"5\", \"4\", \"0\", \"3\", \"1\", \"2\"]]}, {\"title\": \"visitStartTime.weekday\"}], \"label\": \"visitStartTime.weekday\", \"method\": \"update\"}, {\"args\": [{\"x\": [[29584, 29696, 29869, 29942, 30184, 30889, 30904, 31121, 31235, 32063, 32512, 33482, 34487, 35690, 39584, 40176, 44057, 44490, 46753, 47911, 48092, 49039, 50797, 51096], [24812970000.0, 13246100000.0, 7409810000.0, 34342490000.0, 5866270000.0, 9655550000.0, 10048420000.0, 10748610000.0, 36967370000.0, 50839910000.0, 55662530000.0, 60611860000.0, 21489860000.0, 66599380000.0, 89913380000.0, 62449340000.0, 104293410000.0, 89476410000.0, 150983420000.0, 131365990000.0, 122407920000.0, 102336100000.0, 131075500000.0, 147468640000.0], [86456341.46341464, 98851492.53731343, 151220612.24489796, 88511572.16494845, 130361555.55555555, 125396753.24675325, 143548857.14285713, 92660431.03448276, 93825812.18274112, 105476991.70124482, 113597000.0, 102212242.83305228, 141380657.89473686, 106049968.15286624, 115125966.709347, 188668700.9063444, 125806284.68033776, 175443941.17647058, 170795723.98190045, 143412652.83842796, 161701347.42404228, 136812967.91443852, 141397518.8781014, 159081596.54800433], [43710000.0, 44385000.0, 43930000.0, 44790000.0, 29980000.0, 47570000.0, 43585000.0, 49480000.0, 39990000.0, 43040000.0, 46380000.0, 45960000.0, 51480000.0, 42505000.0, 44790000.0, 57580000.0, 50430000.0, 59980000.0, 50010000.0, 54690000.0, 57840000.0, 55990000.0, 49800000.0, 55550000.0]], \"y\": [[\"5\", \"6\", \"10\", \"4\", \"9\", \"8\", \"11\", \"7\", \"3\", \"2\", \"1\", \"0\", \"12\", \"23\", \"22\", \"13\", \"21\", \"14\", \"20\", \"19\", \"15\", \"16\", \"17\", \"18\"], [\"5\", \"6\", \"10\", \"4\", \"9\", \"8\", \"11\", \"7\", \"3\", \"2\", \"1\", \"0\", \"12\", \"23\", \"22\", \"13\", \"21\", \"14\", \"20\", \"19\", \"15\", \"16\", \"17\", \"18\"], [\"5\", \"6\", \"10\", \"4\", \"9\", \"8\", \"11\", \"7\", \"3\", \"2\", \"1\", \"0\", \"12\", \"23\", \"22\", \"13\", \"21\", \"14\", \"20\", \"19\", \"15\", \"16\", \"17\", \"18\"], [\"5\", \"6\", \"10\", \"4\", \"9\", \"8\", \"11\", \"7\", \"3\", \"2\", \"1\", \"0\", \"12\", \"23\", \"22\", \"13\", \"21\", \"14\", \"20\", \"19\", \"15\", \"16\", \"17\", \"18\"]]}, {\"title\": \"visitStartTime.hour\"}], \"label\": \"visitStartTime.hour\", \"method\": \"update\"}], \"direction\": \"down\", \"showactive\": true, \"x\": 0, \"xanchor\": \"left\", \"y\": 1.25, \"yanchor\": \"top\"}]}, {\"showLink\": true, \"linkText\": \"Export to plot.ly\"})});</script>"
          },
          "metadata": {}
        }
      ]
    },
    {
      "metadata": {
        "_uuid": "7dc27b31e5891bd51fcfbd4a891e60c49dfc087b"
      },
      "cell_type": "markdown",
      "source": "- **Device category**: desktop has a higher total revenue compared to mobile & tablet proporrtional to their traffic.\n- **Operating systerm**: Macintosh has a higher revenues even though it has lower traffic compared to Windoes. Chrome OS also has a high revenue relative to its traffic.\n- **Browser**: Chrome has the higest traffic and revenue. Safari has the 2nd highest traffic, but its revenue is comparatively lower based on its traffic.\n- **Is mobile**: Mobile traffic is just a litte bit over 1/3rd of non-mobile, but its revenue is only 1/10th of non-mobile.\n- **Continent & subContinent**: Americas has proportinally higher revenues compared to Asia & Europe. Revenues came mostly from Northern America even though other continents have high traffic.\n- **Country**: again most revenues came from US.\n- **Region**: revenues came mostly from \"not vailable in demo dataset\", followed by California. Interestingly, New York, Texas, Washington & Illinois all have high revenues relative to their traffic.\n- **City**: again revenues came mostly from \"not avilable in demo dataset\". New York, Mountain View, San Francisco, Los Angeles have high revenues relative to their traffic.\n- **Metro**: similar patterns to City.\n- **Network domain**: revneues come predominantly from \"(not set)\". The unknown.unknow has a relatively high traffic, but low revenues.\n- **Traffic source**: mall.googleplex.com generated most revenues, given that it has lower traffic compared to the other. Youtube did poorly given it had high traffic.\n- **Medium**: referral generated a higher revenue than the other. It's understandable. Affiliate generated a much less revenue based on its traffic.\n- **Keyword, campain**: \"(not provided)\", \"(not set)\" have the highest revenue. Nothing much can be said, many of them are \"code\".\n- **Ad content**: Google Merchandise Collection has the highest revenue. Google online store doesn't seem to fare well given its traffic.\n- **gclId**: Google Click Identifier, nothing much can be said.\n- **totals.hit** and **totals.pageviews**: Most only had 1 hit or 1 pageview. Revenues came in more after about ~10 hits or pageviews\n- **Time**:\n  - Nov had the highest traffic, but Dec had the highest purchases (Xmas?)\n  - Week 5, 6, 8, 9, 10, 11, 15, 16, 18, 19, 21 to 25: no traffic, no revenue, strange!\n  - The 4th day of a month had the lowest revenue, mmm\n  - Friday and Saturday had low revenue, people going out?\n  - From 5 AM to 12 PM, revenues were lower. However, time zones may be different."
    },
    {
      "metadata": {
        "_uuid": "1d28eb49a58654a4a1752afe897ff638cf370ffb"
      },
      "cell_type": "markdown",
      "source": "## Feature engineering\n"
    },
    {
      "metadata": {
        "trusted": true,
        "_uuid": "639a36fad3688b689d9f8ba851826df7e7b65a0f"
      },
      "cell_type": "code",
      "source": "# Convert target `totals.transactionRevenue` with log1p\ny = np.log1p(df_train['totals.transactionRevenue'].fillna(0))\nplt.hist(y[y > 0], bins=50);",
      "execution_count": 15,
      "outputs": [
        {
          "output_type": "display_data",
          "data": {
            "text/plain": "<Figure size 432x288 with 1 Axes>",
            "image/png": "[encoded data removed]"
          },
          "metadata": {
            "needs_background": "light"
          }
        }
      ]
    },
    {
      "metadata": {
        "trusted": true,
        "_uuid": "980fc124d4aeb4a6de3919a833cfcba37e06072c"
      },
      "cell_type": "code",
      "source": "# fillna\nprint('Number of records which are null in the train and test set')\npd.concat([df_train[list(columns)].isnull().sum(0), df_test[list(columns)].isnull().sum(0)], keys=['train', 'test'], axis=1).sort_index()\n\n# fillna with 0\nfor i in ['totals.bounces', 'totals.newVisits', 'totals.pageviews', 'trafficSource.adwordsClickInfo.page']:\n    df_train[i].fillna(0, inplace=True)\n    df_test[i].fillna(0, inplace=True)\n\n# fillna with the word \"NONE\"\nfor i in ['trafficSource.adContent', 'trafficSource.adwordsClickInfo.adNetworkType', 'trafficSource.adwordsClickInfo.gclId', 'trafficSource.adwordsClickInfo.slot', 'trafficSource.keyword', 'trafficSource.referralPath']:\n    df_train[i].fillna('NONE', inplace=True)\n    df_test[i].fillna('NONE', inplace=True)\n\n# change True, False to 1, 0\ndf_train['trafficSource.adwordsClickInfo.isVideoAd'].replace({ np.nan: 1, False: 0 }, inplace=True); df_test['trafficSource.adwordsClickInfo.isVideoAd'].replace({ np.nan: 1, False: 0 }, inplace=True)\ndf_train['trafficSource.isTrueDirect'].replace({ np.nan: 0, True: 1 }, inplace=True); df_test['trafficSource.isTrueDirect'].replace({ np.nan: 0, True: 1 }, inplace=True)\ndf_train['device.isMobile'].replace({ True: 1, False: 0 }, inplace=True); df_test['device.isMobile'].replace({ True: 1, False: 0 }, inplace=True)\n\nprint('Number of records which are null in the train and test set after fillna')\npd.concat([df_train[list(columns)].isnull().sum(0), df_test[list(columns)].isnull().sum(0)], keys=['train', 'test'], axis=1).sum()",
      "execution_count": 16,
      "outputs": [
        {
          "output_type": "stream",
          "text": "Number of records which are null in the train and test set\nNumber of records which are null in the train and test set after fillna\n",
          "name": "stdout"
        },
        {
          "output_type": "execute_result",
          "execution_count": 16,
          "data": {
            "text/plain": "train    0\ntest     0\ndtype: int64"
          },
          "metadata": {}
        }
      ]
    },
    {
      "metadata": {
        "trusted": true,
        "_uuid": "97ca27fb5009d52d7d28fadf55a9bfd41f21437d"
      },
      "cell_type": "code",
      "source": "%%time\nfrom scipy import sparse\nfrom sklearn.preprocessing import OneHotEncoder\n\ndef encode_oh(var, threshold = 0.0005, ohe = OneHotEncoder(handle_unknown='ignore')):\n    levels = df_train[var].value_counts()\n    levels = levels[levels / len(df_train) > 0.0005].index.values.reshape(-1, 1) # need to use the threshold, otherwise the dimensions explode and eat up all the memory\n    ohe.fit(levels)\n    train = ohe.transform(df_train[var].values.reshape(-1, 1))\n    test = ohe.transform(df_test[var].values.reshape(-1, 1))\n    feature_names = [var + '__' + i[3:] for i in ohe.get_feature_names()]\n    return train, test, feature_names\n\n# LabelBinarizer\n# def encode_lb(var, threshold = 0.0001, array = None):\n#     lb = LabelEncoder()\n#     # var, the var to be encoded    \n#     # thresold, default at 0.0001 or 0.01%. Keep columns where at least 0.01% of rows are not 0\n#     # array, prodive an array of categories to be fitted\n#     lb.fit(array or df_train[var])\n#     train = lb.transform(df_train[var])\n#     test = lb.transform(df_test[var])\n#     columns = [var + '__' + str(i) for i in lb.classes_]\n#     columns_to_keep = train.sum(0) / train.sum() > thresold\n#     train = train[:, columns_to_keep]\n#     test = test[:, columns_to_keep]\n#     columns = np.array(columns)[columns_to_keep]    \n#     return train, test, columns\n    \n# predictors\n\n# categorical variables + numeric variables\ntmp = [encode_oh(i) for i in [\n    'channelGrouping',\n    'device.browser', 'device.deviceCategory', 'device.operatingSystem', 'geoNetwork.city', 'geoNetwork.continent', 'geoNetwork.country', 'geoNetwork.metro', 'geoNetwork.networkDomain', 'geoNetwork.region', 'geoNetwork.subContinent',\n    'trafficSource.adContent', 'trafficSource.adwordsClickInfo.adNetworkType', 'trafficSource.adwordsClickInfo.gclId', 'trafficSource.adwordsClickInfo.slot', 'trafficSource.campaign', 'trafficSource.keyword', 'trafficSource.medium', 'trafficSource.referralPath', 'trafficSource.source',\n]] + [(sparse.csr_matrix(df_train[i].values.reshape(-1, 1)), sparse.csr_matrix(df_test[i].values.reshape(-1, 1)), [i]) for i in [\n    'device.isMobile', 'totals.bounces', 'totals.hits', 'totals.newVisits', 'totals.pageviews', 'trafficSource.adwordsClickInfo.isVideoAd', 'trafficSource.adwordsClickInfo.page', 'trafficSource.isTrueDirect', 'visitNumber', 'visitStartTime.month', 'visitStartTime.week', 'visitStartTime.day', 'visitStartTime.weekday', 'visitStartTime.hour'\n]]\n\nX = sparse.hstack([i[0] for i in tmp]).tocsr()\nX_test = sparse.hstack([i[1] for i in tmp])\ncolumns = np.concatenate([i[2] for i in tmp])\n\n# # free up memory\n%xdel sparse\n%xdel encode_oh\n%xdel tmp",
      "execution_count": 17,
      "outputs": [
        {
          "output_type": "stream",
          "text": "CPU times: user 16.1 s, sys: 1.13 s, total: 17.3 s\nWall time: 17.3 s\n",
          "name": "stdout"
        }
      ]
    },
    {
      "metadata": {
        "trusted": true,
        "_uuid": "4ea0eca90fe4e8665ef71745dfdee2491559ef84"
      },
      "cell_type": "code",
      "source": "%%time\nfrom sklearn.preprocessing import LabelEncoder\ntmp_cats = [\n    'channelGrouping',\n    'device.browser', 'device.deviceCategory', 'device.operatingSystem', 'geoNetwork.city', 'geoNetwork.continent', 'geoNetwork.country', 'geoNetwork.metro', 'geoNetwork.networkDomain', 'geoNetwork.region', 'geoNetwork.subContinent',\n    'trafficSource.adContent', 'trafficSource.adwordsClickInfo.adNetworkType', 'trafficSource.adwordsClickInfo.gclId', 'trafficSource.adwordsClickInfo.slot', 'trafficSource.campaign', 'trafficSource.keyword', 'trafficSource.medium', 'trafficSource.referralPath', 'trafficSource.source',\n    'sessionId', 'visitId', 'fullVisitorId', # fullVisitorId could be useful\n]\ntmp_nums = ['device.isMobile', 'totals.bounces', 'totals.hits', 'totals.newVisits', 'totals.pageviews', 'trafficSource.adwordsClickInfo.isVideoAd', 'trafficSource.adwordsClickInfo.page', 'trafficSource.isTrueDirect', 'visitNumber', 'visitStartTime', 'visitStartTime.month', 'visitStartTime.week', 'visitStartTime.day', 'visitStartTime.weekday', 'visitStartTime.hour']\n\n# Xl: X using labelEncoder\nXl = df_train[tmp_cats + tmp_nums].copy()\nXl_test = df_test[tmp_cats + tmp_nums].copy()\n\nl = LabelEncoder()\nprint('Processing:', end=' ')\nfor i in tmp_cats:\n    print(i, end=', ')\n    # because labelencoder cannot encode unseen labels\n    Xl[i] = l.fit_transform(Xl[i]) + 1 # all existing labels will be +1\n    in_index = Xl_test[i].isin(l.classes_) # select rows in test_df where labels have been seen \n    Xl_test.loc[in_index, i] = l.transform(Xl_test[i][in_index]) + 1\n    Xl_test.loc[~in_index, i] = 0 # all unseen label will be coded 0\n#     l.fit(np.concatenate([Xl[i].values.astype(str), Xl_test[i].values.astype(str)]))\n#     Xl[i] = l.transform(Xl[i].values.astype(str))\n#     Xl_test[i] = l.transform(Xl_test[i].values.astype(str))\n\n# free up memory\n%xdel l\n%xdel tmp_cats\n%xdel tmp_nums",
      "execution_count": 18,
      "outputs": [
        {
          "output_type": "stream",
          "text": "Processing: channelGrouping, device.browser, device.deviceCategory, device.operatingSystem, geoNetwork.city, geoNetwork.continent, geoNetwork.country, geoNetwork.metro, geoNetwork.networkDomain, geoNetwork.region, geoNetwork.subContinent, trafficSource.adContent, trafficSource.adwordsClickInfo.adNetworkType, trafficSource.adwordsClickInfo.gclId, trafficSource.adwordsClickInfo.slot, trafficSource.campaign, trafficSource.keyword, trafficSource.medium, trafficSource.referralPath, trafficSource.source, sessionId, visitId, fullVisitorId, CPU times: user 22 s, sys: 1.88 s, total: 23.9 s\nWall time: 24 s\n",
          "name": "stdout"
        }
      ]
    },
    {
      "metadata": {
        "_uuid": "bc53095a00da2981d63c808d48e199df0bd52a45"
      },
      "cell_type": "markdown",
      "source": "## Saving data\nSave these data to be used later"
    },
    {
      "metadata": {
        "trusted": true,
        "_uuid": "92ab24d57b26ea3420d8fe6d4756e50aa0fb05ac"
      },
      "cell_type": "code",
      "source": "%%time\nimport pickle\n\nfor filename, obj in [\n    ('df_train', df_train), ('df_test', df_test),\n    ('X', X), ('X_test', X_test),\n    ('Xl', Xl), ('Xl_test', Xl_test),\n]:\n    with open(filename + '.pickle', 'wb') as handle: pickle.dump(obj, handle, protocol=pickle.HIGHEST_PROTOCOL)",
      "execution_count": 21,
      "outputs": [
        {
          "output_type": "stream",
          "text": "CPU times: user 4.62 s, sys: 3.52 s, total: 8.14 s\nWall time: 14.9 s\n",
          "name": "stdout"
        }
      ]
    },
    {
      "metadata": {
        "_uuid": "b63c16da2a27e3d6bf898d838aedd6a4d96a15fc"
      },
      "cell_type": "markdown",
      "source": ""
    }
  ],
  "metadata": {
    "kernelspec": {
      "display_name": "Python 3",
      "language": "python",
      "name": "python3"
    },
    "language_info": {
      "name": "python",
      "version": "3.6.6",
      "mimetype": "text/x-python",
      "codemirror_mode": {
        "name": "ipython",
        "version": 3
      },
      "pygments_lexer": "ipython3",
      "nbconvert_exporter": "python",
      "file_extension": ".py"
    }
  },
  "nbformat": 4,
  "nbformat_minor": 1
}