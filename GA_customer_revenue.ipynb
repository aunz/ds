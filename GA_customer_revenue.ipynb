{
  "cells": [
    {
      "metadata": {
        "_uuid": "9a620d80d7da0dc7b851405e479a4af6aa13f442"
      },
      "cell_type": "markdown",
      "source": "# Google Analytics Customer Revenue Prediction"
    },
    {
      "metadata": {
        "_uuid": "8f2839f25d086af736a60e9eeb907d3b93b6e0e5",
        "_cell_guid": "b1076dfc-b9ad-4769-8c92-a6c4dae69d19",
        "trusted": true
      },
      "cell_type": "code",
      "source": "import numpy as np\nimport pandas as pd\n\nimport matplotlib.pyplot as plt\nimport plotly.offline as py\nimport plotly.graph_objs as go\npy.init_notebook_mode(connected=True)",
      "execution_count": null,
      "outputs": []
    },
    {
      "metadata": {
        "_uuid": "85b8e77759c7e72f0ff6fc5fedba244d3bf6c7d2"
      },
      "cell_type": "markdown",
      "source": "Define a function to load the CSV files"
    },
    {
      "metadata": {
        "_cell_guid": "79c7e3d0-c299-4dcb-8224-4455121ee9b0",
        "_uuid": "d629ff2d2480ee46fbb7e2d37f6b5fab8052498a",
        "trusted": true
      },
      "cell_type": "code",
      "source": "%%time\n# https://www.kaggle.com/julian3833/1-quick-start-read-csv-and-flatten-json-fields/notebook\ndef load_df(csv_path='../input/ga-customer-revenue-prediction/train.csv', nrows=None):\n    JSON_COLUMNS = ['device', 'geoNetwork', 'totals', 'trafficSource']\n    \n    json = __import__('json')\n    json_normalize = pd.io.json.json_normalize\n    df = pd.read_csv(\n        csv_path,\n        converters={ column: json.loads for column in JSON_COLUMNS },\n        dtype={ 'fullVisitorId': 'str', 'visitId': 'str' },\n        nrows=nrows\n    )\n    \n    for column in JSON_COLUMNS:\n        column_as_df = json_normalize(df[column])\n        column_as_df.columns = [f'{column}.{subcolumn}' for subcolumn in column_as_df.columns]\n        df = df.drop(column, axis=1).merge(column_as_df, right_index=True, left_index=True)\n    print(f'Loaded {csv_path}. Shape: {df.shape}')\n    return df\n\n# df_train = load_df()\n# df_test = load_df('../input/ga-customer-revenue-prediction/test.csv')",
      "execution_count": null,
      "outputs": []
    },
    {
      "metadata": {
        "trusted": true,
        "_uuid": "990f3123d878b2f24b24b83479120d23206c4a4d"
      },
      "cell_type": "code",
      "source": "# %%time\n# df_train.to_csv('train-flattened.csv', index=False)\n# df_test.to_csv('test-flattened.csv', index=False)",
      "execution_count": null,
      "outputs": []
    },
    {
      "metadata": {
        "trusted": true,
        "_uuid": "50aab3cdd4d3f89bf8ebf52b1dcd9e9b8725c154"
      },
      "cell_type": "code",
      "source": "df_train = pd.read_csv('../input/ga-store-customer-revenue/train-flattened.csv', dtype={ 'fullVisitorId': str, 'visitId': str, 'trafficSource.campaignCode': str },)\ndf_test = pd.read_csv('../input/ga-store-customer-revenue/test-flattened.csv', dtype={ 'fullVisitorId': str, 'visitId': str },)",
      "execution_count": null,
      "outputs": []
    },
    {
      "metadata": {
        "_uuid": "dafcc5be45eb214e5033a1fb343d3481935e6b17"
      },
      "cell_type": "markdown",
      "source": "## Target variable\n`totals.transactionRevenue`\n1. There are 903653 records in the train set, 804684 in the test set\n2. Only 11515 records resulted in revenue, the remaining 892138 records had zero revenue.\n3. Of these, only 9996 visitors (out of 714167 unique visitors) had non-zero revenue. This translates to: only 1.4% of visitors bought something.\n4. From 2016-08 to 2017-08, GStore in this dataset had \\$1,540,071  in revenue, or \\$4,219 per day. With a min spend of \\$0.01, max of \\$23,129, mean of \\$133, and median of \\$49"
    },
    {
      "metadata": {
        "trusted": true,
        "_uuid": "eb3ea4c1e7e8cf5d0a7cf40f2de941ba84df988d",
        "_kg_hide-output": true
      },
      "cell_type": "code",
      "source": "df_train['totals.transactionRevenue'] = df_train['totals.transactionRevenue'].astype(float)\ndf_train['totals.transactionRevenue'].notnull().sum()\nnp.sum(df_train.groupby('fullVisitorId')['totals.transactionRevenue'].sum() > 0)\ndf_train['totals.transactionRevenue'].sum() / 1000000\n(df_train['totals.transactionRevenue'][df_train['totals.transactionRevenue'] > 0] / 1000000).agg(['min', 'max', 'mean', 'median'])",
      "execution_count": null,
      "outputs": []
    },
    {
      "metadata": {
        "_uuid": "022504207494a43177e2771a3c8b93c7bb28853e"
      },
      "cell_type": "markdown",
      "source": "## Predictors\n1. There are 54 predictos in the train set and 52 in the test set.\n2. Remove predictors not present in the test set\n3. Remove predictors where values are the same for all records\n4. Plot predictors vs number or records, vs number of records with revenue, vs revenue mean, vs revenue median"
    },
    {
      "metadata": {
        "trusted": true,
        "_uuid": "672248d1446e233ddf88501c0b7acd41cbad4ed6"
      },
      "cell_type": "code",
      "source": "columns = set(df_train.columns).intersection((set(df_test.columns))) # columns present in both train and test\nprint('Remove columns:', end=' ')\nfor i in df_train.columns[df_train.nunique(dropna=False) == 1].tolist() + df_test.columns[df_test.nunique(dropna=False) == 1].tolist():\n    if (i in columns):\n        print(i, end=', ')\n        columns.remove(i)",
      "execution_count": null,
      "outputs": []
    },
    {
      "metadata": {
        "trusted": true,
        "_uuid": "5aff90e1bb9d5392248d0b5cc78a87a771f3e6c3"
      },
      "cell_type": "code",
      "source": "def count(var):\n    tmp = pd.concat([\n        df_train[var].value_counts(),\n        df_train[df_train['totals.transactionRevenue'] > 0][var].value_counts(),\n        df_test[var].value_counts(),\n    ], keys=['train', 'train with revenue', 'test'], axis=1, sort=False)\n    tmp['train %'] = np.round(tmp['train'] / tmp['train'].sum() * 100, 1)\n    tmp['train with revenue %'] = np.round(tmp['train with revenue'] / tmp['train with revenue'].sum() * 100, 1)\n    tmp['test %'] = np.round(tmp['test'] / tmp['test'].sum() * 100, 1)\n    print(tmp.shape)\n    return(tmp)",
      "execution_count": null,
      "outputs": []
    },
    {
      "metadata": {
        "_uuid": "83bdf6b57c0e44b2e15d347673c5fe196a410070"
      },
      "cell_type": "markdown",
      "source": "### channelGrouping\n- There are 8 unique levels\n- The majority is \"Organic Search\""
    },
    {
      "metadata": {
        "trusted": true,
        "_uuid": "3ea270a3f66854eefb31283a9a4389764934e64f"
      },
      "cell_type": "code",
      "source": "count('channelGrouping')",
      "execution_count": null,
      "outputs": []
    },
    {
      "metadata": {
        "_uuid": "de016bef20a345c14bc990531e32e38c3ca6451a"
      },
      "cell_type": "markdown",
      "source": "### Date & visitStartTime\n- convert to datetime\n- Most date and visitStartTime are similar, some converstion from epoch to datetime in visitStartTime resulted in a diference of -1 days, likely due to not using the correct timezone. But this doesn't really matter.\n- Will remove the date column as most information can be extracted from visitStartTime"
    },
    {
      "metadata": {
        "trusted": true,
        "_uuid": "ae2d918908e6cbbd8a1e5d63e100d638f824062a"
      },
      "cell_type": "code",
      "source": "df_train['date'] = pd.to_datetime(df_train['date'], format='%Y%m%d')\ndf_train['visitStartTime'] = pd.to_datetime(df_train['visitStartTime'], unit='s')\ndf_test['date'] = pd.to_datetime(df_train['date'], format='%Y%m%d')\ndf_test['visitStartTime'] = pd.to_datetime(df_train['visitStartTime'], unit='s')\n(df_train['date'].dt.date - df_train['visitStartTime'].dt.date).value_counts() # this show most date and visitStartTime are the same\ncolumns.remove('date') # remove the date column",
      "execution_count": null,
      "outputs": []
    },
    {
      "metadata": {
        "_uuid": "98ec6d1b9171777de85b5e05b8dd164e009c897b"
      },
      "cell_type": "markdown",
      "source": "### device.browser\n- There are 192 of them in both train and test\n- The most populare is Chrome (68.7%), followed by Safari, then Firefox.\n- Some of them are present only either train or test set and the counts are very low."
    },
    {
      "metadata": {
        "trusted": true,
        "_uuid": "47d916e250c931c99e447bcf09edc3c73efa56ed"
      },
      "cell_type": "code",
      "source": "count('device.browser')",
      "execution_count": null,
      "outputs": []
    },
    {
      "metadata": {
        "_uuid": "e3d3a91815591e01838f2ca5a4e862e5db5b66cd"
      },
      "cell_type": "markdown",
      "source": "### device.deviceCategory\n- Desktop takes up ~ 3 quarters of the train set, about 1/3rd in the test set\n- Desktop contributed more than 90% of the total revenue"
    },
    {
      "metadata": {
        "trusted": true,
        "_uuid": "f68a6fe23f2b2688949633df0b0705e478040e3d"
      },
      "cell_type": "code",
      "source": "count('device.deviceCategory')",
      "execution_count": null,
      "outputs": []
    },
    {
      "metadata": {
        "_uuid": "6a5ac9069fe8bf6af4fb4fdeb7ad57ca7009adca"
      },
      "cell_type": "markdown",
      "source": "### device.operatingSystem\n- 24 levels in total\n- 6 of them: Windows, macintosh, Android, iOS, Linux and Chrome constitue to more than 99% of the market"
    },
    {
      "metadata": {
        "trusted": true,
        "_uuid": "346de8768230e689fbfe048053b008d0724825d1"
      },
      "cell_type": "code",
      "source": "count('device.operatingSystem')",
      "execution_count": null,
      "outputs": []
    },
    {
      "metadata": {
        "_uuid": "9b429593d45ccfd154738f7574f888e85cfba2bd"
      },
      "cell_type": "markdown",
      "source": "   ### geoNetwork.continent, geoNetwork.subContinent\n   - 5 continents + unset\n   - 23 subContinents\n   - America constituted to nearly half of the traffic and contributed to almost more than 95% of the total revenues\n   - Europe and Asia have also nearly half of the traffic, but their combined revenues are 2% of the total revenues"
    },
    {
      "metadata": {
        "trusted": true,
        "_uuid": "24c81f4180c8166c07b73ca13598299864ed3622"
      },
      "cell_type": "code",
      "source": "count('geoNetwork.continent')\ncount('geoNetwork.subContinent')",
      "execution_count": null,
      "outputs": []
    },
    {
      "metadata": {
        "_uuid": "f5e3d554266ab1c415133d707e03fc2cc5c551f5"
      },
      "cell_type": "markdown",
      "source": "### geoNetwork.country, geoNetwork.region, geoNetwork.city, geoNetwork.metro\n- 228 cities, 483 regions, 956 cities, 123 metros\n- US has 40% traffic, but ~95% revenue\n- Region: highest traffic from \"not available\" (56%), followed by California (12%). But the \"not available\" only had ~40% revenue, while California had ~29% revenue. Interestingly, New York also has high revenue (13%) relative to its traffic (2.9%).\n- City identified as \"not available\" has the highest traffic (56%) with ~ 39% revenue. The next in line is Mountain View with 4.5% traffic, but ~11% revenue.\n- Similary, metro of \"not available\" and \"not set\" have the highest combined traffic (~78%), but only ~42% revenue. Whereas San Francisco-Oakland-San Jose and New York have ~14% traffic but 39% revennue.\n\n### geoNetwork.networkDomain\n- 41982 network domains\n- 40%  are \"not set\" and \"unknown\", but they contributed to ~61% of the total revenue"
    },
    {
      "metadata": {
        "trusted": true,
        "_uuid": "80d113406907a6c850fcb623386887fa3e342012"
      },
      "cell_type": "code",
      "source": "count('geoNetwork.networkDomain')\ncount('geoNetwork.country')\ncount('geoNetwork.region')\ncount('geoNetwork.city')\ncount('geoNetwork.metro')",
      "execution_count": null,
      "outputs": []
    },
    {
      "metadata": {
        "_uuid": "3c2a0805bf160da4b79f12cbb4a271d57ea67025"
      },
      "cell_type": "markdown",
      "source": "### trafficSource.adContent, trafficSource.adwordsClickInfo.adNetworkType, trafficSource.adwordsClickInfo.gclId, trafficSource.adwordsClickInfo.isVideoAd, trafficSource.adwordsClickInfo.page, trafficSource.adwordsClickInfo.slot, trafficSource.campaign, trafficSource.isTrueDirect, trafficSource.keyword, trafficSource.medium, trafficSource.referralPath, trafficSource.source\n- 76 ad content, with Google Merchandise Collection having ~47% traffic and 82% revenue. Google Online Store has 11% traffic but ~3% revenue."
    },
    {
      "metadata": {
        "trusted": true,
        "_uuid": "7bd154461db34a9bd19873a7faedb0bb499e55b4"
      },
      "cell_type": "code",
      "source": "count('trafficSource.adContent')",
      "execution_count": null,
      "outputs": []
    },
    {
      "metadata": {
        "trusted": true,
        "_uuid": "3ec54b5b092a54c37459477174a4bd567375fea6"
      },
      "cell_type": "code",
      "source": "",
      "execution_count": null,
      "outputs": []
    },
    {
      "metadata": {
        "trusted": true,
        "_uuid": "535207d7761461aa291af9a3a5130d00ef97e8b8"
      },
      "cell_type": "code",
      "source": "",
      "execution_count": null,
      "outputs": []
    },
    {
      "metadata": {
        "trusted": true,
        "_uuid": "0e1c0c62e768e1f07aa9a67dc04e00acde43aad8"
      },
      "cell_type": "code",
      "source": "",
      "execution_count": null,
      "outputs": []
    },
    {
      "metadata": {
        "trusted": true,
        "_uuid": "2b9c22aadb1173b849f2ce0191641046b480281e"
      },
      "cell_type": "markdown",
      "source": "### Various Id\n - 902755 sessionId\n - 886303 visitId\n - 714167  fullVisitorId\n\n## Plots"
    },
    {
      "metadata": {
        "trusted": true,
        "_uuid": "a1190d5133fa295aac53190f3dfd37d56b90dbf3"
      },
      "cell_type": "code",
      "source": "def make_button(var, title = '', max_row = 10, df = df_train, target_var = 'totals.transactionRevenue'):\n    # create data for the 'updatemenus' used by plotly\n    # agg data from var ~ target_vaar into size, count, mean, median\n    # return dict()\n    tmp = df.groupby(var)[target_var].agg(['size', 'sum', 'mean', 'median'])\n    tmp = tmp.sort_values('size', ascending=False)[:max_row][::-1] # by defaul, take only the top 10 rows ordered by size\n    tmp = {\n        'x': [tmp['size'].values, tmp['sum'].values , tmp['mean'].values, tmp['median'].values],\n        'y': [[str(i) for i in tmp.index.tolist()]] * 4, # str(i) to convert all to string, because some of the indexes are True, False\n    }\n    title = title or var\n    return dict(args=[tmp, { 'title': title }], label=title, method='update') \n\n# plotting\n## data\ntmp = make_button('device.deviceCategory', 'Device Category')\nx = tmp['args'][0]['x']\ny = tmp['args'][0]['y'][0]\n\n## trace\ntraces = [None] * 4\ntraces[0] = (go.Bar(x=x[0], y=y, orientation='h'))\ntraces[1] = (go.Bar(x=x[1], y=y, orientation='h'))\ntraces[2] = (go.Bar(x=x[3], y=y, orientation='h', name='Median')) # median goes first, the resulting bar graph will place median at the bottom\ntraces[3] = (go.Bar(x=x[2], y=y, orientation='h', name='Mean'))\n\n## fig, subplot\nfig = __import__('plotly').tools.make_subplots(1, 3, subplot_titles=['Number of record', 'Total revenue', 'Mean & Median'])\nfor i in range(3): fig.append_trace(traces[i], 1, i + 1)\nfig.append_trace(traces[-1], 1, 3)\n\n## fig, layout\nfig.layout.title = tmp['args'][1]['title']\nfig.layout.showlegend = False\nfig.layout.updatemenus = list([\n    dict(\n        buttons=[make_button(i) for i in [\n            'device.deviceCategory', 'device.operatingSystem', 'device.browser', 'device.isMobile',\n            'geoNetwork.continent', 'geoNetwork.subContinent', 'geoNetwork.country', 'geoNetwork.region', 'geoNetwork.metro', 'geoNetwork.city', 'geoNetwork.networkDomain',\n            'trafficSource.source', 'trafficSource.medium', 'trafficSource.keyword', 'trafficSource.campaign', 'trafficSource.referralPath', 'trafficSource.isTrueDirect',\n            'trafficSource.adContent', 'trafficSource.adwordsClickInfo.adNetworkType', 'trafficSource.adwordsClickInfo.gclId',\n        ]],\n        direction = 'down',\n        showactive = True,\n        x = 0,\n        xanchor = 'left',\n        y = 1.25,\n        yanchor = 'top' \n    ),\n])\n\n## now plot\npy.iplot(fig)",
      "execution_count": null,
      "outputs": []
    },
    {
      "metadata": {
        "_uuid": "7dc27b31e5891bd51fcfbd4a891e60c49dfc087b"
      },
      "cell_type": "markdown",
      "source": "- **Device category**: desktop has a higher total revenue compared to mobile & tablet proporrtional to their traffic.\n- **Operating systerm**: Macintosh has a higher revenues even though it has lower traffic compared to Windoes. Chrome OS also has a high revenue relative to its traffic.\n- **Browser**: Chrome has the higest traffic and revenue. Safari has the 2nd highest traffic, but its revenue is comparatively lower based on its traffic.\n- **Is mobile**: Mobile traffic is just a litte bit over 1/3rd of non-mobile, but its revenue is only 1/10th of non-mobile.\n\n- **Continent & subContinent**: Americas has proportinally higher revenues compared to Asia & Europe. Revenues came mostly from Northern America even though other continents have high traffic.\n- **Country**: again most revenues came from US.\n- **Region**: revenues came mostly from \"not vailable in demo dataset\", followed by California. Interestingly, New York, Texas, Washington & Illinois all have high revenues relative to their traffic.\n- **City**: again revenues came mostly from \"not avilable in demo dataset\". New York, Mountain View, San Francisco, Los Angeles have high revenues relative to their traffic.\n- **Metro**: similar patterns to City.\n- **Network domain**: revneues come predominantly from \"(not set)\". The unknown.unknow has a relatively high traffic, but low revenues.\n\n- **Traffic source**: mall.googleplex.com generated most revenues, given that it has lower traffic compared to the other. Youtube did poorly given it had high traffic.\n- **Medium**: referral generated a higher revenue than the other. It's understandable. Affiliate generated a much less revenue based on its traffic.\n- **Keyword, campain**: \"(not provided)\", \"(not set)\" have the highest revenue. Nothing much can be said, many of them are \"code\".\n- **Ad content**: Google Merchandise Collection has the highest revenue. Google online store doesn't seem to fare well given its traffic.\n- **gclId**: Google Click Identifier, nothing much can be said."
    },
    {
      "metadata": {
        "trusted": true,
        "_uuid": "41979c54ce5b850d5c2f9268a82b5f761cd3ba89"
      },
      "cell_type": "code",
      "source": "df_train.visitStartTime",
      "execution_count": null,
      "outputs": []
    },
    {
      "metadata": {
        "_uuid": "b63c16da2a27e3d6bf898d838aedd6a4d96a15fc"
      },
      "cell_type": "markdown",
      "source": ""
    }
  ],
  "metadata": {
    "kernelspec": {
      "display_name": "Python 3",
      "language": "python",
      "name": "python3"
    },
    "language_info": {
      "name": "python",
      "version": "3.6.6",
      "mimetype": "text/x-python",
      "codemirror_mode": {
        "name": "ipython",
        "version": 3
      },
      "pygments_lexer": "ipython3",
      "nbconvert_exporter": "python",
      "file_extension": ".py"
    }
  },
  "nbformat": 4,
  "nbformat_minor": 1
}