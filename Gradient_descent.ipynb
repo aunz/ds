{
  "nbformat": 4,
  "nbformat_minor": 0,
  "metadata": {
    "colab": {
      "name": "Gradient descent",
      "version": "0.3.2",
      "provenance": [],
      "collapsed_sections": [],
      "toc_visible": true,
      "include_colab_link": true
    },
    "kernelspec": {
      "name": "python3",
      "display_name": "Python 3"
    }
  },
  "cells": [
    {
      "cell_type": "markdown",
      "metadata": {
        "id": "view-in-github",
        "colab_type": "text"
      },
      "source": [
        "[View in Colaboratory](https://colab.research.google.com/github/aunz/ds/blob/master/Gradient_descent.ipynb)"
      ]
    },
    {
      "metadata": {
        "id": "kJSDscjDe7vr",
        "colab_type": "text"
      },
      "cell_type": "markdown",
      "source": [
        "# Gradient descent\n",
        "\n",
        "We will use gradient descent to find the intercept and slope for a simple linear regression "
      ]
    },
    {
      "metadata": {
        "id": "hAvOi-FAeJ-L",
        "colab_type": "code",
        "colab": {}
      },
      "cell_type": "code",
      "source": [
        "import numpy as np\n",
        "import matplotlib.pyplot as plt"
      ],
      "execution_count": 0,
      "outputs": []
    },
    {
      "metadata": {
        "id": "rHmZUHMLfSjU",
        "colab_type": "text"
      },
      "cell_type": "markdown",
      "source": [
        "## Data creation\n",
        "\n",
        "1) Create some random data with:\n",
        "- Intercept  θ<sub>0</sub> = 3\n",
        "- slope θ<sub>1</sub> = 5\n",
        "\n",
        "2) Plot the data\n",
        "\n",
        "3) Determine the intecept and slope with an analytical approach using matrix algebra **θ = (X' X)<sup>-1</sup> X' y**\n",
        "\n",
        "4) Draw the regression line using theta from step 3"
      ]
    },
    {
      "metadata": {
        "id": "kGWEEFvBeej8",
        "colab_type": "code",
        "colab": {
          "base_uri": "https://localhost:8080/",
          "height": 370
        },
        "outputId": "355e021f-9fa3-4843-9768-fed4c470f437"
      },
      "cell_type": "code",
      "source": [
        "# 1) some random data\n",
        "np.random.seed(0) # for reproducibility\n",
        "X = 3 * np.random.rand(100, 1)\n",
        "y = 3 + 5 * X + np.random.randn(100, 1)\n",
        "\n",
        "# 2) plot the raw data\n",
        "plt.plot(X, y, 'g.')\n",
        "plt.xlabel('X', fontsize=16)\n",
        "plt.ylabel('y', fontsize=16)\n",
        "plt.axis([0, np.ceil(X.max()), 0, np.ceil(y.max())])\n",
        "\n",
        "# 3) determine theta\n",
        "X_1 = np.column_stack((np.ones(len(X)), X)) # need to add a column of 1 for X\n",
        "theta = np.linalg.inv(X_1.T.dot(X_1)).dot(X_1.T).dot(y)\n",
        "\n",
        "# 4) draw the regression line\n",
        "plt.plot([0, 3], np.dot([[1, 0], [1, 3]], theta))\n",
        "plt.text(0.25, 17.5, 'Intercept θ0: {0[0]:.3f}\\nSlope θ1: {1[0]:.3f}'.format(*theta), va='center');"
      ],
      "execution_count": 94,
      "outputs": [
        {
          "output_type": "display_data",
          "data": {
            "image/png": "[encoded data removed]",
            "text/plain": [
              "<matplotlib.figure.Figure at 0x7fb13f919898>"
            ]
          },
          "metadata": {
            "tags": []
          }
        }
      ]
    },
    {
      "metadata": {
        "id": "Sv66LB2Il2Tq",
        "colab_type": "text"
      },
      "cell_type": "markdown",
      "source": [
        "The intercept (3.222) and slope (4.979) are not exactly the same but close to our pre-chosen intercept (3.0) and slope (5.0), due to random noise we introduced for y.\n",
        "\n",
        "Now we can implement **gradient descent** and see what theta (intercept and slope) we will get. We will define\n",
        "- Cost function: difference between the expected and target value\n",
        "- Gradient"
      ]
    },
    {
      "metadata": {
        "id": "3ge9ZJuHq8pc",
        "colab_type": "code",
        "colab": {}
      },
      "cell_type": "code",
      "source": [
        "# there are many ways to define a cost function, but in the end it should return a single value\n",
        "# the cost function below calculate root mean square error (RMSE)\n",
        "def cost(target, predicted):\n",
        "    return (1 / (2 * len(target)) ) * np.sum(np.square(predicted - target))\n",
        "\n",
        "def predict(X, theta):\n",
        "    # return prediction given X and theta\n",
        "    X_1 = np.column_stack((np.ones(len(X)), X))\n",
        "    return np.dot(X_1, theta)"
      ],
      "execution_count": 0,
      "outputs": []
    },
    {
      "metadata": {
        "id": "60Ls11GvsqrS",
        "colab_type": "code",
        "colab": {
          "base_uri": "https://localhost:8080/",
          "height": 35
        },
        "outputId": "b9fdd9e9-3c81-4166-a549-957cc1a87556"
      },
      "cell_type": "code",
      "source": [
        ""
      ],
      "execution_count": 100,
      "outputs": [
        {
          "output_type": "execute_result",
          "data": {
            "text/plain": [
              "(100, 3)"
            ]
          },
          "metadata": {
            "tags": []
          },
          "execution_count": 100
        }
      ]
    }
  ]
}